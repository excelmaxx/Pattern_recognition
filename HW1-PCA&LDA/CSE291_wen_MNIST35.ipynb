{
 "cells": [
  {
   "cell_type": "code",
   "execution_count": 3,
   "metadata": {
    "collapsed": true
   },
   "outputs": [],
   "source": [
    "import pandas as pd\n",
    "import numpy as np\n",
    "from sklearn.preprocessing import normalize\n",
    "import warnings\n",
    "warnings.filterwarnings('ignore')\n",
    "\n",
    "mnist_train_path = 'train.csv'\n",
    "mnist_test_path = 'test.csv'\n",
    "\n",
    "mnist_train_df = pd.read_csv(mnist_train_path, header=None).T\n",
    "mnist_test_df = pd.read_csv(mnist_test_path, header=None).T\n",
    "last_column = mnist_test_df.columns[-1]\n",
    "mnist_train_df.rename(columns={last_column:'Class'}, inplace=True)\n",
    "mnist_test_df.rename(columns={last_column:'Class'}, inplace=True)"
   ]
  },
  {
   "cell_type": "code",
   "execution_count": 4,
   "metadata": {
    "collapsed": true
   },
   "outputs": [],
   "source": [
    "index_0s = mnist_train_df['Class'] == 0\n",
    "index_1s = mnist_train_df['Class'] == 1\n",
    "index_3s = mnist_train_df['Class'] == 3\n",
    "index_5s = mnist_train_df['Class'] == 5\n",
    "\n",
    "mnist_train_0_1_df = mnist_train_df.loc[index_0s | index_1s]\n",
    "mnist_train_3_5_df = mnist_train_df.loc[index_3s | index_5s]"
   ]
  },
  {
   "cell_type": "code",
   "execution_count": 5,
   "metadata": {
    "collapsed": true
   },
   "outputs": [],
   "source": [
    "index_0s = mnist_test_df['Class'] == 0\n",
    "index_1s = mnist_test_df['Class'] == 1\n",
    "index_3s = mnist_test_df['Class'] == 3\n",
    "index_5s = mnist_test_df['Class'] == 5\n",
    "\n",
    "mnist_test_0_1_df = mnist_test_df.loc[index_0s | index_1s]\n",
    "mnist_test_3_5_df = mnist_test_df.loc[index_3s | index_5s]"
   ]
  },
  {
   "cell_type": "code",
   "execution_count": 6,
   "metadata": {
    "collapsed": true
   },
   "outputs": [],
   "source": [
    "import matplotlib as mpl\n",
    "import matplotlib.pyplot as plt\n",
    "%matplotlib inline\n",
    "\n",
    "X_0_1 = mnist_train_0_1_df.drop('Class',axis=1)\n",
    "X_3_5 = mnist_train_3_5_df.drop('Class',axis=1)\n",
    "\n",
    "y_0_1 = mnist_train_0_1_df['Class']\n",
    "y_3_5 = mnist_train_3_5_df['Class']"
   ]
  },
  {
   "cell_type": "code",
   "execution_count": 7,
   "metadata": {
    "collapsed": true
   },
   "outputs": [],
   "source": [
    "X_0_1t = mnist_test_0_1_df.drop('Class',axis=1)\n",
    "X_3_5t = mnist_test_3_5_df.drop('Class',axis=1)\n",
    "\n",
    "y_0_1t = mnist_test_0_1_df['Class']\n",
    "y_3_5t = mnist_test_3_5_df['Class']"
   ]
  },
  {
   "cell_type": "code",
   "execution_count": 8,
   "metadata": {
    "collapsed": false
   },
   "outputs": [
    {
     "data": {
      "image/png": "[encoded data removed]",
      "text/plain": [
       "<matplotlib.figure.Figure at 0x7fa57ef409d0>"
      ]
     },
     "metadata": {},
     "output_type": "display_data"
    }
   ],
   "source": [
    "plt.figure(figsize=(12,10))\n",
    "numbers = [0,1,12663,12664]\n",
    "for i in range(4):\n",
    "    example = X_0_1.ix[numbers[i]].reshape(28, 28).T\n",
    "    plt.subplot(2, 2, i+1)\n",
    "    plt.imshow(example, cmap='gray_r', interpolation='nearest')\n",
    "    plt.axis(\"off\")\n",
    "plt.tight_layout()"
   ]
  },
  {
   "cell_type": "code",
   "execution_count": 9,
   "metadata": {
    "collapsed": false
   },
   "outputs": [
    {
     "data": {
      "text/plain": [
       "(11552, 784)"
      ]
     },
     "execution_count": 9,
     "metadata": {},
     "output_type": "execute_result"
    }
   ],
   "source": [
    "X_3_5.shape"
   ]
  },
  {
   "cell_type": "code",
   "execution_count": 10,
   "metadata": {
    "collapsed": false,
    "scrolled": true
   },
   "outputs": [
    {
     "name": "stdout",
     "output_type": "stream",
     "text": [
      "(784, 784)\n"
     ]
    }
   ],
   "source": [
    "#X_std = pd.DataFrame(StandardScaler().fit_transform(X_0_1), columns=names[1:])\n",
    "# my PCA\n",
    "# part 0 standarize\n",
    "from sklearn.preprocessing import StandardScaler\n",
    "#X_std = StandardScaler().fit_transform(X_0_1)\n",
    "\n",
    "# part 1\n",
    "X_np = X_3_5\n",
    "X_mu = np.mean(X_np, axis = 0)\n",
    "X_sigma = np.cov(X_np.T)\n",
    "\n",
    "print X_sigma.shape"
   ]
  },
  {
   "cell_type": "code",
   "execution_count": 11,
   "metadata": {
    "collapsed": true
   },
   "outputs": [],
   "source": [
    "import numpy.linalg as LA\n",
    "#eig_vec, eig_val, V = LA.svd(X_sigma)\n",
    "eig_val, eig_vec = LA.eig(X_sigma)\n",
    "pairs = [[np.abs(eig_val[i].real), eig_vec[:, i].real] for i in range(len(eig_val))]\n",
    "pairs = sorted(pairs, key = lambda row : row[0], reverse = True)\n",
    "\n",
    "    #print('eigenvalues:', [row[1] for row in pairs])\n",
    "\n",
    "    # part 3 construct projection matrix W (to dimension k)\n",
    "    # recover all the eig_vecs\n",
    "eig_vecs_sorted = [row[1] for row in pairs]"
   ]
  },
  {
   "cell_type": "code",
   "execution_count": 12,
   "metadata": {
    "collapsed": false
   },
   "outputs": [
    {
     "data": {
      "text/plain": [
       "(784,)"
      ]
     },
     "execution_count": 12,
     "metadata": {},
     "output_type": "execute_result"
    }
   ],
   "source": [
    "eig_val.shape"
   ]
  },
  {
   "cell_type": "code",
   "execution_count": 13,
   "metadata": {
    "collapsed": false,
    "scrolled": true
   },
   "outputs": [
    {
     "name": "stdout",
     "output_type": "stream",
     "text": [
      "5.90088905128\n",
      "4.08049774264\n",
      "3.4972783543\n",
      "2.66403012737\n",
      "2.16594445613\n",
      "1.86061169698\n",
      "1.50353679852\n",
      "1.3371070646\n",
      "1.25597068887\n",
      "1.15401945399\n"
     ]
    }
   ],
   "source": [
    "for i in range(10):\n",
    "    print pairs[i][0]"
   ]
  },
  {
   "cell_type": "code",
   "execution_count": 14,
   "metadata": {
    "collapsed": false,
    "scrolled": true
   },
   "outputs": [
    {
     "data": {
      "image/png": "[encoded data removed]",
      "text/plain": [
       "<matplotlib.figure.Figure at 0x7fa56ed7cad0>"
      ]
     },
     "metadata": {},
     "output_type": "display_data"
    }
   ],
   "source": [
    "plt.figure(figsize=(10,10))\n",
    "plt.imshow(eig_vecs_sorted[0].reshape((28, 28)).T, cmap='gray', interpolation='nearest')\n",
    "plt.axis(\"off\")\n",
    "plt.show()"
   ]
  },
  {
   "cell_type": "code",
   "execution_count": 15,
   "metadata": {
    "collapsed": true
   },
   "outputs": [],
   "source": [
    "# set the training set before the training!!!\n",
    "X_train = X_3_5\n",
    "y_train = y_3_5\n",
    "X_test = X_3_5t\n",
    "y_test = y_3_5t\n",
    "\n",
    "# the list of Classes\n",
    "Cs = [3, 5]\n",
    "\n",
    "#labels name\n",
    "labels = ['Class 3', 'Class 5']"
   ]
  },
  {
   "cell_type": "code",
   "execution_count": 16,
   "metadata": {
    "collapsed": false
   },
   "outputs": [],
   "source": [
    "# My LDA\n",
    "# problem: \n",
    "# 1. compute d-dimensional mean vector for the different classes\n",
    "# 2. Compute the scatter matrices (in-between-class and within-class)\n",
    "# 3. Compute eigencector and eigenvalues for the scatter matrices\n",
    "# 4. Sort by eigenvalues, choose k eigenvectors form W\n",
    "# 5.  \n",
    "# Do not use X_std\n",
    "# Part 0 nomalize first\n",
    "#def MyLDA(X, Cs)\n",
    "\n",
    "# parameters:\n",
    "# input X\n",
    "X = X_train\n",
    "y = y_train\n",
    "\n",
    "# the number of dimension remain\n",
    "k = 20\n",
    "\n",
    "# Part 1 compuate mean\n",
    "num_class = len(Cs)\n",
    "di = X.shape[1]\n",
    "X_means = []\n",
    "X_cls = []\n",
    "\n",
    "for i in Cs:\n",
    "    tempi = X[y == i].as_matrix()\n",
    "    X_cls.append(tempi)\n",
    "    X_means.append(np.mean(tempi, axis = 0))\n",
    "\n",
    "# Part 2 compute Scatter Matrix Sw\n",
    "Sw = np.zeros([di,di])\n",
    "for i in range(0, num_class):\n",
    "    Sw += (len(X_cls[i])-1)*np.cov(X_cls[i].T)\n",
    "\n",
    "mean_all = np.mean(X, axis = 0)\n",
    "mean_all = mean_all.reshape(di,1)\n",
    "\n",
    "Sb = np.zeros((di, di))\n",
    "for i in range(0, num_class):\n",
    "    meani = X_means[i]\n",
    "    meani = meani.reshape(di, 1)\n",
    "    Sb += len(X_cls[i]) * (meani - mean_all).dot((meani - mean_all).T)\n",
    "\n",
    "Sb.shape\n",
    "\n",
    "# add small value to the diagonal to make in non singular\n",
    "Sw2 = Sw + np.eye(784) * 1e-06"
   ]
  },
  {
   "cell_type": "code",
   "execution_count": 17,
   "metadata": {
    "collapsed": false
   },
   "outputs": [],
   "source": [
    "# part solving eigenvec and eigenval for Sw^-1 Sb\n",
    "eig_val, eig_vec = LA.eig(LA.inv(Sw2).dot(Sb))\n",
    "eig_val = eig_val.real\n",
    "eig_vec = eig_vec.real\n",
    "\n",
    "# check the correction\n",
    "#for i in range(len(eig_val)):\n",
    " #   v = eig_vec[:, i].reshape(di, 1)\n",
    "  #  np.testing.assert_array_almost_equal(LA.inv(Sw).dot(Sb).dot(v),\n",
    "   #                                     eig_val[i] * v, decimal = 6\n",
    "    #                                   ,err_msg = '', verbose=True)\n",
    "\n",
    "# Part 4 rank and select\n",
    "pairs = [[eig_val[i], eig_vec[:, i]] for i in range(len(eig_val))]\n",
    "pairs = sorted(pairs, key = lambda row : row[0], reverse = True)\n",
    "\n",
    "\n",
    "# recover all the eig_vecs\n",
    "eig_vecs_sorted = [row[1] for row in pairs]\n",
    "W = eig_vecs_sorted[0:k]\n",
    "W = np.matrix(W)\n",
    "W = W"
   ]
  },
  {
   "cell_type": "code",
   "execution_count": 18,
   "metadata": {
    "collapsed": false,
    "scrolled": true
   },
   "outputs": [
    {
     "data": {
      "image/png": "[encoded data removed]",
      "text/plain": [
       "<matplotlib.figure.Figure at 0x7fa576035b90>"
      ]
     },
     "metadata": {},
     "output_type": "display_data"
    }
   ],
   "source": [
    "plt.figure(figsize=(10,10))\n",
    "plt.imshow(-W[0].reshape((28, 28)).T, cmap='gray', interpolation='nearest')\n",
    "plt.axis(\"off\")\n",
    "plt.show()"
   ]
  },
  {
   "cell_type": "code",
   "execution_count": 19,
   "metadata": {
    "collapsed": false,
    "scrolled": true
   },
   "outputs": [
    {
     "name": "stdout",
     "output_type": "stream",
     "text": [
      "('X_std_lda.shape:', (11552, 1))\n",
      "('lda.coef_:', (1, 784))\n"
     ]
    },
    {
     "data": {
      "image/png": "[encoded data removed]",
      "text/plain": [
       "<matplotlib.figure.Figure at 0x7fa5ad4dcbd0>"
      ]
     },
     "metadata": {},
     "output_type": "display_data"
    }
   ],
   "source": [
    "\n",
    "#compare with provided LDA\n",
    "from sklearn.discriminant_analysis import LinearDiscriminantAnalysis\n",
    "lda = LinearDiscriminantAnalysis()\n",
    "X_std_lda = lda.fit_transform(X, y)\n",
    "print('X_std_lda.shape:', X_std_lda.shape)\n",
    "print('lda.coef_:', lda.coef_.shape)\n",
    "\n",
    "plt.figure(figsize=(10,10))\n",
    "plt.imshow(lda.coef_[0].reshape((28, 28)).T, cmap='gray', interpolation='nearest')\n",
    "plt.axis(\"off\")\n",
    "plt.show()\n",
    "# myLDA is same with LA.lda, but result is wierd ......\n",
    "\n"
   ]
  },
  {
   "cell_type": "code",
   "execution_count": 20,
   "metadata": {
    "collapsed": false
   },
   "outputs": [
    {
     "data": {
      "text/plain": [
       "(1, 784)"
      ]
     },
     "execution_count": 20,
     "metadata": {},
     "output_type": "execute_result"
    }
   ],
   "source": [
    "W[0].shape"
   ]
  },
  {
   "cell_type": "code",
   "execution_count": 21,
   "metadata": {
    "collapsed": false
   },
   "outputs": [
    {
     "data": {
      "text/plain": [
       "(1, 784)"
      ]
     },
     "execution_count": 21,
     "metadata": {},
     "output_type": "execute_result"
    }
   ],
   "source": [
    "lda.coef_.shape"
   ]
  },
  {
   "cell_type": "code",
   "execution_count": 26,
   "metadata": {
    "collapsed": false
   },
   "outputs": [
    {
     "data": {
      "image/png": "[encoded data removed]",
      "text/plain": [
       "<matplotlib.figure.Figure at 0x7fa568af9850>"
      ]
     },
     "metadata": {},
     "output_type": "display_data"
    }
   ],
   "source": [
    "import matplotlib as mpl\n",
    "import matplotlib.pyplot as plt\n",
    "f, (ax1, ax2, ax3, ax4) = plt.subplots(1,4,figsize=(20,15))\n",
    "orig_X = X_3_5.ix[X_3_5.index[0]]\n",
    "eig_vecs_sorted = np.matrix(eig_vecs_sorted)\n",
    "\n",
    "ax1.imshow(orig_X.reshape((28, 28)).T, cmap='gray_r', interpolation='nearest'); ax1.set_axis_off()\n",
    "\n",
    "projection = orig_X.reshape(1, -1) * eig_vecs_sorted.T\n",
    "ax2.imshow(projection.reshape((28, 28)).T, cmap='gray_r', interpolation='nearest'); ax2.set_axis_off()\n",
    "\n",
    "reconstruction = projection * eig_vecs_sorted\n",
    "ax3.imshow(reconstruction.reshape((28, 28)).T, cmap='gray_r', interpolation='nearest'); ax3.set_axis_off()\n",
    "\n",
    "diff = normalize(np.array(orig_X, dtype=pd.Series) - reconstruction, axis=1).ravel()\n",
    "ax4.imshow(diff.reshape((28, 28)).T, cmap='gray_r', interpolation='nearest'); ax4.set_axis_off(); plt.show();"
   ]
  },
  {
   "cell_type": "code",
   "execution_count": 23,
   "metadata": {
    "collapsed": false
   },
   "outputs": [
    {
     "data": {
      "image/png": "[encoded data removed]",
      "text/plain": [
       "<matplotlib.figure.Figure at 0x7fa56e4ccb90>"
      ]
     },
     "metadata": {},
     "output_type": "display_data"
    }
   ],
   "source": [
    "import matplotlib as mpl\n",
    "import matplotlib.pyplot as plt\n",
    "f, (ax1, ax2, ax3, ax4) = plt.subplots(1,4,figsize=(20,15))\n",
    "orig_X = X_3_5.ix[X_3_5.index[-1]]\n",
    "eig_vecs_sorted = np.matrix(eig_vecs_sorted)\n",
    "\n",
    "ax1.imshow(orig_X.reshape((28, 28)).T, cmap='gray_r', interpolation='nearest'); ax1.set_axis_off()\n",
    "\n",
    "projection = orig_X.reshape(1, -1) * eig_vecs_sorted.T\n",
    "ax2.imshow(projection.reshape((28, 28)).T, cmap='gray_r', interpolation='nearest'); ax2.set_axis_off()\n",
    "\n",
    "reconstruction = projection * eig_vecs_sorted\n",
    "ax3.imshow(reconstruction.reshape((28, 28)).T, cmap='gray_r', interpolation='nearest'); ax3.set_axis_off()\n",
    "\n",
    "diff = normalize(np.array(orig_X, dtype=pd.Series) - reconstruction, axis=1).ravel()\n",
    "ax4.imshow(diff.reshape((28, 28)).T, cmap='gray_r', interpolation='nearest'); ax4.set_axis_off(); plt.show();"
   ]
  },
  {
   "cell_type": "code",
   "execution_count": 20,
   "metadata": {
    "collapsed": false
   },
   "outputs": [
    {
     "name": "stdout",
     "output_type": "stream",
     "text": [
      "confusion_matrix for training set\n",
      "[[6079   52]\n",
      " [ 849 4572]]\n"
     ]
    }
   ],
   "source": [
    "# projection\n",
    "pred = X_train.dot(W[0].T)\n",
    "pred[pred > 0] = Cs[0]\n",
    "pred[pred <= 0] = Cs[1]\n",
    "\n",
    "from sklearn.metrics import confusion_matrix\n",
    "import pylab as pl\n",
    "accuracy = confusion_matrix(y_train,pred)\n",
    "print \"confusion_matrix for training set\"\n",
    "print accuracy"
   ]
  },
  {
   "cell_type": "code",
   "execution_count": 21,
   "metadata": {
    "collapsed": false
   },
   "outputs": [
    {
     "name": "stdout",
     "output_type": "stream",
     "text": [
      "confusion_matrix for test set\n",
      "[[999  11]\n",
      " [167 725]]\n"
     ]
    }
   ],
   "source": [
    "# projection\n",
    "pred = X_test.dot(W[0].T)\n",
    "pred[pred > 0] = Cs[0]\n",
    "pred[pred <= 0] = Cs[1]\n",
    "\n",
    "from sklearn.metrics import confusion_matrix\n",
    "import pylab as pl\n",
    "accuracy = confusion_matrix(y_test,pred)\n",
    "print \"confusion_matrix for test set\"\n",
    "print accuracy"
   ]
  },
  {
   "cell_type": "code",
   "execution_count": 22,
   "metadata": {
    "collapsed": true
   },
   "outputs": [],
   "source": [
    "import itertools\n",
    "\n",
    "def plot_confusion_matrix(cm, classes,\n",
    "                          normalize=False,\n",
    "                          title='Confusion matrix',\n",
    "                          cmap=plt.cm.Blues):\n",
    "    \"\"\"\n",
    "    This function prints and plots the confusion matrix.\n",
    "    Normalization can be applied by setting `normalize=True`.\n",
    "    \"\"\"\n",
    "    plt.imshow(cm, interpolation='nearest', cmap=cmap)\n",
    "    plt.title(title)\n",
    "    plt.colorbar()\n",
    "    tick_marks = np.arange(len(classes))\n",
    "    plt.xticks(tick_marks, classes, rotation=45)\n",
    "    plt.yticks(tick_marks, classes)\n",
    "\n",
    "    if normalize:\n",
    "        cm = cm.astype('float') / cm.sum(axis=1)[:, np.newaxis]\n",
    "        print(\"Normalized confusion matrix\")\n",
    "    else:\n",
    "        print('Confusion matrix, without normalization')\n",
    "\n",
    "    print(cm)\n",
    "\n",
    "    thresh = cm.max() / 2.\n",
    "    for i, j in itertools.product(range(cm.shape[0]), range(cm.shape[1])):\n",
    "        plt.text(j, i, cm[i, j],\n",
    "                 horizontalalignment=\"center\",\n",
    "                 color=\"white\" if cm[i, j] > thresh else \"black\")\n",
    "\n",
    "    plt.tight_layout()\n",
    "    plt.ylabel('True label')\n",
    "    plt.xlabel('Predicted label')"
   ]
  },
  {
   "cell_type": "code",
   "execution_count": 23,
   "metadata": {
    "collapsed": false
   },
   "outputs": [
    {
     "name": "stdout",
     "output_type": "stream",
     "text": [
      "Confusion matrix, without normalization\n",
      "[[999  11]\n",
      " [167 725]]\n",
      "Normalized confusion matrix\n",
      "[[ 0.98910891  0.01089109]\n",
      " [ 0.18721973  0.81278027]]\n"
     ]
    },
    {
     "data": {
      "image/png": "[encoded data removed]",
      "text/plain": [
       "<matplotlib.figure.Figure at 0x7f2a0e0e32d0>"
      ]
     },
     "metadata": {},
     "output_type": "display_data"
    },
    {
     "data": {
      "image/png": "[encoded data removed]",
      "text/plain": [
       "<matplotlib.figure.Figure at 0x7f2a0961d590>"
      ]
     },
     "metadata": {},
     "output_type": "display_data"
    }
   ],
   "source": [
    "#labels = ['Class 0', 'Class 1']\n",
    "labels = ['Class 3', 'Class 5']\n",
    "# Plot non-normalized confusion matrix\n",
    "plt.figure()\n",
    "plot_confusion_matrix(accuracy, classes=labels,\n",
    "                      title='Confusion matrix, without normalization')\n",
    "\n",
    "# Plot normalized confusion matrix\n",
    "plt.figure()\n",
    "plot_confusion_matrix(accuracy, classes=labels, normalize=True,\n",
    "                      title='Normalized confusion matrix')\n",
    "\n",
    "plt.show()"
   ]
  },
  {
   "cell_type": "code",
   "execution_count": 24,
   "metadata": {
    "collapsed": true
   },
   "outputs": [],
   "source": [
    "# LDA on test set"
   ]
  },
  {
   "cell_type": "code",
   "execution_count": 25,
   "metadata": {
    "collapsed": false
   },
   "outputs": [],
   "source": [
    "#Naive Bayes\n",
    "from sklearn.cross_validation import train_test_split\n",
    "import math\n",
    "import numpy as np\n",
    "\n",
    "label_dict = {3: 'Class 3', 5: 'Class 5'}\n",
    "np.set_printoptions(precision=4)\n",
    "#X_train, X_test, y_train, y_test = train_test_split(X_0_1.as_matrix(), y_0_1.as_matrix(), test_size=0.5, random_state=39)\n",
    "#class 0 cl = 0\n",
    "X_train = X_3_5\n",
    "y_train = y_3_5\n",
    "X_test = X_3_5t\n",
    "y_test = y_3_5t\n",
    "mean_vectors = []\n",
    "#compute mean\n",
    "for cl in Cs:\n",
    "    mean_vectors.append(np.mean(X_train[y_train.values == cl], axis=0))\n",
    "variance = np.var(X_train, axis = 0)\n"
   ]
  },
  {
   "cell_type": "code",
   "execution_count": 26,
   "metadata": {
    "collapsed": false
   },
   "outputs": [],
   "source": [
    "w0 = math.log(1)\n",
    "w1_vectors = []\n",
    "valid_dims = []\n",
    "for i in range(784):\n",
    "    if variance[i] > 0.1:\n",
    "        valid_dims.append(i)\n",
    "        w0 = w0 + (-mean_vectors[0][i] ** 2 + mean_vectors[1][i] ** 2) / (2 * variance[i])\n",
    "        w1_vectors.append((mean_vectors[0][i] - mean_vectors[1][i]) / variance[i])"
   ]
  },
  {
   "cell_type": "code",
   "execution_count": 27,
   "metadata": {
    "collapsed": false
   },
   "outputs": [],
   "source": [
    "w1_vectors = np.array(w1_vectors)"
   ]
  },
  {
   "cell_type": "code",
   "execution_count": 28,
   "metadata": {
    "collapsed": false
   },
   "outputs": [],
   "source": [
    "X_train = X_train.as_matrix()\n",
    "X_test = X_test.as_matrix()"
   ]
  },
  {
   "cell_type": "code",
   "execution_count": 29,
   "metadata": {
    "collapsed": false
   },
   "outputs": [
    {
     "data": {
      "text/plain": [
       "248"
      ]
     },
     "execution_count": 29,
     "metadata": {},
     "output_type": "execute_result"
    }
   ],
   "source": [
    "len(valid_dims)"
   ]
  },
  {
   "cell_type": "code",
   "execution_count": 30,
   "metadata": {
    "collapsed": false
   },
   "outputs": [],
   "source": [
    "pred = []\n",
    "for i in range(X_train.shape[0]):\n",
    "    xi = X_train[i]\n",
    "    x_temp = xi[valid_dims]\n",
    "    temp = math.exp(w0 + np.dot(x_temp.T, w1_vectors))\n",
    "    pred.append(1/(1+temp))"
   ]
  },
  {
   "cell_type": "code",
   "execution_count": 31,
   "metadata": {
    "collapsed": false
   },
   "outputs": [
    {
     "name": "stdout",
     "output_type": "stream",
     "text": [
      "confusion_matrix for training set\n",
      "[[5328  803]\n",
      " [ 774 4647]]\n"
     ]
    }
   ],
   "source": [
    "pred = [Cs[1] if i >= 0.5 else Cs[0] for i in pred]\n",
    "\n",
    "from sklearn.metrics import confusion_matrix\n",
    "import pylab as pl\n",
    "accuracy = confusion_matrix(y_train,pred)\n",
    "print \"confusion_matrix for training set\"\n",
    "print accuracy"
   ]
  },
  {
   "cell_type": "code",
   "execution_count": 32,
   "metadata": {
    "collapsed": false
   },
   "outputs": [],
   "source": [
    "pred = []\n",
    "for i in range(X_test.shape[0]):\n",
    "    xi = X_test[i]\n",
    "    x_temp = xi[valid_dims]\n",
    "    temp = math.exp(w0 + np.dot(x_temp.T, w1_vectors))\n",
    "    pred.append(1/(1+temp))"
   ]
  },
  {
   "cell_type": "code",
   "execution_count": 33,
   "metadata": {
    "collapsed": false
   },
   "outputs": [
    {
     "name": "stdout",
     "output_type": "stream",
     "text": [
      "confusion_matrix for training set\n",
      "[[900 110]\n",
      " [122 770]]\n"
     ]
    }
   ],
   "source": [
    "pred = [Cs[1] if i >= 0.5 else Cs[0] for i in pred]\n",
    "\n",
    "from sklearn.metrics import confusion_matrix\n",
    "import pylab as pl\n",
    "accuracy = confusion_matrix(y_test, pred)\n",
    "print \"confusion_matrix for training set\"\n",
    "print accuracy"
   ]
  },
  {
   "cell_type": "code",
   "execution_count": 34,
   "metadata": {
    "collapsed": false
   },
   "outputs": [
    {
     "name": "stdout",
     "output_type": "stream",
     "text": [
      "Confusion matrix, without normalization\n",
      "[[900 110]\n",
      " [122 770]]\n",
      "Normalized confusion matrix\n",
      "[[ 0.8911  0.1089]\n",
      " [ 0.1368  0.8632]]\n"
     ]
    },
    {
     "data": {
      "image/png": "[encoded data removed]",
      "text/plain": [
       "<matplotlib.figure.Figure at 0x7f2a095ea790>"
      ]
     },
     "metadata": {},
     "output_type": "display_data"
    },
    {
     "data": {
      "image/png": "[encoded data removed]",
      "text/plain": [
       "<matplotlib.figure.Figure at 0x7f29e7e06e10>"
      ]
     },
     "metadata": {},
     "output_type": "display_data"
    }
   ],
   "source": [
    "labels = ['Class 0', 'Class 1']\n",
    "#labels = ['Class 3', 'Class 5']\n",
    "# Plot non-normalized confusion matrix\n",
    "plt.figure()\n",
    "plot_confusion_matrix(accuracy, classes=labels,\n",
    "                      title='Confusion matrix, without normalization')\n",
    "\n",
    "# Plot normalized confusion matrix\n",
    "plt.figure()\n",
    "plot_confusion_matrix(accuracy, classes=labels, normalize=True,\n",
    "                      title='Normalized confusion matrix')\n",
    "\n",
    "plt.show()"
   ]
  },
  {
   "cell_type": "code",
   "execution_count": null,
   "metadata": {
    "collapsed": true
   },
   "outputs": [],
   "source": []
  }
 ],
 "metadata": {
  "kernelspec": {
   "display_name": "Python 2",
   "language": "python",
   "name": "python2"
  },
  "language_info": {
   "codemirror_mode": {
    "name": "ipython",
    "version": 2
   },
   "file_extension": ".py",
   "mimetype": "text/x-python",
   "name": "python",
   "nbconvert_exporter": "python",
   "pygments_lexer": "ipython2",
   "version": "2.7.13"
  }
 },
 "nbformat": 4,
 "nbformat_minor": 2
}
