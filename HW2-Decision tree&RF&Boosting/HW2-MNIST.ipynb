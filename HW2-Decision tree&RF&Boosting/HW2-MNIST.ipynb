{
 "cells": [
  {
   "cell_type": "markdown",
   "metadata": {},
   "source": [
    "# CSE 291 Homework2 - Random Forests and Boosting  \n",
    "\n",
    "#### Chao Yu \n",
    "#### Wen Liang A53214852"
   ]
  },
  {
   "cell_type": "markdown",
   "metadata": {},
   "source": [
    "## Random Forests\n",
    "---\n",
    "### MNIST\n",
    "#### Part 1. Read the data and split to training and test sets"
   ]
  },
  {
   "cell_type": "code",
   "execution_count": 1,
   "metadata": {
    "collapsed": false
   },
   "outputs": [],
   "source": [
    "import pandas as pd\n",
    "import numpy as np\n",
    "import matplotlib.pyplot as plt\n",
    "\n",
    "from sklearn.ensemble import RandomForestClassifier\n",
    "from sklearn.tree import DecisionTreeClassifier\n",
    "from sklearn.model_selection import train_test_split, cross_val_score, KFold\n",
    "from sklearn.metrics import confusion_matrix, accuracy_score, zero_one_loss\n",
    "\n",
    "import warnings\n",
    "\n",
    "warnings.filterwarnings('ignore')\n",
    "\n",
    "mnist_train_path = './MNIST/train.csv'\n",
    "mnist_train_df = pd.read_csv(mnist_train_path, header=None).T\n",
    "last_column = mnist_train_df.columns[-1]\n",
    "mnist_train_df.rename(columns={last_column:'Class'}, inplace=True)"
   ]
  },
  {
   "cell_type": "code",
   "execution_count": 2,
   "metadata": {
    "collapsed": true
   },
   "outputs": [],
   "source": [
    "mnist_train_df = mnist_train_df.convert_objects(convert_numeric = True)"
   ]
  },
  {
   "cell_type": "code",
   "execution_count": 3,
   "metadata": {
    "collapsed": false
   },
   "outputs": [],
   "source": [
    "X = mnist_train_df.drop(0, axis = 0).drop(0, axis = 1)\n",
    "y = mnist_train_df.drop(0, axis = 1).as_matrix().T[:, 0]\n",
    "\n",
    "X_train, X_test, y_train, y_test = train_test_split(X.T, y, test_size=0.25, random_state=42)"
   ]
  },
  {
   "cell_type": "code",
   "execution_count": 4,
   "metadata": {
    "collapsed": false
   },
   "outputs": [
    {
     "name": "stdout",
     "output_type": "stream",
     "text": [
      "[7 8 5 ..., 2 6 0]\n"
     ]
    }
   ],
   "source": [
    "print y_train"
   ]
  },
  {
   "cell_type": "code",
   "execution_count": 5,
   "metadata": {
    "collapsed": false
   },
   "outputs": [
    {
     "name": "stdout",
     "output_type": "stream",
     "text": [
      "(31500, 784)\n"
     ]
    }
   ],
   "source": [
    "X_np = X_train.as_matrix()\n",
    "print X_np.shape"
   ]
  },
  {
   "cell_type": "code",
   "execution_count": 6,
   "metadata": {
    "collapsed": true
   },
   "outputs": [],
   "source": [
    "cov_temp = np.diag(np.cov(X_np.T))"
   ]
  },
  {
   "cell_type": "code",
   "execution_count": 7,
   "metadata": {
    "collapsed": false
   },
   "outputs": [
    {
     "name": "stdout",
     "output_type": "stream",
     "text": [
      "[125, 126, 127, 128, 129, 130, 150, 151, 152, 153, 154, 155, 156, 157, 158, 159, 160, 177, 178, 179, 180, 181, 182, 183, 184, 185, 186, 187, 188, 189, 204, 205, 206, 207, 208, 209, 210, 211, 212, 213, 214, 215, 216, 217, 231, 232, 233, 234, 235, 236, 237, 238, 239, 240, 241, 242, 243, 244, 245, 246, 259, 260, 261, 262, 263, 264, 265, 266, 267, 268, 269, 270, 271, 272, 273, 274, 287, 288, 289, 290, 291, 292, 293, 294, 295, 296, 297, 298, 299, 300, 301, 302, 315, 316, 317, 318, 319, 320, 321, 322, 323, 324, 325, 326, 327, 328, 329, 343, 344, 345, 346, 347, 348, 349, 350, 351, 352, 353, 354, 355, 356, 357, 371, 372, 373, 374, 375, 376, 377, 378, 379, 380, 381, 382, 383, 384, 385, 398, 399, 400, 401, 402, 403, 404, 405, 406, 407, 408, 409, 410, 411, 412, 413, 426, 427, 428, 429, 430, 431, 432, 433, 434, 435, 436, 437, 438, 439, 440, 441, 442, 454, 455, 456, 457, 458, 459, 460, 461, 462, 463, 464, 465, 466, 467, 468, 469, 482, 483, 484, 485, 486, 487, 488, 489, 490, 491, 492, 493, 494, 495, 496, 497, 510, 511, 512, 513, 514, 515, 516, 517, 518, 519, 520, 521, 522, 523, 524, 525, 538, 539, 540, 541, 542, 543, 544, 545, 546, 547, 548, 549, 550, 551, 552, 553, 566, 567, 568, 569, 570, 571, 572, 573, 574, 575, 576, 577, 578, 579, 580, 594, 595, 596, 597, 598, 599, 600, 601, 602, 603, 604, 605, 606, 607, 608, 623, 624, 625, 626, 627, 628, 629, 630, 631, 632, 633, 634, 635, 652, 653, 654, 655, 656, 657, 658, 659, 660, 661, 682, 683, 684, 685, 686, 687]\n"
     ]
    }
   ],
   "source": [
    "# feature selections\n",
    "idx = []\n",
    "for i in range(784):\n",
    "    if cov_temp[i] > 5000:\n",
    "        idx.append(i)\n",
    "\n",
    "print idx\n",
    "X_train2 = X_train.as_matrix()[:, idx]\n",
    "X_test2 = X_test.as_matrix()[:, idx]"
   ]
  },
  {
   "cell_type": "code",
   "execution_count": 8,
   "metadata": {
    "collapsed": false
   },
   "outputs": [
    {
     "data": {
      "text/plain": [
       "(31500, 293)"
      ]
     },
     "execution_count": 8,
     "metadata": {},
     "output_type": "execute_result"
    }
   ],
   "source": [
    "X_train2.shape"
   ]
  },
  {
   "cell_type": "markdown",
   "metadata": {},
   "source": [
    "methods:\n",
    "* two_split: split the data into 2 split using a pivot\n",
    "* entropy: compute the entropy\n",
    "* entroypy_compute: compute the information gain\n",
    "* get_split: go through the dataset, randomly choose some features, go through all the splits, find the best one and return\n",
    "* to_terminal: set the decision on the leaves\n",
    "* split: split branches from a node\n",
    "* build_tree: build a tree from root\n",
    "* predict: get prediction with the tree and observed data\n",
    "* resample: resample the dataset by the resample ratio\n",
    "* bagging_predict: get prediction for the forests\n",
    "* random_forest: build a random forest"
   ]
  },
  {
   "cell_type": "code",
   "execution_count": 9,
   "metadata": {
    "collapsed": true
   },
   "outputs": [],
   "source": [
    "from random import randrange\n",
    "from math import log\n",
    "import random\n",
    "\n",
    "def two_split(index, value, dataset):\n",
    "    left = []\n",
    "    right = []\n",
    "    for row in dataset:\n",
    "        if row[index] < value:\n",
    "            left.append(row)\n",
    "        else:\n",
    "            right.append(row)\n",
    "    return left, right\n",
    "\n",
    "\n",
    "def entropy(dataset, classes):\n",
    "    size = len(dataset)\n",
    "    if size == 0:\n",
    "        return 0\n",
    "    ent = 0.0\n",
    "    count = [0.0] * len(classes)\n",
    "    for data in dataset:\n",
    "        count[classes.index(data[-1])] += 1\n",
    "    for c in count:\n",
    "        proportion = c / size\n",
    "        if proportion != 0:\n",
    "            ent += -proportion * log(proportion, 2)\n",
    "    return ent\n",
    "\n",
    "def entropy_compute(groups, classes):\n",
    "    dataset = []\n",
    "    for group in groups:\n",
    "        dataset += group\n",
    "    # information for this node\n",
    "    ent_I = entropy(dataset, classes)\n",
    "    # information required for subtrees / groups\n",
    "    ent_remain = 0.0\n",
    "    for group in groups:\n",
    "        ent_temp = entropy(group, classes)\n",
    "        ent_remain += (len(group)*1.0 / len(dataset)) * ent_temp\n",
    "    return (ent_I - ent_remain)\n",
    "\n",
    "\n",
    "def get_split(dataset, n_features):\n",
    "    #X data, y label, n_feartures number of features you want\n",
    "    features = [];\n",
    "    classes = list(set(row[-1] for row in dataset))\n",
    "    b_index, b_value, b_score, b_groups = 999, 0, 0, None\n",
    "    while b_groups is None:\n",
    "        while len(features) < n_features:\n",
    "            index = randrange(len(dataset[0]) - 1)\n",
    "            if index not in features:\n",
    "                features.append(index)\n",
    "        for index in features:\n",
    "            # get value range\n",
    "            vals = set([row[index] for row in dataset])\n",
    "            vals = list(vals)\n",
    "            # cuts\n",
    "            low, high = min(vals), max(vals)\n",
    "            diff = (high - low) / 5\n",
    "            vals = [x * diff + low for x in range(0, 5)]\n",
    "            for value in vals:\n",
    "                groups = two_split(index, value, dataset)\n",
    "                ent = entropy_compute(groups, classes)\n",
    "                if ent > b_score:\n",
    "                    b_index, b_value, b_score, b_groups = \\\n",
    "                        index, value, ent, groups\n",
    "    return {'index':b_index, 'value':b_value, 'groups': b_groups}\n",
    "\n",
    "def to_terminal(group):\n",
    "    outcomes = [row[-1] for row in group]\n",
    "    return max(set(outcomes), key = outcomes.count)\n",
    "\n",
    "# creat child split\n",
    "def split(node, max_depth, min_size, n_features, depth):\n",
    "    left, right = node['groups']\n",
    "    del(node['groups'])\n",
    "    #print \"the depth is\", depth\n",
    "    # check terminate\n",
    "    if not left or not right:\n",
    "        node['left'] = node['right'] = to_terminal(left + right)\n",
    "        return\n",
    "    # check depth\n",
    "    if depth >= max_depth:\n",
    "        node['left'], node['right'] = to_terminal(left), to_terminal(right)\n",
    "        return\n",
    "    # process left\n",
    "    classes = list(set(row[-1] for row in (left + right)))\n",
    "    if len(left) <= min_size or entropy(left, classes) < 0.01:\n",
    "        node['left'] = to_terminal(left)\n",
    "    else:\n",
    "        node['left'] = get_split(left, n_features)\n",
    "        split(node['left'], max_depth, min_size, n_features, depth+1)\n",
    "    # process right,\n",
    "    if len(right) <= min_size or entropy(right, classes) < 0.01:\n",
    "        node['right'] = to_terminal(right)\n",
    "    else:\n",
    "        node['right'] = get_split(right, n_features)\n",
    "        split(node['right'], max_depth, min_size, n_features, depth+1)\n",
    "\n",
    "# build a decision tree\n",
    "def build_tree(train, max_depth, min_size, n_features):\n",
    "    root = get_split(train, n_features)\n",
    "    split(root, max_depth, min_size, n_features, 1)\n",
    "    return root\n",
    "\n",
    "# prediction\n",
    "def predict(node, row):\n",
    "    if row[node['index']] < node['value']:\n",
    "        if isinstance(node['left'], dict):\n",
    "            return predict(node['left'], row)\n",
    "        else:\n",
    "            return node['left']\n",
    "    else:\n",
    "        if isinstance(node['right'], dict):\n",
    "            return predict(node['right'], row)\n",
    "        else:\n",
    "            return node['right']\n",
    "        \n",
    "# random sample -- bootstrap\n",
    "def resample(dataset, ratio):\n",
    "    sample = list()\n",
    "    num = round(len(dataset) * ratio)\n",
    "    while len(sample) < num:\n",
    "        index = randrange(len(dataset))\n",
    "        sample.append(dataset[index])\n",
    "    return sample\n",
    "\n",
    "# predict\n",
    "def bagging_predict(trees, row):\n",
    "    decisions = [predict(tree, row) for tree in trees]\n",
    "    return max(set(decisions), key = decisions.count)\n",
    "\n",
    "# Random Forest\n",
    "def random_forest(train, test, max_depth, min_size\\\n",
    "                 , sample_ratio, n_trees, n_features):\n",
    "    trees = []\n",
    "    for i in range(n_trees):\n",
    "        samples = resample(train, sample_ratio)\n",
    "        tree = build_tree(samples, max_depth, min_size, n_features)\n",
    "        trees.append(tree)\n",
    "    predictions = [bagging_predict(trees, row) for row in test]\n",
    "    return predictions\n"
   ]
  },
  {
   "cell_type": "markdown",
   "metadata": {},
   "source": [
    "#### Part 4. Find and Visualize the features importance\n",
    "method:  \n",
    "\n",
    "* rank_features: compute the information gain for each features and return the list sorted by their importance"
   ]
  },
  {
   "cell_type": "code",
   "execution_count": 87,
   "metadata": {
    "collapsed": false
   },
   "outputs": [
    {
     "name": "stdout",
     "output_type": "stream",
     "text": [
      "feature:  0\n",
      "feature:  1\n",
      "feature:  2\n",
      "feature:  3\n",
      "feature:  4\n",
      "feature:  5\n",
      "feature:  6\n",
      "feature:  7\n",
      "feature:  8\n",
      "feature:  9\n",
      "feature:  10\n",
      "feature:  11\n",
      "feature:  12\n",
      "feature:  13\n",
      "feature:  14\n",
      "feature:  15\n",
      "feature:  16\n",
      "feature:  17\n",
      "feature:  18\n",
      "feature:  19\n",
      "feature:  20\n",
      "feature:  21\n",
      "feature:  22\n",
      "feature:  23\n",
      "feature:  24\n",
      "feature:  25\n",
      "feature:  26\n",
      "feature:  27\n",
      "feature:  28\n",
      "feature:  29\n",
      "feature:  30\n",
      "feature:  31\n",
      "feature:  32\n",
      "feature:  33\n",
      "feature:  34\n",
      "feature:  35\n",
      "feature:  36\n",
      "feature:  37\n",
      "feature:  38\n",
      "feature:  39\n",
      "feature:  40\n",
      "feature:  41\n",
      "feature:  42\n",
      "feature:  43\n",
      "feature:  44\n",
      "feature:  45\n",
      "feature:  46\n",
      "feature:  47\n",
      "feature:  48\n",
      "feature:  49\n",
      "feature:  50\n",
      "feature:  51\n",
      "feature:  52\n",
      "feature:  53\n",
      "feature:  54\n",
      "feature:  55\n",
      "feature:  56\n",
      "feature:  57\n",
      "feature:  58\n",
      "feature:  59\n",
      "feature:  60\n",
      "feature:  61\n",
      "feature:  62\n",
      "feature:  63\n",
      "feature:  64\n",
      "feature:  65\n",
      "feature:  66\n",
      "feature:  67\n",
      "feature:  68\n",
      "feature:  69\n",
      "feature:  70\n",
      "feature:  71\n",
      "feature:  72\n",
      "feature:  73\n",
      "feature:  74\n",
      "feature:  75\n",
      "feature:  76\n",
      "feature:  77\n",
      "feature:  78\n",
      "feature:  79\n",
      "feature:  80\n",
      "feature:  81\n",
      "feature:  82\n",
      "feature:  83\n",
      "feature:  84\n",
      "feature:  85\n",
      "feature:  86\n",
      "feature:  87\n",
      "feature:  88\n",
      "feature:  89\n",
      "feature:  90\n",
      "feature:  91\n",
      "feature:  92\n",
      "feature:  93\n",
      "feature:  94\n",
      "feature:  95\n",
      "feature:  96\n",
      "feature:  97\n",
      "feature:  98\n",
      "feature:  99\n",
      "feature:  100\n",
      "feature:  101\n",
      "feature:  102\n",
      "feature:  103\n",
      "feature:  104\n",
      "feature:  105\n",
      "feature:  106\n",
      "feature:  107\n",
      "feature:  108\n",
      "feature:  109\n",
      "feature:  110\n",
      "feature:  111\n",
      "feature:  112\n",
      "feature:  113\n",
      "feature:  114\n",
      "feature:  115\n",
      "feature:  116\n",
      "feature:  117\n",
      "feature:  118\n",
      "feature:  119\n",
      "feature:  120\n",
      "feature:  121\n",
      "feature:  122\n",
      "feature:  123\n",
      "feature:  124\n",
      "feature:  125\n",
      "feature:  126\n",
      "feature:  127\n",
      "feature:  128\n",
      "feature:  129\n",
      "feature:  130\n",
      "feature:  131\n",
      "feature:  132\n",
      "feature:  133\n",
      "feature:  134\n",
      "feature:  135\n",
      "feature:  136\n",
      "feature:  137\n",
      "feature:  138\n",
      "feature:  139\n",
      "feature:  140\n",
      "feature:  141\n",
      "feature:  142\n",
      "feature:  143\n",
      "feature:  144\n",
      "feature:  145\n",
      "feature:  146\n",
      "feature:  147\n",
      "feature:  148\n",
      "feature:  149\n",
      "feature:  150\n",
      "feature:  151\n",
      "feature:  152\n",
      "feature:  153\n",
      "feature:  154\n",
      "feature:  155\n",
      "feature:  156\n",
      "feature:  157\n",
      "feature:  158\n",
      "feature:  159\n",
      "feature:  160\n",
      "feature:  161\n",
      "feature:  162\n",
      "feature:  163\n",
      "feature:  164\n",
      "feature:  165\n",
      "feature:  166\n",
      "feature:  167\n",
      "feature:  168\n",
      "feature:  169\n",
      "feature:  170\n",
      "feature:  171\n",
      "feature:  172\n",
      "feature:  173\n",
      "feature:  174\n",
      "feature:  175\n",
      "feature:  176\n",
      "feature:  177\n",
      "feature:  178\n",
      "feature:  179\n",
      "feature:  180\n",
      "feature:  181\n",
      "feature:  182\n",
      "feature:  183\n",
      "feature:  184\n",
      "feature:  185\n",
      "feature:  186\n",
      "feature:  187\n",
      "feature:  188\n",
      "feature:  189\n",
      "feature:  190\n",
      "feature:  191\n",
      "feature:  192\n",
      "feature:  193\n",
      "feature:  194\n",
      "feature:  195\n",
      "feature:  196\n",
      "feature:  197\n",
      "feature:  198\n",
      "feature:  199\n",
      "feature:  200\n",
      "feature:  201\n",
      "feature:  202\n",
      "feature:  203\n",
      "feature:  204\n",
      "feature:  205\n",
      "feature:  206\n",
      "feature:  207\n",
      "feature:  208\n",
      "feature:  209\n",
      "feature:  210\n",
      "feature:  211\n",
      "feature:  212\n",
      "feature:  213\n",
      "feature:  214\n",
      "feature:  215\n",
      "feature:  216\n",
      "feature:  217\n",
      "feature:  218\n",
      "feature:  219\n",
      "feature:  220\n",
      "feature:  221\n",
      "feature:  222\n",
      "feature:  223\n",
      "feature:  224\n",
      "feature:  225\n",
      "feature:  226\n",
      "feature:  227\n",
      "feature:  228\n",
      "feature:  229\n",
      "feature:  230\n",
      "feature:  231\n",
      "feature:  232\n",
      "feature:  233\n",
      "feature:  234\n",
      "feature:  235\n",
      "feature:  236\n",
      "feature:  237\n",
      "feature:  238\n",
      "feature:  239\n",
      "feature:  240\n",
      "feature:  241\n",
      "feature:  242\n",
      "feature:  243\n",
      "feature:  244\n",
      "feature:  245\n",
      "feature:  246\n",
      "feature:  247\n",
      "feature:  248\n",
      "feature:  249\n",
      "feature:  250\n",
      "feature:  251\n",
      "feature:  252\n",
      "feature:  253\n",
      "feature:  254\n",
      "feature:  255\n",
      "feature:  256\n",
      "feature:  257\n",
      "feature:  258\n",
      "feature:  259\n",
      "feature:  260\n",
      "feature:  261\n",
      "feature:  262\n",
      "feature:  263\n",
      "feature:  264\n",
      "feature:  265\n",
      "feature:  266\n",
      "feature:  267\n",
      "feature:  268\n",
      "feature:  269\n",
      "feature:  270\n",
      "feature:  271\n",
      "feature:  272\n",
      "feature:  273\n",
      "feature:  274\n",
      "feature:  275\n",
      "feature:  276\n",
      "feature:  277\n",
      "feature:  278\n",
      "feature:  279\n",
      "feature:  280\n",
      "feature:  281\n",
      "feature:  282\n",
      "feature:  283\n",
      "feature:  284\n",
      "feature:  285\n",
      "feature:  286\n",
      "feature:  287\n",
      "feature:  288\n",
      "feature:  289\n",
      "feature:  290\n",
      "feature:  291\n",
      "feature:  292\n",
      "feature - information gain\n",
      "(287, 0.018504352849746608)\n",
      "(75, 0.038216413467303756)\n",
      "(91, 0.038216413467303756)\n",
      "(152, 0.038216413467303756)\n",
      "(277, 0.038216413467303756)\n",
      "(278, 0.038216413467303756)\n",
      "(279, 0.038216413467303756)\n",
      "(121, 0.05930599105022227)\n",
      "(136, 0.05930599105022227)\n",
      "(168, 0.05930599105022227)\n",
      "(169, 0.05930599105022227)\n",
      "(234, 0.05930599105022227)\n",
      "(250, 0.05930599105022227)\n",
      "(264, 0.05930599105022227)\n",
      "(288, 0.05930599105022227)\n",
      "(6, 0.0819817206412019)\n",
      "(7, 0.0819817206412019)\n",
      "(15, 0.0819817206412019)\n",
      "(27, 0.0819817206412019)\n",
      "(185, 0.0819817206412019)\n",
      "(187, 0.0819817206412019)\n",
      "(201, 0.0819817206412019)\n",
      "(202, 0.0819817206412019)\n",
      "(218, 0.0819817206412019)\n",
      "(233, 0.0819817206412019)\n",
      "(235, 0.0819817206412019)\n",
      "(249, 0.0819817206412019)\n",
      "(251, 0.0819817206412019)\n",
      "(265, 0.0819817206412019)\n",
      "(266, 0.0819817206412019)\n",
      "(5, 0.10650399270355337)\n",
      "(26, 0.10650399270355337)\n",
      "(184, 0.10650399270355337)\n",
      "(200, 0.10650399270355337)\n",
      "(203, 0.10650399270355337)\n",
      "(204, 0.10650399270355337)\n",
      "(216, 0.10650399270355337)\n",
      "(217, 0.10650399270355337)\n",
      "(219, 0.10650399270355337)\n",
      "(276, 0.10650399270355337)\n",
      "(0, 0.13320381570773465)\n",
      "(3, 0.13320381570773465)\n",
      "(4, 0.13320381570773465)\n",
      "(8, 0.13320381570773465)\n",
      "(172, 0.13320381570773465)\n",
      "(173, 0.13320381570773465)\n",
      "(188, 0.13320381570773465)\n",
      "(189, 0.13320381570773465)\n",
      "(191, 0.13320381570773465)\n",
      "(232, 0.13320381570773465)\n",
      "(236, 0.13320381570773465)\n",
      "(248, 0.13320381570773465)\n",
      "(252, 0.13320381570773465)\n",
      "(267, 0.13320381570773465)\n",
      "(14, 0.16251125329718286)\n",
      "(19, 0.16251125329718286)\n",
      "(20, 0.16251125329718286)\n",
      "(25, 0.16251125329718286)\n",
      "(174, 0.16251125329718286)\n",
      "(175, 0.16251125329718286)\n",
      "(190, 0.16251125329718286)\n",
      "(205, 0.16251125329718286)\n",
      "(220, 0.16251125329718286)\n",
      "(224, 0.16251125329718286)\n",
      "(237, 0.16251125329718286)\n",
      "(247, 0.16251125329718286)\n",
      "(262, 0.16251125329718286)\n",
      "(263, 0.16251125329718286)\n",
      "(268, 0.16251125329718286)\n",
      "(280, 0.16251125329718286)\n",
      "(167, 0.17096853910880783)\n",
      "(215, 0.17096853910880783)\n",
      "(59, 0.1725443367363112)\n",
      "(186, 0.1725443367363112)\n",
      "(18, 0.1747733633920867)\n",
      "(171, 0.1747733633920867)\n",
      "(199, 0.1747733633920867)\n",
      "(16, 0.18200487657742526)\n",
      "(17, 0.18200487657742526)\n",
      "(154, 0.18200487657742526)\n",
      "(33, 0.1829120723974207)\n",
      "(230, 0.1829120723974207)\n",
      "(231, 0.1829120723974207)\n",
      "(275, 0.1829120723974207)\n",
      "(1, 0.19500002477333156)\n",
      "(2, 0.19500002477333156)\n",
      "(9, 0.19500002477333156)\n",
      "(12, 0.19500002477333156)\n",
      "(13, 0.19500002477333156)\n",
      "(21, 0.19500002477333156)\n",
      "(206, 0.19500002477333156)\n",
      "(221, 0.19500002477333156)\n",
      "(238, 0.19500002477333156)\n",
      "(240, 0.19500002477333156)\n",
      "(253, 0.19500002477333156)\n",
      "(34, 0.1950000247733319)\n",
      "(246, 0.1950000247733319)\n",
      "(261, 0.1950000247733319)\n",
      "(28, 0.20649286467637007)\n",
      "(29, 0.20649286467637007)\n",
      "(43, 0.20649286467637007)\n",
      "(157, 0.21106012178153366)\n",
      "(39, 0.21106012178153388)\n",
      "(115, 0.21106012178153388)\n",
      "(130, 0.21106012178153388)\n",
      "(131, 0.21106012178153388)\n",
      "(163, 0.21106012178153388)\n",
      "(180, 0.21106012178153388)\n",
      "(225, 0.21106012178153388)\n",
      "(255, 0.21106012178153388)\n",
      "(32, 0.21540084387356973)\n",
      "(99, 0.21540084387356973)\n",
      "(111, 0.21540084387356973)\n",
      "(114, 0.21540084387356973)\n",
      "(132, 0.21540084387356973)\n",
      "(141, 0.21540084387356973)\n",
      "(142, 0.21540084387356973)\n",
      "(195, 0.21540084387356973)\n",
      "(274, 0.21540084387356973)\n",
      "(81, 0.22448162008177264)\n",
      "(83, 0.22448162008177264)\n",
      "(84, 0.22448162008177264)\n",
      "(95, 0.22448162008177264)\n",
      "(98, 0.22448162008177264)\n",
      "(113, 0.22448162008177264)\n",
      "(146, 0.22448162008177264)\n",
      "(151, 0.22448162008177264)\n",
      "(155, 0.22448162008177264)\n",
      "(211, 0.22448162008177264)\n",
      "(226, 0.22448162008177264)\n",
      "(241, 0.22448162008177264)\n",
      "(245, 0.22448162008177264)\n",
      "(269, 0.22448162008177264)\n",
      "(281, 0.22448162008177264)\n",
      "(176, 0.2314609408817716)\n",
      "(177, 0.2314609408817716)\n",
      "(192, 0.2314609408817716)\n",
      "(222, 0.2314609408817716)\n",
      "(254, 0.2314609408817716)\n",
      "(38, 0.23146094088177172)\n",
      "(80, 0.23146094088177172)\n",
      "(109, 0.23146094088177172)\n",
      "(147, 0.23146094088177172)\n",
      "(156, 0.23146094088177172)\n",
      "(209, 0.23146094088177172)\n",
      "(210, 0.23146094088177172)\n",
      "(31, 0.23923790979734116)\n",
      "(82, 0.23923790979734116)\n",
      "(85, 0.23923790979734116)\n",
      "(96, 0.23923790979734116)\n",
      "(97, 0.23923790979734116)\n",
      "(100, 0.23923790979734116)\n",
      "(101, 0.23923790979734116)\n",
      "(116, 0.23923790979734116)\n",
      "(128, 0.23923790979734116)\n",
      "(129, 0.23923790979734116)\n",
      "(140, 0.23923790979734116)\n",
      "(143, 0.23923790979734116)\n",
      "(242, 0.23923790979734116)\n",
      "(79, 0.2569703915579218)\n",
      "(158, 0.2569703915579218)\n",
      "(179, 0.2569703915579218)\n",
      "(193, 0.2569703915579218)\n",
      "(194, 0.2569703915579218)\n",
      "(40, 0.2615311552039169)\n",
      "(58, 0.2615311552039169)\n",
      "(106, 0.2615311552039169)\n",
      "(112, 0.2615311552039169)\n",
      "(117, 0.2615311552039169)\n",
      "(126, 0.2615311552039169)\n",
      "(127, 0.2615311552039169)\n",
      "(135, 0.2615311552039169)\n",
      "(166, 0.2615311552039169)\n",
      "(183, 0.2615311552039169)\n",
      "(196, 0.2615311552039169)\n",
      "(227, 0.2615311552039169)\n",
      "(256, 0.2615311552039169)\n",
      "(257, 0.2615311552039169)\n",
      "(289, 0.2615311552039169)\n",
      "(10, 0.2730304885661238)\n",
      "(11, 0.2730304885661238)\n",
      "(22, 0.2730304885661238)\n",
      "(23, 0.2730304885661238)\n",
      "(24, 0.2730304885661238)\n",
      "(35, 0.2730304885661238)\n",
      "(37, 0.2730304885661238)\n",
      "(161, 0.2730304885661238)\n",
      "(178, 0.2730304885661238)\n",
      "(208, 0.2730304885661238)\n",
      "(229, 0.2730304885661238)\n",
      "(239, 0.2730304885661238)\n",
      "(48, 0.288946166487027)\n",
      "(68, 0.288946166487027)\n",
      "(86, 0.288946166487027)\n",
      "(102, 0.288946166487027)\n",
      "(214, 0.288946166487027)\n",
      "(30, 0.29524322226351407)\n",
      "(65, 0.29524322226351407)\n",
      "(124, 0.29524322226351407)\n",
      "(139, 0.29524322226351407)\n",
      "(144, 0.29524322226351407)\n",
      "(145, 0.29524322226351407)\n",
      "(148, 0.29524322226351407)\n",
      "(44, 0.2974722489192897)\n",
      "(66, 0.2974722489192897)\n",
      "(110, 0.2974722489192897)\n",
      "(137, 0.2974722489192897)\n",
      "(138, 0.2974722489192897)\n",
      "(153, 0.2974722489192897)\n",
      "(170, 0.2974722489192897)\n",
      "(260, 0.2974722489192897)\n",
      "(271, 0.2974722489192897)\n",
      "(286, 0.2974722489192897)\n",
      "(149, 0.32143493796317624)\n",
      "(159, 0.32143493796317624)\n",
      "(160, 0.32143493796317624)\n",
      "(197, 0.32143493796317624)\n",
      "(198, 0.32143493796317624)\n",
      "(207, 0.32143493796317624)\n",
      "(223, 0.32143493796317624)\n",
      "(228, 0.32143493796317624)\n",
      "(36, 0.32980052589245035)\n",
      "(41, 0.32980052589245035)\n",
      "(47, 0.32980052589245035)\n",
      "(49, 0.32980052589245035)\n",
      "(74, 0.32980052589245035)\n",
      "(162, 0.32980052589245035)\n",
      "(182, 0.32980052589245035)\n",
      "(212, 0.32980052589245035)\n",
      "(243, 0.32980052589245035)\n",
      "(273, 0.32980052589245035)\n",
      "(285, 0.32980052589245035)\n",
      "(50, 0.35028132778649146)\n",
      "(52, 0.35028132778649146)\n",
      "(54, 0.35028132778649146)\n",
      "(55, 0.35028132778649146)\n",
      "(60, 0.35028132778649146)\n",
      "(67, 0.35028132778649146)\n",
      "(94, 0.35028132778649146)\n",
      "(107, 0.35028132778649146)\n",
      "(122, 0.35028132778649146)\n",
      "(123, 0.35028132778649146)\n",
      "(150, 0.35028132778649146)\n",
      "(258, 0.35028132778649146)\n",
      "(282, 0.35028132778649146)\n",
      "(120, 0.37950878258213605)\n",
      "(284, 0.37950878258213605)\n",
      "(42, 0.3842300407311199)\n",
      "(45, 0.3842300407311199)\n",
      "(46, 0.3842300407311199)\n",
      "(56, 0.3842300407311199)\n",
      "(57, 0.3842300407311199)\n",
      "(61, 0.3842300407311199)\n",
      "(63, 0.3842300407311199)\n",
      "(70, 0.3842300407311199)\n",
      "(76, 0.3842300407311199)\n",
      "(77, 0.3842300407311199)\n",
      "(90, 0.3842300407311199)\n",
      "(118, 0.3842300407311199)\n",
      "(164, 0.3842300407311199)\n",
      "(213, 0.3842300407311199)\n",
      "(259, 0.3842300407311199)\n",
      "(133, 0.45249941141965333)\n",
      "(181, 0.45249941141965333)\n",
      "(272, 0.45249941141965333)\n",
      "(62, 0.4635196734725804)\n",
      "(64, 0.4635196734725804)\n",
      "(73, 0.4635196734725804)\n",
      "(78, 0.4635196734725804)\n",
      "(103, 0.4635196734725804)\n",
      "(244, 0.4635196734725804)\n",
      "(51, 0.4854607607459134)\n",
      "(53, 0.4854607607459134)\n",
      "(69, 0.4854607607459134)\n",
      "(92, 0.4854607607459134)\n",
      "(108, 0.4854607607459134)\n",
      "(125, 0.4854607607459134)\n",
      "(134, 0.4854607607459134)\n",
      "(165, 0.4854607607459134)\n",
      "(270, 0.4854607607459134)\n",
      "(290, 0.4854607607459134)\n",
      "(72, 0.5525064919401862)\n",
      "(88, 0.5525064919401862)\n",
      "(105, 0.5525064919401862)\n",
      "(71, 0.6292492238560345)\n",
      "(87, 0.6292492238560345)\n",
      "(89, 0.6292492238560345)\n",
      "(93, 0.6292492238560345)\n",
      "(119, 0.6292492238560345)\n",
      "(283, 0.6292492238560345)\n",
      "(291, 0.6292492238560345)\n",
      "(104, 0.7424875695421236)\n",
      "(292, 0.7424875695421236)\n",
      "[104, 292, 71, 87, 89, 93, 119, 283, 291, 72, 88, 105, 51, 53, 69, 92, 108, 125, 134, 165, 270, 290, 62, 64, 73, 78, 103, 244, 133, 181, 272, 42, 45, 46, 56, 57, 61, 63, 70, 76, 77, 90, 118, 164, 213, 259, 120, 284, 50, 52, 54, 55, 60] [0.7424875695421236, 0.7424875695421236, 0.6292492238560345, 0.6292492238560345, 0.6292492238560345, 0.6292492238560345, 0.6292492238560345, 0.6292492238560345, 0.6292492238560345, 0.5525064919401862, 0.5525064919401862, 0.5525064919401862, 0.4854607607459134, 0.4854607607459134, 0.4854607607459134, 0.4854607607459134, 0.4854607607459134, 0.4854607607459134, 0.4854607607459134, 0.4854607607459134, 0.4854607607459134, 0.4854607607459134, 0.4635196734725804, 0.4635196734725804, 0.4635196734725804, 0.4635196734725804, 0.4635196734725804, 0.4635196734725804, 0.45249941141965333, 0.45249941141965333, 0.45249941141965333, 0.3842300407311199, 0.3842300407311199, 0.3842300407311199, 0.3842300407311199, 0.3842300407311199, 0.3842300407311199, 0.3842300407311199, 0.3842300407311199, 0.3842300407311199, 0.3842300407311199, 0.3842300407311199, 0.3842300407311199, 0.3842300407311199, 0.3842300407311199, 0.3842300407311199, 0.37950878258213605, 0.37950878258213605, 0.35028132778649146, 0.35028132778649146, 0.35028132778649146, 0.35028132778649146, 0.35028132778649146]\n"
     ]
    }
   ],
   "source": [
    "def rank_features(dataset):\n",
    "    info_gain = [];\n",
    "    classes = list(set(row[-1] for row in dataset))\n",
    "    features = range(len(dataset[0]))\n",
    "    for index in features:            \n",
    "        # get value range\n",
    "        print \"feature: \", index\n",
    "        vals = set([row[index] for row in dataset])\n",
    "        vals = list(vals)\n",
    "        if len(vals) > 25:\n",
    "            lo = min(vals)\n",
    "            hi = max(vals)\n",
    "            diff = (hi - lo) / 25\n",
    "            vals = [x*diff + lo for x in range(1,25)]\n",
    "        max_ent = 0;\n",
    "        for row in dataset:\n",
    "            for value in vals:\n",
    "                groups = two_split(index, value, dataset)\n",
    "                ent = entropy_compute(groups, classes)\n",
    "                if ent > max_ent:\n",
    "                    max_ent = ent\n",
    "        info_gain.append(max_ent)\n",
    "    feat_gain = [(i, info_gain[i]) for i in range(len(features))]\n",
    "    feat_gain_sorted = sorted(feat_gain, key= lambda tup: tup[1])\n",
    "    print \"feature - information gain\"\n",
    "    for row in feat_gain_sorted:\n",
    "        print row\n",
    "    return feat_gain_sorted\n",
    "\n",
    "feat_gain_sorted = rank_features(X_test2)\n",
    "temp = sorted(feat_gain_sorted, key= lambda tup: tup[1],reverse=True)\n",
    "bb=[]\n",
    "cc=[]\n",
    "for i in range(0,53):\n",
    "    bb.append(temp[i][0])\n",
    "    cc.append(temp[i][1])\n",
    "print bb,cc"
   ]
  },
  {
   "cell_type": "code",
   "execution_count": 94,
   "metadata": {
    "collapsed": false
   },
   "outputs": [],
   "source": [
    "bb2 = [idx[i] for i in bb]\n",
    "bb2"
   ]
  },
  {
   "cell_type": "code",
   "execution_count": 96,
   "metadata": {
    "collapsed": false
   },
   "outputs": [
    {
     "data": {
      "image/png": "[encoded data removed]",
      "text/plain": [
       "<matplotlib.figure.Figure at 0x7f0543907890>"
      ]
     },
     "metadata": {},
     "output_type": "display_data"
    }
   ],
   "source": [
    "import matplotlib.pyplot as plt; plt.rcdefaults()\n",
    "import numpy as np\n",
    "import matplotlib.pyplot as plt\n",
    " \n",
    "y_pos = np.arange(len(bb2[0:20]))    \n",
    "plt.figure(figsize=(12,6))\n",
    "plt.bar(y_pos, cc[0:20], align='center', alpha=0.5)\n",
    "plt.xticks(y_pos, bb2[0:20])\n",
    "plt.ylabel('Feature importance')\n",
    "plt.title('Feature importance')\n",
    " \n",
    "plt.show()"
   ]
  },
  {
   "cell_type": "markdown",
   "metadata": {},
   "source": [
    "#### Part 2. Train 2 types of RFs\n",
    "#### Part 3. Investigate the the number of trees\n",
    "#### Part 5. Show the confusion matrix"
   ]
  },
  {
   "cell_type": "code",
   "execution_count": 10,
   "metadata": {
    "collapsed": false
   },
   "outputs": [
    {
     "name": "stdout",
     "output_type": "stream",
     "text": [
      "(31500, 294)\n"
     ]
    }
   ],
   "source": [
    "train = np.concatenate((X_train2, np.array([y_train]).T), axis = 1)\n",
    "print train.shape"
   ]
  },
  {
   "cell_type": "code",
   "execution_count": 11,
   "metadata": {
    "collapsed": true
   },
   "outputs": [],
   "source": [
    "trees = []"
   ]
  },
  {
   "cell_type": "code",
   "execution_count": 12,
   "metadata": {
    "collapsed": false
   },
   "outputs": [
    {
     "name": "stdout",
     "output_type": "stream",
     "text": [
      "tree number 1\n",
      "tree number 2\n",
      "tree number 3\n",
      "tree number 4\n",
      "tree number 5\n",
      "tree number 6\n",
      "tree number 7\n",
      "tree number 8\n",
      "tree number 9\n",
      "tree number 10\n",
      "tree number 11\n",
      "tree number 12\n",
      "tree number 13\n",
      "tree number 14\n",
      "tree number 15\n",
      "tree number 16\n",
      "tree number 17\n",
      "tree number 18\n",
      "tree number 19\n",
      "tree number 20\n",
      "tree number 21\n",
      "tree number 22\n",
      "tree number 23\n",
      "tree number 24\n",
      "tree number 25\n",
      "tree number 26\n",
      "tree number 27\n",
      "tree number 28\n",
      "tree number 29\n",
      "tree number 30\n",
      "tree number 31\n",
      "tree number 32\n",
      "tree number 33\n",
      "tree number 34\n",
      "tree number 35\n",
      "tree number 36\n",
      "tree number 37\n",
      "tree number 38\n",
      "tree number 39\n",
      "tree number 40\n",
      "tree number 41\n",
      "tree number 42\n",
      "tree number 43\n",
      "tree number 44\n",
      "tree number 45\n",
      "tree number 46\n",
      "tree number 47\n",
      "tree number 48\n",
      "tree number 49\n",
      "tree number 50\n",
      "tree number 51\n",
      "tree number 52\n",
      "tree number 53\n",
      "tree number 54\n",
      "tree number 55\n",
      "tree number 56\n",
      "tree number 57\n",
      "tree number 58\n",
      "tree number 59\n",
      "tree number 60\n",
      "tree number 61\n",
      "tree number 62\n",
      "tree number 63\n",
      "tree number 64\n",
      "tree number 65\n",
      "tree number 66\n",
      "tree number 67\n",
      "tree number 68\n",
      "tree number 69\n",
      "tree number 70\n",
      "tree number 71\n",
      "tree number 72\n",
      "tree number 73\n",
      "tree number 74\n",
      "tree number 75\n",
      "tree number 76\n",
      "tree number 77\n",
      "tree number 78\n",
      "tree number 79\n",
      "tree number 80\n",
      "tree number 81\n",
      "tree number 82\n",
      "tree number 83\n",
      "tree number 84\n",
      "tree number 85\n",
      "tree number 86\n",
      "tree number 87\n",
      "tree number 88\n",
      "tree number 89\n",
      "tree number 90\n",
      "tree number 91\n",
      "tree number 92\n",
      "tree number 93\n",
      "tree number 94\n",
      "tree number 95\n",
      "tree number 96\n",
      "tree number 97\n",
      "tree number 98\n",
      "tree number 99\n",
      "tree number 100\n"
     ]
    }
   ],
   "source": [
    "# build tree with max_depth 5\n",
    "n_trees = 100\n",
    "sample_ratio = 0.4\n",
    "max_depth = 5\n",
    "min_size = 30\n",
    "n_features = 0.4 * len(train[0])\n",
    "\n",
    "for i in range(n_trees):\n",
    "    print(\"tree number \" + str(i + 1))\n",
    "    samples = resample(train, sample_ratio)\n",
    "    tree = build_tree(samples, max_depth, min_size, n_features)\n",
    "    trees.append(tree)"
   ]
  },
  {
   "cell_type": "code",
   "execution_count": 17,
   "metadata": {
    "collapsed": false
   },
   "outputs": [
    {
     "name": "stdout",
     "output_type": "stream",
     "text": [
      "[[ 959    0    1    5    1   18   12   20    9    0]\n",
      " [   0 1081   13   19    1    2    4    6   19    1]\n",
      " [  42   37  814   26   21   15   61   31   16    9]\n",
      " [  23   27   62  787    7   95   16   28   22   84]\n",
      " [  11    5   10    0  661    0   39   14   18  266]\n",
      " [  36   13    6  114   23  510   58   25   27   86]\n",
      " [  27    9   54    4   28    8  854    6   17    3]\n",
      " [   0   22   85    3   13    0    1  937   19   55]\n",
      " [   2   81   41   18    8   14   32    4  751   54]\n",
      " [  13    8   12   12   35   10   18   60    6  860]]\n"
     ]
    }
   ],
   "source": [
    "# test predictions for trees depth 5\n",
    "predictions = [bagging_predict(trees, row) for row in X_test2];\n",
    "\n",
    "from sklearn.metrics import confusion_matrix\n",
    "import pylab as pl\n",
    "accuracy = confusion_matrix(y_test,predictions)\n",
    "print(accuracy)"
   ]
  },
  {
   "cell_type": "code",
   "execution_count": 18,
   "metadata": {
    "collapsed": true
   },
   "outputs": [],
   "source": [
    "import itertools\n",
    "\n",
    "def plot_confusion_matrix(cm, classes,\n",
    "                          normalize=False,\n",
    "                          title='Confusion matrix',\n",
    "                          cmap=plt.cm.Blues):\n",
    "    \"\"\"\n",
    "    This function prints and plots the confusion matrix.\n",
    "    Normalization can be applied by setting `normalize=True`.\n",
    "    \"\"\"\n",
    "    plt.imshow(cm, interpolation='nearest', cmap=cmap)\n",
    "    plt.title(title)\n",
    "    plt.colorbar()\n",
    "    tick_marks = np.arange(len(classes))\n",
    "    plt.xticks(tick_marks, classes, rotation=45)\n",
    "    plt.yticks(tick_marks, classes)\n",
    "\n",
    "    if normalize:\n",
    "        cm = cm.astype('float') / cm.sum(axis=1)[:, np.newaxis]\n",
    "        print(\"Normalized confusion matrix\")\n",
    "    else:\n",
    "        print('Confusion matrix, without normalization')\n",
    "\n",
    "    print(cm)\n",
    "\n",
    "    thresh = cm.max() / 2.\n",
    "    for i, j in itertools.product(range(cm.shape[0]), range(cm.shape[1])):\n",
    "        plt.text(j, i, cm[i, j],\n",
    "                 horizontalalignment=\"center\",\n",
    "                 color=\"white\" if cm[i, j] > thresh else \"black\")\n",
    "\n",
    "    plt.tight_layout()\n",
    "    plt.ylabel('True label')\n",
    "    plt.xlabel('Predicted label')"
   ]
  },
  {
   "cell_type": "code",
   "execution_count": 19,
   "metadata": {
    "collapsed": false
   },
   "outputs": [
    {
     "name": "stdout",
     "output_type": "stream",
     "text": [
      "Confusion matrix, without normalization\n",
      "[[ 959    0    1    5    1   18   12   20    9    0]\n",
      " [   0 1081   13   19    1    2    4    6   19    1]\n",
      " [  42   37  814   26   21   15   61   31   16    9]\n",
      " [  23   27   62  787    7   95   16   28   22   84]\n",
      " [  11    5   10    0  661    0   39   14   18  266]\n",
      " [  36   13    6  114   23  510   58   25   27   86]\n",
      " [  27    9   54    4   28    8  854    6   17    3]\n",
      " [   0   22   85    3   13    0    1  937   19   55]\n",
      " [   2   81   41   18    8   14   32    4  751   54]\n",
      " [  13    8   12   12   35   10   18   60    6  860]]\n"
     ]
    },
    {
     "data": {
      "image/png": "[encoded data removed]",
      "text/plain": [
       "<matplotlib.figure.Figure at 0x7f0554d0e6d0>"
      ]
     },
     "metadata": {},
     "output_type": "display_data"
    }
   ],
   "source": [
    "labels = ['0', '1', '2', '3', '4', '5', '6', '7','8','9']\n",
    "plt.figure()\n",
    "plot_confusion_matrix(accuracy, classes=labels,\n",
    "                      title='Confusion matrix, without normalization')\n",
    "plt.show()"
   ]
  },
  {
   "cell_type": "code",
   "execution_count": 25,
   "metadata": {
    "collapsed": true
   },
   "outputs": [],
   "source": [
    "# error rate method\n",
    "def get_error_rate(pred, Y):\n",
    "    return sum(pred != Y) / float(len(Y))\n",
    "# plot the error rate\n",
    "def plot_error_rate2(er_train, er_test):\n",
    "    df_error = pd.DataFrame([er_train, er_test]).T\n",
    "    df_error.columns = ['Training', 'Test']\n",
    "    plot1 = df_error.plot(linewidth = 3, figsize = (8,6),\n",
    "            color = ['lightblue', 'darkblue'], grid = True)\n",
    "    plot1.set_xlabel('Number of iterations', fontsize = 12)\n",
    "    plot1.set_xticklabels(range(0,100,20))\n",
    "    plot1.set_ylabel('Error rate', fontsize = 12)\n",
    "    plot1.set_title('Error rate vs number of iterations', fontsize = 16)\n",
    "    plt.axhline(y=er_test[0], linewidth=1, color = 'red', ls = 'dashed')"
   ]
  },
  {
   "cell_type": "code",
   "execution_count": 21,
   "metadata": {
    "collapsed": true
   },
   "outputs": [],
   "source": [
    "# investigate the number of trees\n",
    "nums = [1, 20, 40, 60, 80, 100]\n",
    "err_train = []\n",
    "err_test = []\n",
    "for n in nums:\n",
    "    # compute number of errors in each number of trees\n",
    "    pred_train = [bagging_predict(trees[0:n], row) for row in X_train2]\n",
    "    pred_test = [bagging_predict(trees[0:n], row) for row in X_test2]\n",
    "    err_train.append(get_error_rate(pred_train, y_train))\n",
    "    err_test.append(get_error_rate(pred_test, y_test))"
   ]
  },
  {
   "cell_type": "markdown",
   "metadata": {},
   "source": [
    "Our decision tree is only 2 splits so the depth = 5 is not a proper parameter. Then we try to show the result with depth = 15"
   ]
  },
  {
   "cell_type": "code",
   "execution_count": 62,
   "metadata": {
    "collapsed": true
   },
   "outputs": [],
   "source": [
    "trees_15 = []"
   ]
  },
  {
   "cell_type": "code",
   "execution_count": 76,
   "metadata": {
    "collapsed": false
   },
   "outputs": [
    {
     "name": "stdout",
     "output_type": "stream",
     "text": [
      "tree number 1\n",
      "tree number 2\n",
      "tree number 3\n",
      "tree number 4\n",
      "tree number 5\n",
      "tree number 6\n",
      "tree number 7\n",
      "tree number 8\n",
      "tree number 9\n",
      "tree number 10\n",
      "tree number 11\n",
      "tree number 12\n",
      "tree number 13\n",
      "tree number 14\n",
      "tree number 15\n",
      "tree number 16\n",
      "tree number 17\n",
      "tree number 18\n",
      "tree number 19\n",
      "tree number 20\n",
      "tree number 21\n",
      "tree number 22\n",
      "tree number 23\n",
      "tree number 24\n",
      "tree number 25\n"
     ]
    },
    {
     "ename": "KeyboardInterrupt",
     "evalue": "",
     "output_type": "error",
     "traceback": [
      "\u001b[0;31m---------------------------------------------------------------------------\u001b[0m",
      "\u001b[0;31mKeyboardInterrupt\u001b[0m                         Traceback (most recent call last)",
      "\u001b[0;32m<ipython-input-76-f187d1a57349>\u001b[0m in \u001b[0;36m<module>\u001b[0;34m()\u001b[0m\n\u001b[1;32m     10\u001b[0m     \u001b[0msamples\u001b[0m \u001b[0;34m=\u001b[0m \u001b[0mresample\u001b[0m\u001b[0;34m(\u001b[0m\u001b[0mtrain\u001b[0m\u001b[0;34m,\u001b[0m \u001b[0msample_ratio\u001b[0m\u001b[0;34m)\u001b[0m\u001b[0;34m\u001b[0m\u001b[0m\n\u001b[1;32m     11\u001b[0m \u001b[0;34m\u001b[0m\u001b[0m\n\u001b[0;32m---> 12\u001b[0;31m     \u001b[0mtree\u001b[0m \u001b[0;34m=\u001b[0m \u001b[0mbuild_tree\u001b[0m\u001b[0;34m(\u001b[0m\u001b[0msamples\u001b[0m\u001b[0;34m,\u001b[0m \u001b[0mmax_depth\u001b[0m\u001b[0;34m,\u001b[0m \u001b[0mmin_size\u001b[0m\u001b[0;34m,\u001b[0m \u001b[0mn_features\u001b[0m\u001b[0;34m)\u001b[0m\u001b[0;34m\u001b[0m\u001b[0m\n\u001b[0m\u001b[1;32m     13\u001b[0m     \u001b[0mtrees_15\u001b[0m\u001b[0;34m.\u001b[0m\u001b[0mappend\u001b[0m\u001b[0;34m(\u001b[0m\u001b[0mtree\u001b[0m\u001b[0;34m)\u001b[0m\u001b[0;34m\u001b[0m\u001b[0m\n",
      "\u001b[0;32m<ipython-input-9-9d1090a972c0>\u001b[0m in \u001b[0;36mbuild_tree\u001b[0;34m(train, max_depth, min_size, n_features)\u001b[0m\n\u001b[1;32m    100\u001b[0m \u001b[0;31m# build a decision tree\u001b[0m\u001b[0;34m\u001b[0m\u001b[0;34m\u001b[0m\u001b[0m\n\u001b[1;32m    101\u001b[0m \u001b[0;32mdef\u001b[0m \u001b[0mbuild_tree\u001b[0m\u001b[0;34m(\u001b[0m\u001b[0mtrain\u001b[0m\u001b[0;34m,\u001b[0m \u001b[0mmax_depth\u001b[0m\u001b[0;34m,\u001b[0m \u001b[0mmin_size\u001b[0m\u001b[0;34m,\u001b[0m \u001b[0mn_features\u001b[0m\u001b[0;34m)\u001b[0m\u001b[0;34m:\u001b[0m\u001b[0;34m\u001b[0m\u001b[0m\n\u001b[0;32m--> 102\u001b[0;31m     \u001b[0mroot\u001b[0m \u001b[0;34m=\u001b[0m \u001b[0mget_split\u001b[0m\u001b[0;34m(\u001b[0m\u001b[0mtrain\u001b[0m\u001b[0;34m,\u001b[0m \u001b[0mn_features\u001b[0m\u001b[0;34m)\u001b[0m\u001b[0;34m\u001b[0m\u001b[0m\n\u001b[0m\u001b[1;32m    103\u001b[0m     \u001b[0msplit\u001b[0m\u001b[0;34m(\u001b[0m\u001b[0mroot\u001b[0m\u001b[0;34m,\u001b[0m \u001b[0mmax_depth\u001b[0m\u001b[0;34m,\u001b[0m \u001b[0mmin_size\u001b[0m\u001b[0;34m,\u001b[0m \u001b[0mn_features\u001b[0m\u001b[0;34m,\u001b[0m \u001b[0;36m1\u001b[0m\u001b[0;34m)\u001b[0m\u001b[0;34m\u001b[0m\u001b[0m\n\u001b[1;32m    104\u001b[0m     \u001b[0;32mreturn\u001b[0m \u001b[0mroot\u001b[0m\u001b[0;34m\u001b[0m\u001b[0m\n",
      "\u001b[0;32m<ipython-input-9-9d1090a972c0>\u001b[0m in \u001b[0;36mget_split\u001b[0;34m(dataset, n_features)\u001b[0m\n\u001b[1;32m     61\u001b[0m             \u001b[0mvals\u001b[0m \u001b[0;34m=\u001b[0m \u001b[0;34m[\u001b[0m\u001b[0mx\u001b[0m \u001b[0;34m*\u001b[0m \u001b[0mdiff\u001b[0m \u001b[0;34m+\u001b[0m \u001b[0mlow\u001b[0m \u001b[0;32mfor\u001b[0m \u001b[0mx\u001b[0m \u001b[0;32min\u001b[0m \u001b[0mrange\u001b[0m\u001b[0;34m(\u001b[0m\u001b[0;36m0\u001b[0m\u001b[0;34m,\u001b[0m \u001b[0;36m5\u001b[0m\u001b[0;34m)\u001b[0m\u001b[0;34m]\u001b[0m\u001b[0;34m\u001b[0m\u001b[0m\n\u001b[1;32m     62\u001b[0m             \u001b[0;32mfor\u001b[0m \u001b[0mvalue\u001b[0m \u001b[0;32min\u001b[0m \u001b[0mvals\u001b[0m\u001b[0;34m:\u001b[0m\u001b[0;34m\u001b[0m\u001b[0m\n\u001b[0;32m---> 63\u001b[0;31m                 \u001b[0mgroups\u001b[0m \u001b[0;34m=\u001b[0m \u001b[0mtwo_split\u001b[0m\u001b[0;34m(\u001b[0m\u001b[0mindex\u001b[0m\u001b[0;34m,\u001b[0m \u001b[0mvalue\u001b[0m\u001b[0;34m,\u001b[0m \u001b[0mdataset\u001b[0m\u001b[0;34m)\u001b[0m\u001b[0;34m\u001b[0m\u001b[0m\n\u001b[0m\u001b[1;32m     64\u001b[0m                 \u001b[0ment\u001b[0m \u001b[0;34m=\u001b[0m \u001b[0mentropy_compute\u001b[0m\u001b[0;34m(\u001b[0m\u001b[0mgroups\u001b[0m\u001b[0;34m,\u001b[0m \u001b[0mclasses\u001b[0m\u001b[0;34m)\u001b[0m\u001b[0;34m\u001b[0m\u001b[0m\n\u001b[1;32m     65\u001b[0m                 \u001b[0;32mif\u001b[0m \u001b[0ment\u001b[0m \u001b[0;34m>\u001b[0m \u001b[0mb_score\u001b[0m\u001b[0;34m:\u001b[0m\u001b[0;34m\u001b[0m\u001b[0m\n",
      "\u001b[0;32m<ipython-input-9-9d1090a972c0>\u001b[0m in \u001b[0;36mtwo_split\u001b[0;34m(index, value, dataset)\u001b[0m\n\u001b[1;32m      8\u001b[0m     \u001b[0;32mfor\u001b[0m \u001b[0mrow\u001b[0m \u001b[0;32min\u001b[0m \u001b[0mdataset\u001b[0m\u001b[0;34m:\u001b[0m\u001b[0;34m\u001b[0m\u001b[0m\n\u001b[1;32m      9\u001b[0m         \u001b[0;32mif\u001b[0m \u001b[0mrow\u001b[0m\u001b[0;34m[\u001b[0m\u001b[0mindex\u001b[0m\u001b[0;34m]\u001b[0m \u001b[0;34m<\u001b[0m \u001b[0mvalue\u001b[0m\u001b[0;34m:\u001b[0m\u001b[0;34m\u001b[0m\u001b[0m\n\u001b[0;32m---> 10\u001b[0;31m             \u001b[0mleft\u001b[0m\u001b[0;34m.\u001b[0m\u001b[0mappend\u001b[0m\u001b[0;34m(\u001b[0m\u001b[0mrow\u001b[0m\u001b[0;34m)\u001b[0m\u001b[0;34m\u001b[0m\u001b[0m\n\u001b[0m\u001b[1;32m     11\u001b[0m         \u001b[0;32melse\u001b[0m\u001b[0;34m:\u001b[0m\u001b[0;34m\u001b[0m\u001b[0m\n\u001b[1;32m     12\u001b[0m             \u001b[0mright\u001b[0m\u001b[0;34m.\u001b[0m\u001b[0mappend\u001b[0m\u001b[0;34m(\u001b[0m\u001b[0mrow\u001b[0m\u001b[0;34m)\u001b[0m\u001b[0;34m\u001b[0m\u001b[0m\n",
      "\u001b[0;31mKeyboardInterrupt\u001b[0m: "
     ]
    }
   ],
   "source": [
    "# build tree with max_depth 15\n",
    "n_trees = 60\n",
    "sample_ratio = 0.4\n",
    "max_depth = 15\n",
    "min_size = 30\n",
    "n_features = 0.4 * len(train[0])\n",
    "\n",
    "for i in range(n_trees):\n",
    "    print(\"tree number \" + str(i + 1))\n",
    "    samples = resample(train, sample_ratio)\n",
    "    \n",
    "    tree = build_tree(samples, max_depth, min_size, n_features)\n",
    "    trees_15.append(tree)"
   ]
  },
  {
   "cell_type": "code",
   "execution_count": 82,
   "metadata": {
    "collapsed": false
   },
   "outputs": [
    {
     "name": "stdout",
     "output_type": "stream",
     "text": [
      "[[1002    0    4    1    4    6    2    0    4    2]\n",
      " [   0 1124    9    1    1    2    6    2    1    0]\n",
      " [  12    8  974   10   18    5   18   10   14    3]\n",
      " [   4    2   21 1021    3   41    5   17   24   13]\n",
      " [   4    2    3    1  955    2    8    2    5   42]\n",
      " [   9    2    5   12    4  828   16    2   14    6]\n",
      " [  13    2    3    4    8   14  950    1   15    0]\n",
      " [   0    8   30    3   13    1    0 1050    5   25]\n",
      " [   4   11   17    7    6    6    8    2  934   10]\n",
      " [   7    2    5   17   25   12    5   17   11  933]]\n"
     ]
    }
   ],
   "source": [
    "# test predictions for trees depth 15\n",
    "predictions_15 = [bagging_predict(trees_15, row) for row in X_test2];\n",
    "\n",
    "from sklearn.metrics import confusion_matrix\n",
    "import pylab as pl\n",
    "accuracy = confusion_matrix(y_test,predictions_15)\n",
    "print(accuracy)"
   ]
  },
  {
   "cell_type": "code",
   "execution_count": 84,
   "metadata": {
    "collapsed": false
   },
   "outputs": [
    {
     "name": "stdout",
     "output_type": "stream",
     "text": [
      "Confusion matrix, without normalization\n",
      "[[1002    0    4    1    4    6    2    0    4    2]\n",
      " [   0 1124    9    1    1    2    6    2    1    0]\n",
      " [  12    8  974   10   18    5   18   10   14    3]\n",
      " [   4    2   21 1021    3   41    5   17   24   13]\n",
      " [   4    2    3    1  955    2    8    2    5   42]\n",
      " [   9    2    5   12    4  828   16    2   14    6]\n",
      " [  13    2    3    4    8   14  950    1   15    0]\n",
      " [   0    8   30    3   13    1    0 1050    5   25]\n",
      " [   4   11   17    7    6    6    8    2  934   10]\n",
      " [   7    2    5   17   25   12    5   17   11  933]]\n"
     ]
    },
    {
     "data": {
      "image/png": "[encoded data removed]",
      "text/plain": [
       "<matplotlib.figure.Figure at 0x7f05541fcd10>"
      ]
     },
     "metadata": {},
     "output_type": "display_data"
    }
   ],
   "source": [
    "labels = ['0', '1', '2', '3', '4', '5', '6', '7','8','9']\n",
    "plt.figure()\n",
    "plot_confusion_matrix(accuracy, classes=labels,\n",
    "                      title='Confusion matrix, without normalization')\n",
    "plt.show()"
   ]
  },
  {
   "cell_type": "markdown",
   "metadata": {},
   "source": [
    "full extent trees"
   ]
  },
  {
   "cell_type": "code",
   "execution_count": 27,
   "metadata": {
    "collapsed": true
   },
   "outputs": [],
   "source": [
    "trees_full = []"
   ]
  },
  {
   "cell_type": "code",
   "execution_count": 33,
   "metadata": {
    "collapsed": false
   },
   "outputs": [
    {
     "name": "stdout",
     "output_type": "stream",
     "text": [
      "tree number 1\n",
      "tree number 2\n",
      "tree number 3\n",
      "tree number 4\n",
      "tree number 5\n",
      "tree number 6\n",
      "tree number 7\n",
      "tree number 8\n",
      "tree number 9\n",
      "tree number 10\n",
      "tree number 11\n",
      "tree number 12\n",
      "tree number 13\n",
      "tree number 14\n",
      "tree number 15\n",
      "tree number 16\n",
      "tree number 17\n",
      "tree number 18\n",
      "tree number 19\n",
      "tree number 20\n",
      "tree number 21\n",
      "tree number 22\n",
      "tree number 23\n",
      "tree number 24\n",
      "tree number 25\n",
      "tree number 26\n",
      "tree number 27\n",
      "tree number 28\n",
      "tree number 29\n",
      "tree number 30\n",
      "tree number 31\n",
      "tree number 32\n",
      "tree number 33\n",
      "tree number 34\n",
      "tree number 35\n",
      "tree number 36\n",
      "tree number 37\n",
      "tree number 38\n",
      "tree number 39\n",
      "tree number 40\n",
      "tree number 41\n",
      "tree number 42\n",
      "tree number 43\n",
      "tree number 44\n",
      "tree number 45\n",
      "tree number 46\n",
      "tree number 47\n",
      "tree number 48\n",
      "tree number 49\n",
      "tree number 50\n",
      "tree number 51\n",
      "tree number 52\n",
      "tree number 53\n",
      "tree number 54\n",
      "tree number 55\n",
      "tree number 56\n",
      "tree number 57\n",
      "tree number 58\n",
      "tree number 59\n",
      "tree number 60\n",
      "tree number 61\n",
      "tree number 62\n",
      "tree number 63\n",
      "tree number 64\n",
      "tree number 65\n",
      "tree number 66\n",
      "tree number 67\n",
      "tree number 68\n",
      "tree number 69\n",
      "tree number 70\n",
      "tree number 71\n",
      "tree number 72\n",
      "tree number 73\n",
      "tree number 74\n",
      "tree number 75\n",
      "tree number 76\n",
      "tree number 77\n",
      "tree number 78\n",
      "tree number 79\n",
      "tree number 80\n",
      "tree number 81\n",
      "tree number 82\n",
      "tree number 83\n",
      "tree number 84\n",
      "tree number 85\n",
      "tree number 86\n",
      "tree number 87\n",
      "tree number 88\n",
      "tree number 89\n",
      "tree number 90\n",
      "tree number 91\n",
      "tree number 92\n",
      "tree number 93\n",
      "tree number 94\n",
      "tree number 95\n",
      "tree number 96\n",
      "tree number 97\n",
      "tree number 98\n",
      "tree number 99\n",
      "tree number 100\n"
     ]
    }
   ],
   "source": [
    "# build tree with max_depth 100\n",
    "n_trees = 100\n",
    "sample_ratio = 0.4\n",
    "max_depth = 100\n",
    "min_size = 30\n",
    "n_features = 0.4 * len(train[0])\n",
    "\n",
    "for i in range(n_trees):\n",
    "    print(\"tree number \" + str(i + 1))\n",
    "    samples = resample(train, sample_ratio)\n",
    "    \n",
    "    tree = build_tree(samples, max_depth, min_size, n_features)\n",
    "    trees_full.append(tree)"
   ]
  },
  {
   "cell_type": "code",
   "execution_count": 85,
   "metadata": {
    "collapsed": false
   },
   "outputs": [
    {
     "name": "stdout",
     "output_type": "stream",
     "text": [
      "[[1004    0    3    1    2    5    4    0    5    1]\n",
      " [   0 1125    8    0    0    5    4    3    0    1]\n",
      " [  14    8  976    8   13    8   17   13   12    3]\n",
      " [   3    3   22 1024    2   46    3   16   19   13]\n",
      " [   6    1    3    1  960    1    5    3    7   37]\n",
      " [  10    2    4   19    2  819   14    2   17    9]\n",
      " [  16    2    4    2    8   13  946    0   18    1]\n",
      " [   1    8   30    3   13    0    0 1045    7   28]\n",
      " [   1   11    7    6    4    7    8    1  946   14]\n",
      " [   7    2    6   15   26   11    3   15    8  941]]\n"
     ]
    }
   ],
   "source": [
    "# test predictions for trees depth 100\n",
    "predictions_full = [bagging_predict(trees_full, row) for row in X_test2];\n",
    "\n",
    "from sklearn.metrics import confusion_matrix\n",
    "import pylab as pl\n",
    "accuracy2 = confusion_matrix(y_test,predictions_full)\n",
    "print(accuracy2)"
   ]
  },
  {
   "cell_type": "code",
   "execution_count": 86,
   "metadata": {
    "collapsed": false
   },
   "outputs": [
    {
     "name": "stdout",
     "output_type": "stream",
     "text": [
      "Confusion matrix, without normalization\n",
      "[[1004    0    3    1    2    5    4    0    5    1]\n",
      " [   0 1125    8    0    0    5    4    3    0    1]\n",
      " [  14    8  976    8   13    8   17   13   12    3]\n",
      " [   3    3   22 1024    2   46    3   16   19   13]\n",
      " [   6    1    3    1  960    1    5    3    7   37]\n",
      " [  10    2    4   19    2  819   14    2   17    9]\n",
      " [  16    2    4    2    8   13  946    0   18    1]\n",
      " [   1    8   30    3   13    0    0 1045    7   28]\n",
      " [   1   11    7    6    4    7    8    1  946   14]\n",
      " [   7    2    6   15   26   11    3   15    8  941]]\n"
     ]
    },
    {
     "data": {
      "image/png": "[encoded data removed]",
      "text/plain": [
       "<matplotlib.figure.Figure at 0x7f05435db410>"
      ]
     },
     "metadata": {},
     "output_type": "display_data"
    }
   ],
   "source": [
    "labels = ['0', '1', '2', '3', '4', '5', '6', '7','8','9']\n",
    "plt.figure()\n",
    "plot_confusion_matrix(accuracy2, classes=labels,\n",
    "                      title='Confusion matrix, without normalization')\n",
    "plt.show()"
   ]
  },
  {
   "cell_type": "code",
   "execution_count": 39,
   "metadata": {
    "collapsed": true
   },
   "outputs": [],
   "source": [
    "# investigate the number of trees\n",
    "nums = [1, 20, 40, 60, 80, 100]\n",
    "err_train = []\n",
    "err_test = []\n",
    "for n in nums:\n",
    "    # compute number of errors in each number of trees\n",
    "    pred_train = [bagging_predict(trees_full[0:n], row) for row in X_train2]\n",
    "    pred_test = [bagging_predict(trees_full[0:n], row) for row in X_test2]\n",
    "    err_train.append(get_error_rate(pred_train, y_train))\n",
    "    err_test.append(get_error_rate(pred_test, y_test))"
   ]
  },
  {
   "cell_type": "code",
   "execution_count": 41,
   "metadata": {
    "collapsed": false
   },
   "outputs": [
    {
     "data": {
      "image/png": "[encoded data removed]",
      "text/plain": [
       "<matplotlib.figure.Figure at 0x7f0543af8dd0>"
      ]
     },
     "metadata": {},
     "output_type": "display_data"
    },
    {
     "data": {
      "image/png": "[encoded data removed]",
      "text/plain": [
       "<matplotlib.figure.Figure at 0x7f05439f6d50>"
      ]
     },
     "metadata": {},
     "output_type": "display_data"
    }
   ],
   "source": [
    "plot_error_rate2(err_train, err_test)\n",
    "plt.show()"
   ]
  },
  {
   "cell_type": "markdown",
   "metadata": {},
   "source": [
    "#### Part 6. Plot errors"
   ]
  },
  {
   "cell_type": "code",
   "execution_count": null,
   "metadata": {
    "collapsed": true
   },
   "outputs": [],
   "source": []
  },
  {
   "cell_type": "markdown",
   "metadata": {},
   "source": [
    "#### Part 7. Comment on the trends you observed with increasing B for the two types of RFs. "
   ]
  },
  {
   "cell_type": "code",
   "execution_count": null,
   "metadata": {
    "collapsed": true
   },
   "outputs": [],
   "source": []
  },
  {
   "cell_type": "markdown",
   "metadata": {},
   "source": [
    "## Boosting\n",
    "---\n",
    "### Covertype\n",
    "#### Part 1. data preprocessing (already done)\n",
    "#### Part 2. Implement Adaboost with 2 types of training and test sets"
   ]
  },
  {
   "cell_type": "markdown",
   "metadata": {},
   "source": [
    "methods:\n",
    "* adaboost_clf2: multiclass adaboost algorithm, M - number of weak classifiers, Max_depth - max depth of decision tree, Min_split - min split of decision tree"
   ]
  },
  {
   "cell_type": "code",
   "execution_count": 59,
   "metadata": {
    "collapsed": true
   },
   "outputs": [],
   "source": [
    "import math\n",
    "def adaboost_clf2(y_train, X_train, y_test, X_test, M, Max_depth, Min_split):\n",
    "    n_train, n_test = len(X_train), len(X_test)\n",
    "    err_test, err_train = [], []\n",
    "    classes = list(set(y_train))\n",
    "    n_class = len(classes)\n",
    "    # initialize weights\n",
    "    w = np.ones(n_train) / n_train\n",
    "    pred_train, pred_test = np.zeros((n_train, n_class)), np.zeros((n_test, n_class))\n",
    "    for i in range(M):\n",
    "        \n",
    "        clf = DecisionTreeClassifier(max_depth=Max_depth, min_samples_split=Min_split, random_state=42)\n",
    "        clf.fit(X_train, y_train, sample_weight = w)\n",
    "        pred_train_i = clf.predict(X_train)\n",
    "        pred_test_i = clf.predict(X_test)\n",
    "        \n",
    "        miss1 = [int(x) for x in (pred_train_i != y_train)]\n",
    "        err_m = np.dot(w,miss1) / sum(w)\n",
    "        #print err_m\n",
    "        alpha_m = np.log((1-err_m) / float(err_m)) + math.log(n_class - 1)\n",
    "        #print alpha_m\n",
    "        \n",
    "        miss2 = [x if x == 1 else -1 for x in miss1]\n",
    "        w = np.multiply(w, np.exp([float(x) * alpha_m for x in miss2]))\n",
    "        w = w / sum(w)\n",
    "        #print miss1\n",
    "        #print miss2\n",
    "        #print w\n",
    "        # update\n",
    "        for i in range(n_train):\n",
    "            cls = pred_train_i[i]\n",
    "            idx = classes.index(cls)\n",
    "            pred_train[i, idx] += alpha_m\n",
    "        for i in range(n_test):\n",
    "            cls = pred_test_i[i]\n",
    "            idx = classes.index(cls)\n",
    "            pred_test[i, idx] += alpha_m\n",
    "        \n",
    "        # get the prediction\n",
    "        prediction_train = [classes[np.argmax(row)] for row in pred_train]\n",
    "        #print 'the prediction', prediction_train\n",
    "        #print 'the y train', y_train\n",
    "        prediction_test = [classes[np.argmax(row)] for row in pred_test]\n",
    "        \n",
    "        # compute current error rate\n",
    "        err_train.append(get_error_rate(prediction_train, y_train))\n",
    "        err_test.append(get_error_rate(prediction_test, y_test))\n",
    "    # confusion matrix\n",
    "    from sklearn.metrics import confusion_matrix\n",
    "    accuracy = confusion_matrix(y_test,prediction_test)\n",
    "    print accuracy\n",
    "    labels = ['0', '1', '2', '3', '4', '5', '6', '7','8','9']\n",
    "    plt.figure()\n",
    "    plot_confusion_matrix(accuracy, classes=labels, title='Confusion matrix, without normalization')\n",
    "    plt.show()\n",
    "    return err_train, err_test\n",
    "\n"
   ]
  },
  {
   "cell_type": "code",
   "execution_count": null,
   "metadata": {
    "collapsed": true
   },
   "outputs": [],
   "source": []
  },
  {
   "cell_type": "markdown",
   "metadata": {},
   "source": [
    "#### Part 3. Investigate number of iterations - M\n",
    "#### Part 4. Confusion matrix\n",
    "#### Part 6. For each of the two types plot the training error, test error, w.r.t. the number of iterations."
   ]
  },
  {
   "cell_type": "code",
   "execution_count": 56,
   "metadata": {
    "collapsed": false
   },
   "outputs": [
    {
     "name": "stdout",
     "output_type": "stream",
     "text": [
      "[[753   0  71  14   3 128  26   4  20   6]\n",
      " [  0 932   3   4   0 104  29   8  66   0]\n",
      " [ 12  68 568  39  23  24 216  36  78   8]\n",
      " [ 12  32  26 575   6 194   8  29 250  19]\n",
      " [  3   0  41  29 642  29  38  34 130  78]\n",
      " [ 17  16   7 122  21 446  52   7 195  15]\n",
      " [ 10   4  90  20  32  59 726   2  55  12]\n",
      " [ 26  32  22  19  40  22   5 696  44 229]\n",
      " [  3  44  21  57   4  42  40  16 749  29]\n",
      " [  7   6  46  93 221  45   2  84 186 344]]\n",
      "Confusion matrix, without normalization\n",
      "[[753   0  71  14   3 128  26   4  20   6]\n",
      " [  0 932   3   4   0 104  29   8  66   0]\n",
      " [ 12  68 568  39  23  24 216  36  78   8]\n",
      " [ 12  32  26 575   6 194   8  29 250  19]\n",
      " [  3   0  41  29 642  29  38  34 130  78]\n",
      " [ 17  16   7 122  21 446  52   7 195  15]\n",
      " [ 10   4  90  20  32  59 726   2  55  12]\n",
      " [ 26  32  22  19  40  22   5 696  44 229]\n",
      " [  3  44  21  57   4  42  40  16 749  29]\n",
      " [  7   6  46  93 221  45   2  84 186 344]]\n"
     ]
    },
    {
     "data": {
      "image/png": "[encoded data removed]",
      "text/plain": [
       "<matplotlib.figure.Figure at 0x7f0553275ad0>"
      ]
     },
     "metadata": {},
     "output_type": "display_data"
    }
   ],
   "source": [
    "# type one, depth = 1\n",
    "err_train, err_test=adaboost_clf2(y_train, X_train2, y_test, X_test2, 100, 1, 2)"
   ]
  },
  {
   "cell_type": "code",
   "execution_count": 71,
   "metadata": {
    "collapsed": true
   },
   "outputs": [],
   "source": [
    "def plot_error_rate(er_train, er_test):\n",
    "    df_error = pd.DataFrame([er_train, er_test]).T\n",
    "    df_error.columns = ['Training', 'Test']\n",
    "    plot1 = df_error.plot(linewidth = 3, figsize = (8,6),\n",
    "            color = ['lightblue', 'darkblue'], grid = True)\n",
    "    plot1.set_xlabel('Number of iterations', fontsize = 12)\n",
    "    plot1.set_xticklabels(range(0,200,20))\n",
    "    plot1.set_ylabel('Error rate', fontsize = 12)\n",
    "    plot1.set_title('Error rate vs number of iterations', fontsize = 16)\n",
    "    plt.axhline(y=er_test[0], linewidth=1, color = 'red', ls = 'dashed')"
   ]
  },
  {
   "cell_type": "code",
   "execution_count": 72,
   "metadata": {
    "collapsed": false
   },
   "outputs": [
    {
     "data": {
      "image/png": "[encoded data removed]",
      "text/plain": [
       "<matplotlib.figure.Figure at 0x7f0554b9bd10>"
      ]
     },
     "metadata": {},
     "output_type": "display_data"
    }
   ],
   "source": [
    "plot_error_rate(err_train, err_test)\n",
    "plt.show()"
   ]
  },
  {
   "cell_type": "code",
   "execution_count": 74,
   "metadata": {
    "collapsed": false
   },
   "outputs": [
    {
     "name": "stdout",
     "output_type": "stream",
     "text": [
      "[[1001    0    2    1    0    9    5    2    3    2]\n",
      " [   0 1134    3    2    1    1    1    2    1    1]\n",
      " [   3    5 1012   10    9    3    4   10   11    5]\n",
      " [   0    3    6 1066    2   19    2    9   26   18]\n",
      " [   2    0    4    0  978    0    4    2    1   33]\n",
      " [   2    0    1   26    1  847    7    1    5    8]\n",
      " [   6    1    1    1   10   13  971    0    7    0]\n",
      " [   0    6   14    1    7    1    0 1063    3   40]\n",
      " [   1    4    8   15    6    8    0    4  947   12]\n",
      " [   5    1    3   14   10    6    2    8    4  981]]\n",
      "Confusion matrix, without normalization\n",
      "[[1001    0    2    1    0    9    5    2    3    2]\n",
      " [   0 1134    3    2    1    1    1    2    1    1]\n",
      " [   3    5 1012   10    9    3    4   10   11    5]\n",
      " [   0    3    6 1066    2   19    2    9   26   18]\n",
      " [   2    0    4    0  978    0    4    2    1   33]\n",
      " [   2    0    1   26    1  847    7    1    5    8]\n",
      " [   6    1    1    1   10   13  971    0    7    0]\n",
      " [   0    6   14    1    7    1    0 1063    3   40]\n",
      " [   1    4    8   15    6    8    0    4  947   12]\n",
      " [   5    1    3   14   10    6    2    8    4  981]]\n"
     ]
    },
    {
     "data": {
      "image/png": "[encoded data removed]",
      "text/plain": [
       "<matplotlib.figure.Figure at 0x7f05437de190>"
      ]
     },
     "metadata": {},
     "output_type": "display_data"
    }
   ],
   "source": [
    "# type two, depth = 10\n",
    "err_train2, err_test2=adaboost_clf2(y_train, X_train2, y_test, X_test2, 150, 10, 2)\n"
   ]
  },
  {
   "cell_type": "code",
   "execution_count": 75,
   "metadata": {
    "collapsed": false
   },
   "outputs": [
    {
     "data": {
      "image/png": "[encoded data removed]",
      "text/plain": [
       "<matplotlib.figure.Figure at 0x7f055413aa10>"
      ]
     },
     "metadata": {},
     "output_type": "display_data"
    }
   ],
   "source": [
    "plot_error_rate(err_train2, err_test2)\n",
    "plt.show()"
   ]
  },
  {
   "cell_type": "markdown",
   "metadata": {},
   "source": [
    "#### Part 5.Analyze and explain the trends you noted that may justify your results and parameter choices"
   ]
  },
  {
   "cell_type": "code",
   "execution_count": null,
   "metadata": {
    "collapsed": true
   },
   "outputs": [],
   "source": []
  },
  {
   "cell_type": "markdown",
   "metadata": {},
   "source": [
    "#### Part 7. Comment on the trends you observed with increasing iterations for the two types of learners"
   ]
  },
  {
   "cell_type": "code",
   "execution_count": null,
   "metadata": {
    "collapsed": true
   },
   "outputs": [],
   "source": []
  }
 ],
 "metadata": {
  "kernelspec": {
   "display_name": "Python 2",
   "language": "python",
   "name": "python2"
  },
  "language_info": {
   "codemirror_mode": {
    "name": "ipython",
    "version": 2
   },
   "file_extension": ".py",
   "mimetype": "text/x-python",
   "name": "python",
   "nbconvert_exporter": "python",
   "pygments_lexer": "ipython2",
   "version": "2.7.13"
  }
 },
 "nbformat": 4,
 "nbformat_minor": 2
}
