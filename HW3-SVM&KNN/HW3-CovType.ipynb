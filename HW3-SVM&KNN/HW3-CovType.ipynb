{
 "cells": [
  {
   "cell_type": "code",
   "execution_count": 1,
   "metadata": {
    "collapsed": true
   },
   "outputs": [],
   "source": [
    "import matplotlib.pyplot as plt\n",
    "import numpy as np\n",
    "import pandas as pd\n",
    "\n",
    "from sklearn.ensemble import RandomForestClassifier\n",
    "from sklearn.tree import DecisionTreeClassifier\n",
    "from sklearn.model_selection import train_test_split, cross_val_score, KFold\n",
    "from sklearn.metrics import confusion_matrix, accuracy_score, zero_one_loss\n",
    "\n",
    "%config InlineBackend.figure_format='svg'\n",
    "%matplotlib inline"
   ]
  },
  {
   "cell_type": "code",
   "execution_count": 3,
   "metadata": {
    "collapsed": false
   },
   "outputs": [],
   "source": [
    "covertype_path = './covtype/covtype.data'\n",
    "\n",
    "names = [\n",
    "    'Elevation',\n",
    "    'Aspect',\n",
    "    'Slope',\n",
    "    'Horizontal_Distance_To_Hydrology',\n",
    "    'Vertical_Distance_To_Hydrology',\n",
    "    'Horizontal_Distance_To_Roadways',\n",
    "    'Hillshade_9am',\n",
    "    'Hillshade_Noon',\n",
    "    'Hillshade_3pm',\n",
    "    'Horizontal_Distance_To_Fire_Points',\n",
    "]\n",
    "\n",
    "Wilderness_Area = []\n",
    "for i in range(4):\n",
    "    Wilderness_Area.append('Wilderness_Area_{}'.format(i+1))\n",
    "\n",
    "Soil_Type = []\n",
    "for i in range(40):\n",
    "    Soil_Type.append('Soil_Type_{}'.format(i+1))\n",
    "\n",
    "names.extend(Wilderness_Area + Soil_Type + ['Cover_Type'])\n",
    "covertype_df = pd.read_csv(covertype_path, names=names)"
   ]
  },
  {
   "cell_type": "code",
   "execution_count": 3,
   "metadata": {
    "collapsed": true
   },
   "outputs": [],
   "source": [
    "X = covertype_df.drop('Cover_Type',axis=1)\n",
    "y = covertype_df['Cover_Type']\n",
    "\n",
    "X_train, X_test, y_train, y_test = train_test_split(X.as_matrix(), y.as_matrix(), test_size=0.25, random_state=42)"
   ]
  },
  {
   "cell_type": "code",
   "execution_count": 4,
   "metadata": {
    "collapsed": false
   },
   "outputs": [],
   "source": [
    "subset_ratio=0.5#0.75,1"
   ]
  },
  {
   "cell_type": "code",
   "execution_count": 5,
   "metadata": {
    "collapsed": false
   },
   "outputs": [
    {
     "name": "stdout",
     "output_type": "stream",
     "text": [
      "435759\n",
      "145253\n"
     ]
    }
   ],
   "source": [
    "num_train=len(X_train)\n",
    "print num_train\n",
    "num_test=len(X_test)\n",
    "print num_test"
   ]
  },
  {
   "cell_type": "code",
   "execution_count": 6,
   "metadata": {
    "collapsed": false
   },
   "outputs": [],
   "source": [
    "\n",
    "# Xsample_train=X_train[0:100000]\n",
    "# Xsampe_test=X_test\n",
    "# ysample_train=y_train[0:100000]\n",
    "# ysample_test=y_test\n",
    "\n",
    "Xsample_train=X_train\n",
    "Xsampe_test=X_test\n",
    "ysample_train=y_train\n",
    "ysample_test=y_test"
   ]
  },
  {
   "cell_type": "code",
   "execution_count": 7,
   "metadata": {
    "collapsed": false
   },
   "outputs": [
    {
     "data": {
      "text/plain": [
       "array([1, 2, 2, ..., 3, 1, 6])"
      ]
     },
     "execution_count": 7,
     "metadata": {},
     "output_type": "execute_result"
    }
   ],
   "source": [
    "ysample_test"
   ]
  },
  {
   "cell_type": "code",
   "execution_count": 8,
   "metadata": {
    "collapsed": false
   },
   "outputs": [],
   "source": [
    "def compute_distances_no_loops(X_train,X_test):\n",
    "    \"\"\"\n",
    "    Compute the distance between each test point in X and each training point\n",
    "    in self.X_train using no explicit loops.\n",
    "    Input / Output: Same as compute_distances_two_loops\n",
    "    \"\"\"\n",
    "    num_train=len(X_train)\n",
    "    num_test=len(X_test)\n",
    "    dists = np.zeros((num_test, num_train)) \n",
    "    \n",
    "    # split (p-q)^2 to p^2 + q^2 - 2pq\n",
    "    dists = np.sqrt((X_test**2).sum(axis=1, keepdims=True) + (X_train**2).sum(axis=1) - 2 * X_test.dot(X_train.T))\n",
    "    \n",
    "    #########################################################################\n",
    "    #                         END OF YOUR CODE                              #\n",
    "    #########################################################################\n",
    "    return dists\n"
   ]
  },
  {
   "cell_type": "code",
   "execution_count": 9,
   "metadata": {
    "collapsed": false
   },
   "outputs": [],
   "source": [
    " def predict_labels(dists, k,y_train):\n",
    "    \"\"\"\n",
    "    Given a matrix of distances between test points and training points,\n",
    "    predict a label for each test point.\n",
    "    Inputs:\n",
    "    - dists: A numpy array of shape (num_test, num_train) where dists[i, j]\n",
    "      gives the distance betwen the ith test point and the jth training point.\n",
    "    Returns:\n",
    "    - y: A numpy array of shape (num_test,) containing predicted labels for the\n",
    "      test data, where y[i] is the predicted label for the test point X[i].  \n",
    "    \"\"\"\n",
    "    num_test = dists.shape[0]\n",
    "    y_pred = np.zeros(num_test)\n",
    "    for i in xrange(num_test):\n",
    "      \n",
    "      closest_y = []\n",
    "      \n",
    "      closest_y = y_train[np.argsort(dists[i])][:k]\n",
    "      \n",
    "      y_pred[i] = np.argmax(np.bincount(closest_y))\n",
    "     \n",
    "\n",
    "    return y_pred"
   ]
  },
  {
   "cell_type": "code",
   "execution_count": 10,
   "metadata": {
    "collapsed": false
   },
   "outputs": [],
   "source": [
    "#dists=compute_distances_no_loops(Xsample_train,Xsampe_test)"
   ]
  },
  {
   "cell_type": "code",
   "execution_count": 11,
   "metadata": {
    "collapsed": false
   },
   "outputs": [],
   "source": [
    "#y_test_pred=predict_labels(dists,5,ysample_train)"
   ]
  },
  {
   "cell_type": "markdown",
   "metadata": {
    "collapsed": false
   },
   "source": [
    "# KNN without using sklearn\n",
    "num_folds = 5\n",
    "k_choices = [1, 3, 5, 8, 10, 12, 15, 20, 50, 100]\n",
    "\n",
    "X_train_folds = []\n",
    "y_train_folds = []\n",
    "X_train_folds = np.array(np.array_split(Xsample_train, num_folds))  #X_train\n",
    "y_train_folds = np.array(np.array_split(ysample_train, num_folds))  #y_train\n",
    "k_to_accuracies = {}\n",
    "num_test_sample=len(Xsample_train)/5\n",
    "for k in k_choices:\n",
    "    for n in range(0,num_folds):\n",
    "        temp= [x for x in range(0,num_folds) if x != n]\n",
    "        X_train_dat=np.concatenate(X_train_folds[temp])\n",
    "        y_train_dat=np.concatenate(y_train_folds[temp])\n",
    "        dists=compute_distances_no_loops(X_train_dat,X_train_folds[n])\n",
    "        y_validation_pred = predict_labels(dists,k,y_train_dat)\n",
    "        # Compute and print the fraction of correctly predicted examples\n",
    "        num_correct = np.sum(y_validation_pred == y_train_folds[n])\n",
    "        accuracy = float(num_correct) / num_test_sample\n",
    "        k_to_accuracies.setdefault(k, []).append(accuracy)\n",
    "for k in sorted(k_to_accuracies):\n",
    "    for accuracy in k_to_accuracies[k]:\n",
    "        print 'k = %d, accuracy = %f' % (k, accuracy)\n",
    "    print 'mean of k=%d,accuracy=%f' %(k,np.mean(k_to_accuracies[k]))"
   ]
  },
  {
   "cell_type": "code",
   "execution_count": 21,
   "metadata": {
    "collapsed": true
   },
   "outputs": [],
   "source": [
    "from sklearn.neighbors import KNeighborsClassifier"
   ]
  },
  {
   "cell_type": "code",
   "execution_count": 44,
   "metadata": {
    "collapsed": false,
    "scrolled": true
   },
   "outputs": [
    {
     "name": "stdout",
     "output_type": "stream",
     "text": [
      "k = 1, accuracy = 0.963144\n",
      "k = 1, accuracy = 0.962295\n",
      "k = 1, accuracy = 0.963041\n",
      "k = 1, accuracy = 0.962490\n",
      "k = 1, accuracy = 0.962800\n",
      "mean of k=1,accuracy=0.962754\n",
      "k = 3, accuracy = 0.964957\n",
      "k = 3, accuracy = 0.965026\n",
      "k = 3, accuracy = 0.964269\n",
      "k = 3, accuracy = 0.964315\n",
      "k = 3, accuracy = 0.965221\n",
      "mean of k=3,accuracy=0.964758\n",
      "k = 5, accuracy = 0.962307\n",
      "k = 5, accuracy = 0.962422\n",
      "k = 5, accuracy = 0.963248\n",
      "k = 5, accuracy = 0.962031\n",
      "k = 5, accuracy = 0.963018\n",
      "mean of k=5,accuracy=0.962605\n",
      "k = 8, accuracy = 0.954573\n",
      "k = 8, accuracy = 0.952967\n",
      "k = 8, accuracy = 0.955044\n",
      "k = 8, accuracy = 0.954791\n",
      "k = 8, accuracy = 0.955950\n",
      "mean of k=8,accuracy=0.954665\n",
      "k = 10, accuracy = 0.951429\n",
      "k = 10, accuracy = 0.948997\n",
      "k = 10, accuracy = 0.951693\n",
      "k = 10, accuracy = 0.950672\n",
      "k = 10, accuracy = 0.952370\n",
      "mean of k=10,accuracy=0.951032\n",
      "k = 12, accuracy = 0.948434\n",
      "k = 12, accuracy = 0.945726\n",
      "k = 12, accuracy = 0.947597\n",
      "k = 12, accuracy = 0.947115\n",
      "k = 12, accuracy = 0.948549\n",
      "mean of k=12,accuracy=0.947484\n",
      "k = 15, accuracy = 0.943822\n",
      "k = 15, accuracy = 0.941699\n",
      "k = 15, accuracy = 0.942674\n",
      "k = 15, accuracy = 0.942364\n",
      "k = 15, accuracy = 0.943604\n",
      "mean of k=15,accuracy=0.942833\n",
      "k = 20, accuracy = 0.934596\n",
      "k = 20, accuracy = 0.931108\n",
      "k = 20, accuracy = 0.932783\n",
      "k = 20, accuracy = 0.933713\n",
      "k = 20, accuracy = 0.933598\n",
      "mean of k=20,accuracy=0.933160\n",
      "k = 50, accuracy = 0.890879\n",
      "k = 50, accuracy = 0.889319\n",
      "k = 50, accuracy = 0.888848\n",
      "k = 50, accuracy = 0.892222\n",
      "k = 50, accuracy = 0.891189\n",
      "mean of k=50,accuracy=0.890491\n",
      "k = 100, accuracy = 0.845372\n",
      "k = 100, accuracy = 0.845349\n",
      "k = 100, accuracy = 0.848470\n",
      "k = 100, accuracy = 0.849273\n",
      "k = 100, accuracy = 0.847896\n",
      "mean of k=100,accuracy=0.847272\n"
     ]
    }
   ],
   "source": [
    "#### full data, 5 folds\n",
    "num_folds = 5\n",
    "k_choices = [1, 3, 5, 8, 10, 12, 15, 20, 50, 100]\n",
    "\n",
    "X_train_folds = []\n",
    "y_train_folds = []\n",
    "X_train_folds = np.array(np.array_split(Xsample_train, num_folds))  #X_train\n",
    "y_train_folds = np.array(np.array_split(ysample_train, num_folds))  #y_train\n",
    "k_to_accuracies = {}\n",
    "num_test_sample=len(Xsample_train)/5\n",
    "for k in k_choices:\n",
    "    for n in range(0,num_folds):\n",
    "        temp= [x for x in range(0,num_folds) if x != n]\n",
    "        X_train_dat=np.concatenate(X_train_folds[temp])\n",
    "        y_train_dat=np.concatenate(y_train_folds[temp])\n",
    "        neigh = KNeighborsClassifier(n_neighbors=k,metric='euclidean')\n",
    "        neigh.fit(X_train_dat, y_train_dat) \n",
    "        y_validation_pred = neigh.predict(X_train_folds[n])\n",
    "        # Compute and print the fraction of correctly predicted examples\n",
    "        num_correct = np.sum(y_validation_pred == y_train_folds[n])\n",
    "        accuracy = float(num_correct) / num_test_sample\n",
    "        k_to_accuracies.setdefault(k, []).append(accuracy)\n",
    "for k in sorted(k_to_accuracies):\n",
    "    for accuracy in k_to_accuracies[k]:\n",
    "        print 'k = %d, accuracy = %f' % (k, accuracy)\n",
    "    print 'mean of k=%d,accuracy=%f' %(k,np.mean(k_to_accuracies[k]))"
   ]
  },
  {
   "cell_type": "code",
   "execution_count": 45,
   "metadata": {
    "collapsed": false,
    "scrolled": true
   },
   "outputs": [
    {
     "name": "stdout",
     "output_type": "stream",
     "text": [
      "k = 1, accuracy = 0.956233\n",
      "k = 1, accuracy = 0.956260\n",
      "mean of k=1,accuracy=0.956246\n",
      "k = 3, accuracy = 0.952988\n",
      "k = 3, accuracy = 0.953561\n",
      "mean of k=3,accuracy=0.953275\n",
      "k = 5, accuracy = 0.947352\n",
      "k = 5, accuracy = 0.948315\n",
      "mean of k=5,accuracy=0.947833\n",
      "k = 8, accuracy = 0.935689\n",
      "k = 8, accuracy = 0.937667\n",
      "mean of k=8,accuracy=0.936678\n",
      "k = 10, accuracy = 0.930971\n",
      "k = 10, accuracy = 0.932765\n",
      "mean of k=10,accuracy=0.931868\n",
      "k = 12, accuracy = 0.926519\n",
      "k = 12, accuracy = 0.927327\n",
      "mean of k=12,accuracy=0.926923\n",
      "k = 15, accuracy = 0.921075\n",
      "k = 15, accuracy = 0.920800\n",
      "mean of k=15,accuracy=0.920938\n",
      "k = 20, accuracy = 0.907761\n",
      "k = 20, accuracy = 0.909037\n",
      "mean of k=20,accuracy=0.908399\n",
      "k = 50, accuracy = 0.857572\n",
      "k = 50, accuracy = 0.860932\n",
      "mean of k=50,accuracy=0.859252\n",
      "k = 100, accuracy = 0.813231\n",
      "k = 100, accuracy = 0.815976\n",
      "mean of k=100,accuracy=0.814604\n"
     ]
    }
   ],
   "source": [
    "#### full data, 2 folds\n",
    "num_folds = 2\n",
    "k_choices = [1, 3, 5, 8, 10, 12, 15, 20, 50, 100]\n",
    "\n",
    "X_train_folds = []\n",
    "y_train_folds = []\n",
    "X_train_folds = np.array(np.array_split(Xsample_train, num_folds))  #X_train\n",
    "y_train_folds = np.array(np.array_split(ysample_train, num_folds))  #y_train\n",
    "k_to_accuracies = {}\n",
    "num_test_sample=len(Xsample_train)/2\n",
    "for k in k_choices:\n",
    "    for n in range(0,num_folds):\n",
    "        temp= [x for x in range(0,num_folds) if x != n]\n",
    "        X_train_dat=np.concatenate(X_train_folds[temp])\n",
    "        y_train_dat=np.concatenate(y_train_folds[temp])\n",
    "        neigh = KNeighborsClassifier(n_neighbors=k,metric='euclidean')\n",
    "        neigh.fit(X_train_dat, y_train_dat) \n",
    "        y_validation_pred = neigh.predict(X_train_folds[n])\n",
    "        # Compute and print the fraction of correctly predicted examples\n",
    "        num_correct = np.sum(y_validation_pred == y_train_folds[n])\n",
    "        accuracy = float(num_correct) / num_test_sample\n",
    "        k_to_accuracies.setdefault(k, []).append(accuracy)\n",
    "for k in sorted(k_to_accuracies):\n",
    "    for accuracy in k_to_accuracies[k]:\n",
    "        print 'k = %d, accuracy = %f' % (k, accuracy)\n",
    "    print 'mean of k=%d,accuracy=%f' %(k,np.mean(k_to_accuracies[k]))"
   ]
  },
  {
   "cell_type": "code",
   "execution_count": null,
   "metadata": {
    "collapsed": false
   },
   "outputs": [],
   "source": [
    "###leave one out\n",
    "Xsample_train=X_train[0:50000]\n",
    "ysample_train=y_train[0:50000]\n",
    "num_folds = 50000\n",
    "k_choices = [1, 3, 5, 8, 10, 12, 15, 20, 50, 100]\n",
    "\n",
    "X_train_folds = []\n",
    "y_train_folds = []\n",
    "X_train_folds = np.array(np.array_split(Xsample_train, num_folds))  #X_train\n",
    "y_train_folds = np.array(np.array_split(ysample_train, num_folds))  #y_train\n",
    "k_to_accuracies = {}\n",
    "num_test_sample=len(Xsample_train)/50000\n",
    "for k in k_choices:\n",
    "    for n in range(0,num_folds):\n",
    "        temp= [x for x in range(0,num_folds) if x != n]\n",
    "        X_train_dat=np.concatenate(X_train_folds[temp])\n",
    "        y_train_dat=np.concatenate(y_train_folds[temp])\n",
    "        neigh = KNeighborsClassifier(n_neighbors=k)\n",
    "        neigh.fit(X_train_dat, y_train_dat) \n",
    "        y_validation_pred = neigh.predict(X_train_folds[n])\n",
    "        # Compute and print the fraction of correctly predicted examples\n",
    "        num_correct = np.sum(y_validation_pred == y_train_folds[n])\n",
    "        accuracy = float(num_correct) / num_test_sample\n",
    "        k_to_accuracies.setdefault(k, []).append(accuracy)\n",
    "for k in sorted(k_to_accuracies):\n",
    "    #for accuracy in k_to_accuracies[k]:\n",
    "        #print 'k = %d, accuracy = %f' % (k, accuracy)\n",
    "    print 'mean of k=%d,accuracy=%f' %(k,np.mean(k_to_accuracies[k]))\n",
    "\n"
   ]
  },
  {
   "cell_type": "code",
   "execution_count": 48,
   "metadata": {
    "collapsed": true
   },
   "outputs": [],
   "source": [
    "Xsample_train=X_train[0:435759/2]\n",
    "Xsampe_test=X_test\n",
    "ysample_train=y_train[0:435759/2]\n",
    "ysample_test=y_test"
   ]
  },
  {
   "cell_type": "code",
   "execution_count": 49,
   "metadata": {
    "collapsed": false
   },
   "outputs": [
    {
     "name": "stdout",
     "output_type": "stream",
     "text": [
      "k = 1, accuracy = 0.949765\n",
      "k = 1, accuracy = 0.952565\n",
      "k = 1, accuracy = 0.951578\n",
      "k = 1, accuracy = 0.950866\n",
      "k = 1, accuracy = 0.952450\n",
      "mean of k=1,accuracy=0.951445\n",
      "k = 3, accuracy = 0.945978\n",
      "k = 3, accuracy = 0.946598\n",
      "k = 3, accuracy = 0.946437\n",
      "k = 3, accuracy = 0.945726\n",
      "k = 3, accuracy = 0.946047\n",
      "mean of k=3,accuracy=0.946157\n",
      "k = 5, accuracy = 0.937877\n",
      "k = 5, accuracy = 0.939598\n",
      "k = 5, accuracy = 0.938887\n",
      "k = 5, accuracy = 0.938199\n",
      "k = 5, accuracy = 0.939782\n",
      "mean of k=5,accuracy=0.938869\n",
      "k = 8, accuracy = 0.926013\n",
      "k = 8, accuracy = 0.927963\n",
      "k = 8, accuracy = 0.927206\n",
      "k = 8, accuracy = 0.926954\n",
      "k = 8, accuracy = 0.927068\n",
      "mean of k=8,accuracy=0.927041\n",
      "k = 10, accuracy = 0.920987\n",
      "k = 10, accuracy = 0.922249\n",
      "k = 10, accuracy = 0.921767\n",
      "k = 10, accuracy = 0.920987\n",
      "k = 10, accuracy = 0.921790\n",
      "mean of k=10,accuracy=0.921556\n",
      "k = 12, accuracy = 0.915548\n",
      "k = 12, accuracy = 0.916489\n",
      "k = 12, accuracy = 0.915387\n",
      "k = 12, accuracy = 0.915273\n",
      "k = 12, accuracy = 0.916076\n",
      "mean of k=12,accuracy=0.915754\n",
      "k = 15, accuracy = 0.909168\n",
      "k = 15, accuracy = 0.910820\n",
      "k = 15, accuracy = 0.908617\n",
      "k = 15, accuracy = 0.907149\n",
      "k = 15, accuracy = 0.908526\n",
      "mean of k=15,accuracy=0.908856\n",
      "k = 20, accuracy = 0.895100\n",
      "k = 20, accuracy = 0.895674\n",
      "k = 20, accuracy = 0.895077\n",
      "k = 20, accuracy = 0.894228\n",
      "k = 20, accuracy = 0.897464\n",
      "mean of k=20,accuracy=0.895509\n",
      "k = 50, accuracy = 0.841905\n",
      "k = 50, accuracy = 0.842249\n",
      "k = 50, accuracy = 0.841629\n",
      "k = 50, accuracy = 0.841698\n",
      "k = 50, accuracy = 0.844590\n",
      "mean of k=50,accuracy=0.842414\n",
      "k = 100, accuracy = 0.798554\n",
      "k = 100, accuracy = 0.797384\n",
      "k = 100, accuracy = 0.799105\n",
      "k = 100, accuracy = 0.800161\n",
      "k = 100, accuracy = 0.803534\n",
      "mean of k=100,accuracy=0.799748\n"
     ]
    }
   ],
   "source": [
    "#### 50 percent data, 5 folds\n",
    "num_folds = 5\n",
    "k_choices = [1, 3, 5, 8, 10, 12, 15, 20, 50, 100]\n",
    "\n",
    "X_train_folds = []\n",
    "y_train_folds = []\n",
    "X_train_folds = np.array(np.array_split(Xsample_train, num_folds))  #X_train\n",
    "y_train_folds = np.array(np.array_split(ysample_train, num_folds))  #y_train\n",
    "k_to_accuracies = {}\n",
    "num_test_sample=len(Xsample_train)/5\n",
    "for k in k_choices:\n",
    "    for n in range(0,num_folds):\n",
    "        temp= [x for x in range(0,num_folds) if x != n]\n",
    "        X_train_dat=np.concatenate(X_train_folds[temp])\n",
    "        y_train_dat=np.concatenate(y_train_folds[temp])\n",
    "        neigh = KNeighborsClassifier(n_neighbors=k,metric='euclidean')\n",
    "        neigh.fit(X_train_dat, y_train_dat) \n",
    "        y_validation_pred = neigh.predict(X_train_folds[n])\n",
    "        # Compute and print the fraction of correctly predicted examples\n",
    "        num_correct = np.sum(y_validation_pred == y_train_folds[n])\n",
    "        accuracy = float(num_correct) / num_test_sample\n",
    "        k_to_accuracies.setdefault(k, []).append(accuracy)\n",
    "for k in sorted(k_to_accuracies):\n",
    "    for accuracy in k_to_accuracies[k]:\n",
    "        print 'k = %d, accuracy = %f' % (k, accuracy)\n",
    "    print 'mean of k=%d,accuracy=%f' %(k,np.mean(k_to_accuracies[k]))"
   ]
  },
  {
   "cell_type": "code",
   "execution_count": 15,
   "metadata": {
    "collapsed": false
   },
   "outputs": [
    {
     "name": "stdout",
     "output_type": "stream",
     "text": [
      "k = 1, accuracy = 0.937736\n",
      "k = 1, accuracy = 0.938929\n",
      "mean of k=1,accuracy=0.938332\n",
      "k = 3, accuracy = 0.927244\n",
      "k = 3, accuracy = 0.926968\n",
      "mean of k=3,accuracy=0.927106\n",
      "k = 5, accuracy = 0.918147\n",
      "k = 5, accuracy = 0.918018\n",
      "mean of k=5,accuracy=0.918083\n",
      "k = 8, accuracy = 0.902129\n",
      "k = 8, accuracy = 0.902624\n",
      "mean of k=8,accuracy=0.902377\n",
      "k = 10, accuracy = 0.894748\n",
      "k = 10, accuracy = 0.895024\n",
      "mean of k=10,accuracy=0.894886\n",
      "k = 12, accuracy = 0.887598\n",
      "k = 12, accuracy = 0.888598\n",
      "mean of k=12,accuracy=0.888098\n",
      "k = 15, accuracy = 0.878455\n",
      "k = 15, accuracy = 0.879593\n",
      "mean of k=15,accuracy=0.879024\n",
      "k = 20, accuracy = 0.862015\n",
      "k = 20, accuracy = 0.863988\n",
      "mean of k=20,accuracy=0.863001\n",
      "k = 50, accuracy = 0.807397\n",
      "k = 50, accuracy = 0.811812\n",
      "mean of k=50,accuracy=0.809604\n",
      "k = 100, accuracy = 0.771276\n",
      "k = 100, accuracy = 0.774938\n",
      "mean of k=100,accuracy=0.773107\n"
     ]
    }
   ],
   "source": [
    "#### 50 percent data, 2 folds\n",
    "num_folds = 2\n",
    "k_choices = [1, 3, 5, 8, 10, 12, 15, 20, 50, 100]\n",
    "\n",
    "X_train_folds = []\n",
    "y_train_folds = []\n",
    "X_train_folds = np.array(np.array_split(Xsample_train, num_folds))  #X_train\n",
    "y_train_folds = np.array(np.array_split(ysample_train, num_folds))  #y_train\n",
    "k_to_accuracies = {}\n",
    "num_test_sample=len(Xsample_train)/2\n",
    "for k in k_choices:\n",
    "    for n in range(0,num_folds):\n",
    "        temp= [x for x in range(0,num_folds) if x != n]\n",
    "        X_train_dat=np.concatenate(X_train_folds[temp])\n",
    "        y_train_dat=np.concatenate(y_train_folds[temp])\n",
    "        neigh = KNeighborsClassifier(n_neighbors=k)\n",
    "        neigh.fit(X_train_dat, y_train_dat) \n",
    "        y_validation_pred = neigh.predict(X_train_folds[n])\n",
    "        # Compute and print the fraction of correctly predicted examples\n",
    "        num_correct = np.sum(y_validation_pred == y_train_folds[n])\n",
    "        accuracy = float(num_correct) / num_test_sample\n",
    "        k_to_accuracies.setdefault(k, []).append(accuracy)\n",
    "for k in sorted(k_to_accuracies):\n",
    "    for accuracy in k_to_accuracies[k]:\n",
    "        print 'k = %d, accuracy = %f' % (k, accuracy)\n",
    "    print 'mean of k=%d,accuracy=%f' %(k,np.mean(k_to_accuracies[k]))"
   ]
  },
  {
   "cell_type": "code",
   "execution_count": 22,
   "metadata": {
    "collapsed": true
   },
   "outputs": [],
   "source": [
    "Xsample_train=X_train[0:435759*3/4]\n",
    "Xsampe_test=X_test\n",
    "ysample_train=y_train[0:435759*3/4]\n",
    "ysample_test=y_test"
   ]
  },
  {
   "cell_type": "code",
   "execution_count": 23,
   "metadata": {
    "collapsed": false
   },
   "outputs": [
    {
     "name": "stdout",
     "output_type": "stream",
     "text": [
      "k = 1, accuracy = 0.959059\n",
      "k = 1, accuracy = 0.959167\n",
      "k = 1, accuracy = 0.959580\n",
      "k = 1, accuracy = 0.960559\n",
      "k = 1, accuracy = 0.958952\n",
      "mean of k=1,accuracy=0.959463\n",
      "k = 3, accuracy = 0.959442\n",
      "k = 3, accuracy = 0.958937\n",
      "k = 3, accuracy = 0.960314\n",
      "k = 3, accuracy = 0.958325\n",
      "k = 3, accuracy = 0.958968\n",
      "mean of k=3,accuracy=0.959197\n",
      "k = 5, accuracy = 0.953705\n",
      "k = 5, accuracy = 0.953322\n",
      "k = 5, accuracy = 0.954669\n",
      "k = 5, accuracy = 0.953980\n",
      "k = 5, accuracy = 0.953582\n",
      "mean of k=5,accuracy=0.953852\n",
      "k = 8, accuracy = 0.944693\n",
      "k = 8, accuracy = 0.942965\n",
      "k = 8, accuracy = 0.944036\n",
      "k = 8, accuracy = 0.945275\n",
      "k = 8, accuracy = 0.943959\n",
      "mean of k=8,accuracy=0.944186\n",
      "k = 10, accuracy = 0.940257\n",
      "k = 10, accuracy = 0.939691\n",
      "k = 10, accuracy = 0.939308\n",
      "k = 10, accuracy = 0.939813\n",
      "k = 10, accuracy = 0.939920\n",
      "mean of k=10,accuracy=0.939798\n",
      "k = 12, accuracy = 0.935805\n",
      "k = 12, accuracy = 0.935116\n",
      "k = 12, accuracy = 0.935269\n",
      "k = 12, accuracy = 0.935300\n",
      "k = 12, accuracy = 0.936554\n",
      "mean of k=12,accuracy=0.935609\n",
      "k = 15, accuracy = 0.929073\n",
      "k = 15, accuracy = 0.930006\n",
      "k = 15, accuracy = 0.929333\n",
      "k = 15, accuracy = 0.929348\n",
      "k = 15, accuracy = 0.930863\n",
      "mean of k=15,accuracy=0.929725\n",
      "k = 20, accuracy = 0.918593\n",
      "k = 20, accuracy = 0.918838\n",
      "k = 20, accuracy = 0.917492\n",
      "k = 20, accuracy = 0.917170\n",
      "k = 20, accuracy = 0.920031\n",
      "mean of k=20,accuracy=0.918425\n",
      "k = 50, accuracy = 0.870355\n",
      "k = 50, accuracy = 0.870906\n",
      "k = 50, accuracy = 0.869835\n",
      "k = 50, accuracy = 0.870707\n",
      "k = 50, accuracy = 0.874011\n",
      "mean of k=50,accuracy=0.871163\n",
      "k = 100, accuracy = 0.825452\n",
      "k = 100, accuracy = 0.825329\n",
      "k = 100, accuracy = 0.827242\n",
      "k = 100, accuracy = 0.827517\n",
      "k = 100, accuracy = 0.830118\n",
      "mean of k=100,accuracy=0.827132\n"
     ]
    }
   ],
   "source": [
    "#### 75 percent data, 5 folds\n",
    "num_folds = 5\n",
    "k_choices = [1, 3, 5, 8, 10, 12, 15, 20, 50, 100]\n",
    "\n",
    "X_train_folds = []\n",
    "y_train_folds = []\n",
    "X_train_folds = np.array(np.array_split(Xsample_train, num_folds))  #X_train\n",
    "y_train_folds = np.array(np.array_split(ysample_train, num_folds))  #y_train\n",
    "k_to_accuracies = {}\n",
    "num_test_sample=len(Xsample_train)/5\n",
    "for k in k_choices:\n",
    "    for n in range(0,num_folds):\n",
    "        temp= [x for x in range(0,num_folds) if x != n]\n",
    "        X_train_dat=np.concatenate(X_train_folds[temp])\n",
    "        y_train_dat=np.concatenate(y_train_folds[temp])\n",
    "        neigh = KNeighborsClassifier(n_neighbors=k)\n",
    "        neigh.fit(X_train_dat, y_train_dat) \n",
    "        y_validation_pred = neigh.predict(X_train_folds[n])\n",
    "        # Compute and print the fraction of correctly predicted examples\n",
    "        num_correct = np.sum(y_validation_pred == y_train_folds[n])\n",
    "        accuracy = float(num_correct) / num_test_sample\n",
    "        k_to_accuracies.setdefault(k, []).append(accuracy)\n",
    "for k in sorted(k_to_accuracies):\n",
    "    for accuracy in k_to_accuracies[k]:\n",
    "        print 'k = %d, accuracy = %f' % (k, accuracy)\n",
    "    print 'mean of k=%d,accuracy=%f' %(k,np.mean(k_to_accuracies[k]))"
   ]
  },
  {
   "cell_type": "code",
   "execution_count": 17,
   "metadata": {
    "collapsed": false
   },
   "outputs": [
    {
     "name": "stdout",
     "output_type": "stream",
     "text": [
      "k = 1, accuracy = 0.950180\n",
      "k = 1, accuracy = 0.950823\n",
      "mean of k=1,accuracy=0.950502\n",
      "k = 3, accuracy = 0.943755\n",
      "k = 3, accuracy = 0.944330\n",
      "mean of k=3,accuracy=0.944042\n",
      "k = 5, accuracy = 0.936319\n",
      "k = 5, accuracy = 0.937066\n",
      "mean of k=5,accuracy=0.936693\n",
      "k = 8, accuracy = 0.923964\n",
      "k = 8, accuracy = 0.924967\n",
      "mean of k=8,accuracy=0.924466\n",
      "k = 10, accuracy = 0.917838\n",
      "k = 10, accuracy = 0.918083\n",
      "mean of k=10,accuracy=0.917960\n",
      "k = 12, accuracy = 0.912018\n",
      "k = 12, accuracy = 0.912679\n",
      "mean of k=12,accuracy=0.912349\n",
      "k = 15, accuracy = 0.904675\n",
      "k = 15, accuracy = 0.905256\n",
      "mean of k=15,accuracy=0.904965\n",
      "k = 20, accuracy = 0.889933\n",
      "k = 20, accuracy = 0.892442\n",
      "mean of k=20,accuracy=0.891187\n",
      "k = 50, accuracy = 0.836386\n",
      "k = 50, accuracy = 0.839807\n",
      "mean of k=50,accuracy=0.838096\n",
      "k = 100, accuracy = 0.794142\n",
      "k = 100, accuracy = 0.798126\n",
      "mean of k=100,accuracy=0.796134\n"
     ]
    }
   ],
   "source": [
    "#### 75 percent data, 2 folds\n",
    "num_folds = 2\n",
    "k_choices = [1, 3, 5, 8, 10, 12, 15, 20, 50, 100]\n",
    "X_train_folds = []\n",
    "y_train_folds = []\n",
    "X_train_folds = np.array(np.array_split(Xsample_train, num_folds))  #X_train\n",
    "y_train_folds = np.array(np.array_split(ysample_train, num_folds))  #y_train\n",
    "k_to_accuracies = {}\n",
    "num_test_sample=len(Xsample_train)/2\n",
    "for k in k_choices:\n",
    "    for n in range(0,num_folds):\n",
    "        temp= [x for x in range(0,num_folds) if x != n]\n",
    "        X_train_dat=np.concatenate(X_train_folds[temp])\n",
    "        y_train_dat=np.concatenate(y_train_folds[temp])\n",
    "        neigh = KNeighborsClassifier(n_neighbors=k)\n",
    "        neigh.fit(X_train_dat, y_train_dat) \n",
    "        y_validation_pred = neigh.predict(X_train_folds[n])\n",
    "        # Compute and print the fraction of correctly predicted examples\n",
    "        num_correct = np.sum(y_validation_pred == y_train_folds[n])\n",
    "        accuracy = float(num_correct) / num_test_sample\n",
    "        k_to_accuracies.setdefault(k, []).append(accuracy)\n",
    "for k in sorted(k_to_accuracies):\n",
    "    for accuracy in k_to_accuracies[k]:\n",
    "        print 'k = %d, accuracy = %f' % (k, accuracy)\n",
    "    print 'mean of k=%d,accuracy=%f' %(k,np.mean(k_to_accuracies[k]))"
   ]
  },
  {
   "cell_type": "code",
   "execution_count": 25,
   "metadata": {
    "collapsed": true
   },
   "outputs": [],
   "source": [
    "##find out the best k = 1\n",
    "neigh = KNeighborsClassifier(n_neighbors=1)\n",
    "neigh.fit(X_train, y_train) \n",
    "y_pred = neigh.predict(X_test)\n",
    "num_correct = np.sum(y_pred == y_test)\n",
    "accuracy = float(num_correct) / (len(X_test))"
   ]
  },
  {
   "cell_type": "code",
   "execution_count": 26,
   "metadata": {
    "collapsed": false
   },
   "outputs": [
    {
     "name": "stdout",
     "output_type": "stream",
     "text": [
      "0.964517083984\n"
     ]
    }
   ],
   "source": [
    "print accuracy"
   ]
  },
  {
   "cell_type": "code",
   "execution_count": 8,
   "metadata": {
    "collapsed": false
   },
   "outputs": [],
   "source": [
    "############SVM\n",
    "from sklearn import svm\n",
    "from sklearn.feature_selection import SelectFromModel\n",
    "from sklearn.ensemble import ExtraTreesClassifier\n",
    "## sample\n",
    "Xsample_train=X_train[0:1000]\n",
    "Xsampe_test=X_test[0:1000]\n",
    "ysample_train=y_train[0:1000]\n",
    "ysample_test=y_test[0:1000]\n",
    "\n"
   ]
  },
  {
   "cell_type": "code",
   "execution_count": 9,
   "metadata": {
    "collapsed": true
   },
   "outputs": [],
   "source": [
    "from sklearn import svm\n",
    "from sklearn.feature_selection import SelectFromModel\n",
    "from sklearn.ensemble import ExtraTreesClassifier\n",
    "#feature selection\n",
    "clf = ExtraTreesClassifier()\n",
    "clf = clf.fit(Xsample_train, ysample_train)\n",
    "clf.feature_importances_  \n",
    "model = SelectFromModel(clf, prefit=True)\n",
    "Xsample_train_new = model.transform(Xsample_train)\n",
    "X_test_new=model.transform(X_test)"
   ]
  },
  {
   "cell_type": "code",
   "execution_count": 10,
   "metadata": {
    "collapsed": false
   },
   "outputs": [
    {
     "data": {
      "text/plain": [
       "(145253, 11)"
      ]
     },
     "execution_count": 10,
     "metadata": {},
     "output_type": "execute_result"
    }
   ],
   "source": [
    "X_test_new.shape"
   ]
  },
  {
   "cell_type": "code",
   "execution_count": 13,
   "metadata": {
    "collapsed": false
   },
   "outputs": [
    {
     "name": "stdout",
     "output_type": "stream",
     "text": [
      "accuracy = 0.66\n",
      "accuracy = 0.695\n",
      "accuracy = 0.655\n",
      "accuracy = 0.63\n",
      "accuracy = 0.645\n",
      "mean accuracy for linear SVM is : 0.657\n"
     ]
    }
   ],
   "source": [
    "###using linear 5 fold\n",
    "num_folds = 5\n",
    "X_train_folds = []\n",
    "y_train_folds = []\n",
    "X_train_folds = np.array(np.array_split(Xsample_train_new, num_folds))  #X_train\n",
    "y_train_folds = np.array(np.array_split(ysample_train, num_folds))  #y_train`\n",
    "num_test_sample=len(Xsample_train)/5\n",
    "linear=[]\n",
    "## linear\n",
    "for n in range(0,num_folds):\n",
    "    temp= [x for x in range(0,num_folds) if x != n]\n",
    "    X_train_dat=np.concatenate(X_train_folds[temp])\n",
    "    y_train_dat=np.concatenate(y_train_folds[temp])\n",
    "    C = 1.0  # SVM regularization parameter\n",
    "    lin_clf = svm.SVC(kernel='linear', C=C).fit(X_train_dat, y_train_dat)### add regularization factor = 1\n",
    "    y_validation_pred=lin_clf.predict(X_train_folds[n])   \n",
    "    # Compute and print the fraction of correctly predicted examples\n",
    "    num_correct = np.sum(y_validation_pred == y_train_folds[n])\n",
    "    accuracy = float(num_correct) / num_test_sample\n",
    "    linear.append(accuracy)\n",
    "    print \"accuracy =\",accuracy\n",
    "print \"mean accuracy for linear SVM is :\", np.mean(linear)"
   ]
  },
  {
   "cell_type": "code",
   "execution_count": 11,
   "metadata": {
    "collapsed": false
   },
   "outputs": [
    {
     "name": "stdout",
     "output_type": "stream",
     "text": [
      "accuracy = 0.664\n",
      "accuracy = 0.642\n",
      "mean accuracy for linear SVM is : 0.653\n"
     ]
    }
   ],
   "source": [
    "###using poly 2 fold\n",
    "num_folds = 2\n",
    "X_train_folds = []\n",
    "y_train_folds = []\n",
    "X_train_folds = np.array(np.array_split(Xsample_train_new, num_folds))  #X_train\n",
    "y_train_folds = np.array(np.array_split(ysample_train, num_folds))  #y_train\n",
    "num_test_sample=len(Xsample_train)/2\n",
    "linear=[]\n",
    "## linear\n",
    "for n in range(0,num_folds):\n",
    "    temp= [x for x in range(0,num_folds) if x != n]\n",
    "    X_train_dat=np.concatenate(X_train_folds[temp])\n",
    "    y_train_dat=np.concatenate(y_train_folds[temp])\n",
    "    C = 1.0  # SVM regularization parameter\n",
    "    lin_clf = svm.SVC(kernel='linear', C=C).fit(X_train_dat, y_train_dat)### add regularization factor = 1\n",
    "    y_validation_pred=lin_clf.predict(X_train_folds[n])   \n",
    "    # Compute and print the fraction of correctly predicted examples\n",
    "    num_correct = np.sum(y_validation_pred == y_train_folds[n])\n",
    "    accuracy = float(num_correct) / num_test_sample\n",
    "    linear.append(accuracy)\n",
    "    print \"accuracy =\",accuracy\n",
    "print \"mean accuracy for linear SVM is :\", np.mean(linear)"
   ]
  },
  {
   "cell_type": "code",
   "execution_count": null,
   "metadata": {
    "collapsed": false
   },
   "outputs": [],
   "source": [
    "###using poly 5 fold\n",
    "num_folds = 5\n",
    "X_train_folds = []\n",
    "y_train_folds = []\n",
    "X_train_folds = np.array(np.array_split(Xsample_train_new, num_folds))  #X_train\n",
    "y_train_folds = np.array(np.array_split(ysample_train, num_folds))  #y_train\n",
    "num_test_sample=len(Xsample_train)/5\n",
    "poly=[]\n",
    "## linear\n",
    "for n in range(0,num_folds):\n",
    "    temp= [x for x in range(0,num_folds) if x != n]\n",
    "    X_train_dat=np.concatenate(X_train_folds[temp])\n",
    "    y_train_dat=np.concatenate(y_train_folds[temp])\n",
    "    C = 0.01  # SVM regularization parameter\n",
    "    poly_clf = svm.SVC(kernel='poly', C=C).fit(X_train_dat, y_train_dat)### add regularization factor = 1\n",
    "    y_validation_pred=poly_clf.predict(X_train_folds[n])   \n",
    "    # Compute and print the fraction of correctly predicted examples\n",
    "    num_correct = np.sum(y_validation_pred == y_train_folds[n])\n",
    "    accuracy = float(num_correct) / num_test_sample\n",
    "    poly.append(accuracy)\n",
    "    print \"accuracy =\",accuracy\n",
    "print \"mean accuracy for poly SVM is :\", np.mean(poly)"
   ]
  },
  {
   "cell_type": "code",
   "execution_count": 9,
   "metadata": {
    "collapsed": false
   },
   "outputs": [
    {
     "name": "stdout",
     "output_type": "stream",
     "text": [
      "accuracy = 0.52\n",
      "accuracy = 0.64\n",
      "mean accuracy for poly SVM is : 0.58\n"
     ]
    }
   ],
   "source": [
    "###using poly 2 fold\n",
    "num_folds = 2\n",
    "X_train_folds = []\n",
    "y_train_folds = []\n",
    "X_train_folds = np.array(np.array_split(Xsample_train_new, num_folds))  #X_train\n",
    "y_train_folds = np.array(np.array_split(ysample_train, num_folds))  #y_train\n",
    "num_test_sample=len(Xsample_train)/2\n",
    "poly=[]\n",
    "## linear\n",
    "for n in range(0,num_folds):\n",
    "    temp= [x for x in range(0,num_folds) if x != n]\n",
    "    X_train_dat=np.concatenate(X_train_folds[temp])\n",
    "    y_train_dat=np.concatenate(y_train_folds[temp])\n",
    "    C = 0.01  # SVM regularization parameter\n",
    "    poly_clf = svm.SVC(kernel='poly',degree=3, C=C).fit(X_train_dat, y_train_dat)### add regularization factor = 1\n",
    "    y_validation_pred=poly_clf.predict(X_train_folds[n])   \n",
    "    # Compute and print the fraction of correctly predicted examples\n",
    "    num_correct = np.sum(y_validation_pred == y_train_folds[n])\n",
    "    accuracy = float(num_correct) / num_test_sample\n",
    "    poly.append(accuracy)\n",
    "    print \"accuracy =\",accuracy\n",
    "print \"mean accuracy for poly SVM is :\", np.mean(poly)"
   ]
  },
  {
   "cell_type": "code",
   "execution_count": 19,
   "metadata": {
    "collapsed": false
   },
   "outputs": [
    {
     "name": "stdout",
     "output_type": "stream",
     "text": [
      "accuracy = 0.495\n",
      "accuracy = 0.501\n",
      "accuracy = 0.483\n",
      "accuracy = 0.48\n",
      "accuracy = 0.461\n",
      "mean accuracy for rbf SVM is : 0.484\n"
     ]
    }
   ],
   "source": [
    "###using rbf 5 fold\n",
    "num_folds = 5\n",
    "X_train_folds = []\n",
    "y_train_folds = []\n",
    "X_train_folds = np.array(np.array_split(Xsample_train_new, num_folds))  #X_train\n",
    "y_train_folds = np.array(np.array_split(ysample_train, num_folds))  #y_train\n",
    "num_test_sample=len(Xsample_train)/5\n",
    "rbf=[]\n",
    "## linear\n",
    "for n in range(0,num_folds):\n",
    "    temp= [x for x in range(0,num_folds) if x != n]\n",
    "    X_train_dat=np.concatenate(X_train_folds[temp])\n",
    "    y_train_dat=np.concatenate(y_train_folds[temp])\n",
    "    C = 0.01  # SVM regularization parameter\n",
    "    rbf_clf = svm.SVC(kernel='rbf',gamma=0.7, C=C).fit(X_train_dat, y_train_dat)### add regularization factor = 1\n",
    "    y_validation_pred=rbf_clf.predict(X_train_folds[n])   \n",
    "    # Compute and print the fraction of correctly predicted examples\n",
    "    num_correct = np.sum(y_validation_pred == y_train_folds[n])\n",
    "    accuracy = float(num_correct) / num_test_sample\n",
    "    rbf.append(accuracy)\n",
    "    print \"accuracy =\",accuracy\n",
    "print \"mean accuracy for rbf SVM is :\", np.mean(rbf)"
   ]
  },
  {
   "cell_type": "code",
   "execution_count": 20,
   "metadata": {
    "collapsed": false
   },
   "outputs": [
    {
     "name": "stdout",
     "output_type": "stream",
     "text": [
      "accuracy = 0.4948\n",
      "accuracy = 0.4732\n",
      "mean accuracy for rbf SVM is : 0.484\n"
     ]
    }
   ],
   "source": [
    "###using rbf 2 fold\n",
    "num_folds = 2\n",
    "X_train_folds = []\n",
    "y_train_folds = []\n",
    "X_train_folds = np.array(np.array_split(Xsample_train_new, num_folds))  #X_train\n",
    "y_train_folds = np.array(np.array_split(ysample_train, num_folds))  #y_train\n",
    "num_test_sample=len(Xsample_train)/2\n",
    "rbf=[]\n",
    "## linear\n",
    "for n in range(0,num_folds):\n",
    "    temp= [x for x in range(0,num_folds) if x != n]\n",
    "    X_train_dat=np.concatenate(X_train_folds[temp])\n",
    "    y_train_dat=np.concatenate(y_train_folds[temp])\n",
    "    C = 0.01  # SVM regularization parameter\n",
    "    rbf_clf = svm.SVC(kernel='rbf',gamma=0.7, C=C).fit(X_train_dat, y_train_dat)### add regularization factor = 1\n",
    "    y_validation_pred=rbf_clf.predict(X_train_folds[n])   \n",
    "    # Compute and print the fraction of correctly predicted examples\n",
    "    num_correct = np.sum(y_validation_pred == y_train_folds[n])\n",
    "    accuracy = float(num_correct) / num_test_sample\n",
    "    rbf.append(accuracy)\n",
    "    print \"accuracy =\",accuracy\n",
    "print \"mean accuracy for rbf SVM is :\", np.mean(rbf)"
   ]
  },
  {
   "cell_type": "code",
   "execution_count": 38,
   "metadata": {
    "collapsed": false
   },
   "outputs": [
    {
     "name": "stdout",
     "output_type": "stream",
     "text": [
      "accuracy = 0.495\n",
      "accuracy = 0.501\n",
      "accuracy = 0.483\n",
      "accuracy = 0.48\n",
      "accuracy = 0.461\n",
      "mean accuracy for sigmoid SVM is : 0.484\n"
     ]
    }
   ],
   "source": [
    "###using sigmoid 5 fold\n",
    "num_folds = 5\n",
    "X_train_folds = []\n",
    "y_train_folds = []\n",
    "X_train_folds = np.array(np.array_split(Xsample_train_new, num_folds))  #X_train\n",
    "y_train_folds = np.array(np.array_split(ysample_train, num_folds))  #y_train\n",
    "num_test_sample=len(Xsample_train)/5\n",
    "sig=[]\n",
    "## sigmoid\n",
    "for n in range(0,num_folds):\n",
    "    temp= [x for x in range(0,num_folds) if x != n]\n",
    "    X_train_dat=np.concatenate(X_train_folds[temp])\n",
    "    y_train_dat=np.concatenate(y_train_folds[temp])\n",
    "    C = 10  # SVM regularization parameter\n",
    "    sig_clf = svm.SVC(kernel='sigmoid', C=C).fit(X_train_dat, y_train_dat)### add regularization factor = 1\n",
    "    y_validation_pred=rbf_clf.predict(X_train_folds[n])   \n",
    "    # Compute and print the fraction of correctly predicted examples\n",
    "    num_correct = np.sum(y_validation_pred == y_train_folds[n])\n",
    "    accuracy = float(num_correct) / num_test_sample\n",
    "    sig.append(accuracy)\n",
    "    print \"accuracy =\",accuracy\n",
    "print \"mean accuracy for sigmoid SVM is :\", np.mean(sig)"
   ]
  },
  {
   "cell_type": "code",
   "execution_count": 37,
   "metadata": {
    "collapsed": false
   },
   "outputs": [
    {
     "name": "stdout",
     "output_type": "stream",
     "text": [
      "accuracy = 0.4948\n",
      "accuracy = 0.4732\n",
      "mean accuracy for sigmoid SVM is : 0.484\n"
     ]
    }
   ],
   "source": [
    "###using sigmoid 2 fold\n",
    "num_folds = 2\n",
    "X_train_folds = []\n",
    "y_train_folds = []\n",
    "X_train_folds = np.array(np.array_split(Xsample_train_new, num_folds))  #X_train\n",
    "y_train_folds = np.array(np.array_split(ysample_train, num_folds))  #y_train\n",
    "num_test_sample=len(Xsample_train)/2\n",
    "sig=[]\n",
    "## sigmoid\n",
    "for n in range(0,num_folds):\n",
    "    temp= [x for x in range(0,num_folds) if x != n]\n",
    "    X_train_dat=np.concatenate(X_train_folds[temp])\n",
    "    y_train_dat=np.concatenate(y_train_folds[temp])\n",
    "    C = 10  # SVM regularization parameter\n",
    "    sig_clf = svm.SVC(kernel='sigmoid', C=C).fit(X_train_dat, y_train_dat)### add regularization factor = 1\n",
    "    y_validation_pred=rbf_clf.predict(X_train_folds[n])   \n",
    "    # Compute and print the fraction of correctly predicted examples\n",
    "    num_correct = np.sum(y_validation_pred == y_train_folds[n])\n",
    "    accuracy = float(num_correct) / num_test_sample\n",
    "    sig.append(accuracy)\n",
    "    print \"accuracy =\",accuracy\n",
    "print \"mean accuracy for sigmoid SVM is :\", np.mean(sig)"
   ]
  },
  {
   "cell_type": "code",
   "execution_count": 15,
   "metadata": {
    "collapsed": false
   },
   "outputs": [],
   "source": [
    "C=10\n",
    "lin_clf = svm.SVC(kernel='linear', C=C).fit(Xsample_train_new, ysample_train)"
   ]
  },
  {
   "cell_type": "code",
   "execution_count": 11,
   "metadata": {
    "collapsed": false
   },
   "outputs": [
    {
     "data": {
      "text/plain": [
       "(1000,)"
      ]
     },
     "execution_count": 11,
     "metadata": {},
     "output_type": "execute_result"
    }
   ],
   "source": [
    "ysample_train.shape"
   ]
  },
  {
   "cell_type": "code",
   "execution_count": 19,
   "metadata": {
    "collapsed": false
   },
   "outputs": [],
   "source": [
    "y_pred=lin_clf.predict(X_test_new)\n",
    "num_correct = np.sum(y_pred == y_test)\n",
    "accuracy = float(num_correct) / (len(X_test_new))"
   ]
  },
  {
   "cell_type": "code",
   "execution_count": 20,
   "metadata": {
    "collapsed": false
   },
   "outputs": [
    {
     "data": {
      "text/plain": [
       "0.6701479487514888"
      ]
     },
     "execution_count": 20,
     "metadata": {},
     "output_type": "execute_result"
    }
   ],
   "source": [
    "accuracy"
   ]
  },
  {
   "cell_type": "code",
   "execution_count": null,
   "metadata": {
    "collapsed": true
   },
   "outputs": [],
   "source": []
  }
 ],
 "metadata": {
  "kernelspec": {
   "display_name": "Python 2",
   "language": "python",
   "name": "python2"
  },
  "language_info": {
   "codemirror_mode": {
    "name": "ipython",
    "version": 2
   },
   "file_extension": ".py",
   "mimetype": "text/x-python",
   "name": "python",
   "nbconvert_exporter": "python",
   "pygments_lexer": "ipython2",
   "version": "2.7.13"
  }
 },
 "nbformat": 4,
 "nbformat_minor": 2
}
