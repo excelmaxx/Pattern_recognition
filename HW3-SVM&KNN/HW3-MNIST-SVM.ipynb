{
 "cells": [
  {
   "cell_type": "markdown",
   "metadata": {},
   "source": [
    "# CSE 291 Homework3 - SVM  \n",
    "\n",
    "#### Chao Yu \n",
    "#### Wen Liang"
   ]
  },
  {
   "cell_type": "markdown",
   "metadata": {},
   "source": [
    "## SVM\n",
    "---\n",
    "### MNIST\n",
    "#### Read the data and split to training and test sets"
   ]
  },
  {
   "cell_type": "code",
   "execution_count": 1,
   "metadata": {
    "collapsed": false
   },
   "outputs": [],
   "source": [
    "import pandas as pd\n",
    "import numpy as np\n",
    "import matplotlib.pyplot as plt\n",
    "\n",
    "from sklearn.model_selection import train_test_split, cross_val_score, KFold\n",
    "from sklearn.metrics import confusion_matrix, accuracy_score, zero_one_loss\n",
    "\n",
    "import warnings\n",
    "\n",
    "warnings.filterwarnings('ignore')\n",
    "\n",
    "mnist_train_path = './MNIST/train.csv'\n",
    "mnist_train_df = pd.read_csv(mnist_train_path, header=None).T\n",
    "last_column = mnist_train_df.columns[-1]\n",
    "mnist_train_df.rename(columns={last_column:'Class'}, inplace=True)"
   ]
  },
  {
   "cell_type": "code",
   "execution_count": 2,
   "metadata": {
    "collapsed": true
   },
   "outputs": [],
   "source": [
    "mnist_train_df = mnist_train_df.convert_objects(convert_numeric = True)"
   ]
  },
  {
   "cell_type": "code",
   "execution_count": 3,
   "metadata": {
    "collapsed": false
   },
   "outputs": [],
   "source": [
    "X = mnist_train_df.drop(0, axis = 0).drop(0, axis = 1)\n",
    "y = mnist_train_df.drop(0, axis = 1).as_matrix().T[:, 0]\n",
    "\n",
    "X_train, X_test, y_train, y_test = train_test_split(X.T, y, test_size=0.25, random_state=42)"
   ]
  },
  {
   "cell_type": "code",
   "execution_count": 4,
   "metadata": {
    "collapsed": false
   },
   "outputs": [
    {
     "name": "stdout",
     "output_type": "stream",
     "text": [
      "[7 8 5 ..., 2 6 0]\n"
     ]
    }
   ],
   "source": [
    "print y_train"
   ]
  },
  {
   "cell_type": "code",
   "execution_count": 5,
   "metadata": {
    "collapsed": true
   },
   "outputs": [],
   "source": [
    "from sklearn.feature_selection import SelectFromModel\n",
    "from sklearn.ensemble import ExtraTreesClassifier"
   ]
  },
  {
   "cell_type": "code",
   "execution_count": 6,
   "metadata": {
    "collapsed": true
   },
   "outputs": [],
   "source": [
    "X_train2 = X_train[0:12000]"
   ]
  },
  {
   "cell_type": "code",
   "execution_count": 7,
   "metadata": {
    "collapsed": true
   },
   "outputs": [],
   "source": [
    "y_train2 = y_train[0:12000]"
   ]
  },
  {
   "cell_type": "code",
   "execution_count": 8,
   "metadata": {
    "collapsed": true
   },
   "outputs": [],
   "source": [
    "clf = ExtraTreesClassifier()\n",
    "clf = clf.fit(X_train2, y_train2)\n",
    "clf.feature_importances_  \n",
    "model = SelectFromModel(clf, prefit=True)\n",
    "X_train2 = model.transform(X_train2)"
   ]
  },
  {
   "cell_type": "code",
   "execution_count": 9,
   "metadata": {
    "collapsed": false
   },
   "outputs": [
    {
     "data": {
      "text/plain": [
       "(12000, 261)"
      ]
     },
     "execution_count": 9,
     "metadata": {},
     "output_type": "execute_result"
    }
   ],
   "source": [
    "X_train2.shape"
   ]
  },
  {
   "cell_type": "code",
   "execution_count": 10,
   "metadata": {
    "collapsed": true
   },
   "outputs": [],
   "source": [
    "X_test2 = model.transform(X_test)"
   ]
  },
  {
   "cell_type": "code",
   "execution_count": 11,
   "metadata": {
    "collapsed": false
   },
   "outputs": [
    {
     "data": {
      "text/plain": [
       "(10500, 261)"
      ]
     },
     "execution_count": 11,
     "metadata": {},
     "output_type": "execute_result"
    }
   ],
   "source": [
    "X_test2.shape"
   ]
  },
  {
   "cell_type": "code",
   "execution_count": 12,
   "metadata": {
    "collapsed": true
   },
   "outputs": [],
   "source": [
    "from sklearn import svm"
   ]
  },
  {
   "cell_type": "markdown",
   "metadata": {},
   "source": [
    "#### Test best model"
   ]
  },
  {
   "cell_type": "code",
   "execution_count": 13,
   "metadata": {
    "collapsed": false
   },
   "outputs": [
    {
     "name": "stdout",
     "output_type": "stream",
     "text": [
      "0.966285714286\n"
     ]
    }
   ],
   "source": [
    "from sklearn.decomposition import PCA\n",
    "pca = PCA(n_components = 20).fit(X_train2)\n",
    "X_train3 = pca.transform(X_train2)\n",
    "X_test3 = pca.transform(X_test2)\n",
    "\n",
    "rbf_clf = svm.SVC(kernel='rbf', gamma =  1e-06, C =  1000).fit(X_train3, y_train2)\n",
    "y_validation_pred=rbf_clf.predict(X_test3)   \n",
    "num_correct = np.sum(y_validation_pred == y_test)\n",
    "accuracy = float(num_correct) / len(y_test)\n",
    "\n",
    "print accuracy"
   ]
  },
  {
   "cell_type": "markdown",
   "metadata": {},
   "source": [
    "#### linear kernel"
   ]
  },
  {
   "cell_type": "code",
   "execution_count": 13,
   "metadata": {
    "collapsed": true
   },
   "outputs": [],
   "source": [
    "num_folds = 5\n",
    "X_train_folds = []\n",
    "y_train_folds = []\n",
    "X_train_folds = np.array(np.array_split(X_train2, num_folds))  #X_train\n",
    "y_train_folds = np.array(np.array_split(y_train2, num_folds))  #y_train\n",
    "num_test_sample=len(X_train2)/num_folds"
   ]
  },
  {
   "cell_type": "code",
   "execution_count": 28,
   "metadata": {
    "collapsed": false
   },
   "outputs": [
    {
     "name": "stdout",
     "output_type": "stream",
     "text": [
      "[0.885, 0.8783333333333333, 0.8858333333333334, 0.8875, 0.8954166666666666]\n",
      "accuracy (C = : 0.1 ):  0.886416666667\n",
      "[0.885, 0.8783333333333333, 0.8858333333333334, 0.8875, 0.8954166666666666]\n",
      "accuracy (C = : 1 ):  0.886416666667\n",
      "[0.885, 0.8783333333333333, 0.8858333333333334, 0.8875, 0.8954166666666666]\n",
      "accuracy (C = : 10 ):  0.886416666667\n",
      "[0.885, 0.8783333333333333, 0.8858333333333334, 0.8875, 0.8954166666666666]\n",
      "accuracy (C = : 100 ):  0.886416666667\n",
      "[0.885, 0.8783333333333333, 0.8858333333333334, 0.8875, 0.8954166666666666]\n",
      "accuracy (C = : 1000 ):  0.886416666667\n"
     ]
    }
   ],
   "source": [
    "## linear\n",
    "for c in [0.1, 1, 10, 100, 1000]:\n",
    "    linear=[]\n",
    "    for n in range(0,num_folds):\n",
    "        temp= [x for x in range(0,num_folds) if x != n]\n",
    "        X_train_dat=np.concatenate(X_train_folds[temp])\n",
    "        y_train_dat=np.concatenate(y_train_folds[temp])\n",
    "        lin_clf = svm.SVC(kernel='linear', C=c)\n",
    "        lin_clf = lin_clf.fit(X_train_dat, y_train_dat)\n",
    "        y_validation_pred=lin_clf.predict(X_train_folds[n])   \n",
    "        num_correct = np.sum(y_validation_pred == y_train_folds[n])\n",
    "        accuracy = float(num_correct) / num_test_sample\n",
    "        linear.append(accuracy)\n",
    "    print linear\n",
    "    print \"accuracy (C = :\", c, '): ', np.mean(linear)"
   ]
  },
  {
   "cell_type": "markdown",
   "metadata": {},
   "source": [
    "this dataset is linearly seprable.\n",
    "The error on training set is zero!\n",
    "So changing the C won't help."
   ]
  },
  {
   "cell_type": "markdown",
   "metadata": {},
   "source": [
    "#### Polynomial kernel"
   ]
  },
  {
   "cell_type": "code",
   "execution_count": 31,
   "metadata": {
    "collapsed": true
   },
   "outputs": [],
   "source": [
    "num_folds = 5\n",
    "X_train_folds = []\n",
    "y_train_folds = []\n",
    "X_train_folds = np.array(np.array_split(X_train2, num_folds))  #X_train\n",
    "y_train_folds = np.array(np.array_split(y_train2, num_folds))  #y_train\n",
    "num_test_sample=len(X_train2)/num_folds"
   ]
  },
  {
   "cell_type": "code",
   "execution_count": 41,
   "metadata": {
    "collapsed": false
   },
   "outputs": [
    {
     "name": "stdout",
     "output_type": "stream",
     "text": [
      "gamma =  0.001 C =  0.01\n",
      "[0.9583333333333334, 0.9508333333333333, 0.9570833333333333, 0.95, 0.9554166666666667]\n",
      "accuracy:  0.954333333333\n",
      "gamma =  0.001 C =  0.1\n",
      "[0.9583333333333334, 0.9508333333333333, 0.9570833333333333, 0.95, 0.9554166666666667]\n",
      "accuracy:  0.954333333333\n",
      "gamma =  0.001 C =  1.0\n",
      "[0.9583333333333334, 0.9508333333333333, 0.9570833333333333, 0.95, 0.9554166666666667]\n",
      "accuracy:  0.954333333333\n",
      "gamma =  0.001 C =  10.0\n",
      "[0.9583333333333334, 0.9508333333333333, 0.9570833333333333, 0.95, 0.9554166666666667]\n",
      "accuracy:  0.954333333333\n",
      "gamma =  0.001 C =  100.0\n",
      "[0.9583333333333334, 0.9508333333333333, 0.9570833333333333, 0.95, 0.9554166666666667]\n",
      "accuracy:  0.954333333333\n",
      "gamma =  0.001 C =  1000.0\n",
      "[0.9583333333333334, 0.9508333333333333, 0.9570833333333333, 0.95, 0.9554166666666667]\n",
      "accuracy:  0.954333333333\n",
      "gamma =  0.002 C =  0.01\n",
      "[0.9583333333333334, 0.9508333333333333, 0.9570833333333333, 0.95, 0.9554166666666667]\n",
      "accuracy:  0.954333333333\n",
      "gamma =  0.002 C =  0.1\n",
      "[0.9583333333333334, 0.9508333333333333, 0.9570833333333333, 0.95, 0.9554166666666667]\n",
      "accuracy:  0.954333333333\n",
      "gamma =  0.002 C =  1.0\n",
      "[0.9583333333333334, 0.9508333333333333, 0.9570833333333333, 0.95, 0.9554166666666667]\n",
      "accuracy:  0.954333333333\n",
      "gamma =  0.002 C =  10.0\n",
      "[0.9583333333333334, 0.9508333333333333, 0.9570833333333333, 0.95, 0.9554166666666667]\n",
      "accuracy:  0.954333333333\n",
      "gamma =  0.002 C =  100.0\n",
      "[0.9583333333333334, 0.9508333333333333, 0.9570833333333333, 0.95, 0.9554166666666667]\n",
      "accuracy:  0.954333333333\n",
      "gamma =  0.002 C =  1000.0\n",
      "[0.9583333333333334, 0.9508333333333333, 0.9570833333333333, 0.95, 0.9554166666666667]\n",
      "accuracy:  0.954333333333\n",
      "gamma =  0.004 C =  0.01\n",
      "[0.9583333333333334, 0.9508333333333333, 0.9570833333333333, 0.95, 0.9554166666666667]\n",
      "accuracy:  0.954333333333\n",
      "gamma =  0.004 C =  0.1\n",
      "[0.9583333333333334, 0.9508333333333333, 0.9570833333333333, 0.95, 0.9554166666666667]\n",
      "accuracy:  0.954333333333\n",
      "gamma =  0.004 C =  1.0\n",
      "[0.9583333333333334, 0.9508333333333333, 0.9570833333333333, 0.95, 0.9554166666666667]\n",
      "accuracy:  0.954333333333\n",
      "gamma =  0.004 C =  10.0\n",
      "[0.9583333333333334, 0.9508333333333333, 0.9570833333333333, 0.95, 0.9554166666666667]\n",
      "accuracy:  0.954333333333\n",
      "gamma =  0.004 C =  100.0\n",
      "[0.9583333333333334, 0.9508333333333333, 0.9570833333333333, 0.95, 0.9554166666666667]\n",
      "accuracy:  0.954333333333\n",
      "gamma =  0.004 C =  1000.0\n",
      "[0.9583333333333334, 0.9508333333333333, 0.9570833333333333, 0.95, 0.9554166666666667]\n",
      "accuracy:  0.954333333333\n",
      "gamma =  0.01 C =  0.01\n",
      "[0.9583333333333334, 0.9508333333333333, 0.9570833333333333, 0.95, 0.9554166666666667]\n",
      "accuracy:  0.954333333333\n",
      "gamma =  0.01 C =  0.1\n",
      "[0.9583333333333334, 0.9508333333333333, 0.9570833333333333, 0.95, 0.9554166666666667]\n",
      "accuracy:  0.954333333333\n",
      "gamma =  0.01 C =  1.0\n",
      "[0.9583333333333334, 0.9508333333333333, 0.9570833333333333, 0.95, 0.9554166666666667]\n",
      "accuracy:  0.954333333333\n",
      "gamma =  0.01 C =  10.0\n",
      "[0.9583333333333334, 0.9508333333333333, 0.9570833333333333, 0.95, 0.9554166666666667]\n",
      "accuracy:  0.954333333333\n",
      "gamma =  0.01 C =  100.0\n",
      "[0.9583333333333334, 0.9508333333333333, 0.9570833333333333, 0.95, 0.9554166666666667]\n",
      "accuracy:  0.954333333333\n",
      "gamma =  0.01 C =  1000.0\n",
      "[0.9583333333333334, 0.9508333333333333, 0.9570833333333333, 0.95, 0.9554166666666667]\n",
      "accuracy:  0.954333333333\n",
      "gamma =  0.02 C =  0.01\n",
      "[0.9583333333333334, 0.9508333333333333, 0.9570833333333333, 0.95, 0.9554166666666667]\n",
      "accuracy:  0.954333333333\n",
      "gamma =  0.02 C =  0.1\n",
      "[0.9583333333333334, 0.9508333333333333, 0.9570833333333333, 0.95, 0.9554166666666667]\n",
      "accuracy:  0.954333333333\n",
      "gamma =  0.02 C =  1.0\n",
      "[0.9583333333333334, 0.9508333333333333, 0.9570833333333333, 0.95, 0.9554166666666667]\n",
      "accuracy:  0.954333333333\n",
      "gamma =  0.02 C =  10.0\n",
      "[0.9583333333333334, 0.9508333333333333, 0.9570833333333333, 0.95, 0.9554166666666667]\n",
      "accuracy:  0.954333333333\n",
      "gamma =  0.02 C =  100.0\n",
      "[0.9583333333333334, 0.9508333333333333, 0.9570833333333333, 0.95, 0.9554166666666667]\n",
      "accuracy:  0.954333333333\n",
      "gamma =  0.02 C =  1000.0\n",
      "[0.9583333333333334, 0.9508333333333333, 0.9570833333333333, 0.95, 0.9554166666666667]\n",
      "accuracy:  0.954333333333\n",
      "gamma =  1.0 C =  0.01\n",
      "[0.9583333333333334, 0.9508333333333333, 0.9570833333333333, 0.95, 0.9554166666666667]\n",
      "accuracy:  0.954333333333\n",
      "gamma =  1.0 C =  0.1\n",
      "[0.9583333333333334, 0.9508333333333333, 0.9570833333333333, 0.95, 0.9554166666666667]\n",
      "accuracy:  0.954333333333\n",
      "gamma =  1.0 C =  1.0\n",
      "[0.9583333333333334, 0.9508333333333333, 0.9570833333333333, 0.95, 0.9554166666666667]\n",
      "accuracy:  0.954333333333\n",
      "gamma =  1.0 C =  10.0\n",
      "[0.9583333333333334, 0.9508333333333333, 0.9570833333333333, 0.95, 0.9554166666666667]\n",
      "accuracy:  0.954333333333\n",
      "gamma =  1.0 C =  100.0\n",
      "[0.9583333333333334, 0.9508333333333333, 0.9570833333333333, 0.95, 0.9554166666666667]\n",
      "accuracy:  0.954333333333\n",
      "gamma =  1.0 C =  1000.0\n",
      "[0.9583333333333334, 0.9508333333333333, 0.9570833333333333, 0.95, 0.9554166666666667]\n",
      "accuracy:  0.954333333333\n",
      "gamma =  10.0 C =  0.01\n",
      "[0.9583333333333334, 0.9508333333333333, 0.9570833333333333, 0.95, 0.9554166666666667]\n",
      "accuracy:  0.954333333333\n",
      "gamma =  10.0 C =  0.1\n",
      "[0.9583333333333334, 0.9508333333333333, 0.9570833333333333, 0.95, 0.9554166666666667]\n",
      "accuracy:  0.954333333333\n",
      "gamma =  10.0 C =  1.0\n",
      "[0.9583333333333334, 0.9508333333333333, 0.9570833333333333, 0.95, 0.9554166666666667]\n",
      "accuracy:  0.954333333333\n",
      "gamma =  10.0 C =  10.0\n",
      "[0.9583333333333334, 0.9508333333333333, 0.9570833333333333, 0.95, 0.9554166666666667]\n",
      "accuracy:  0.954333333333\n",
      "gamma =  10.0 C =  100.0\n",
      "[0.9583333333333334, 0.9508333333333333, 0.9570833333333333, 0.95, 0.9554166666666667]\n",
      "accuracy:  0.954333333333\n",
      "gamma =  10.0 C =  1000.0\n",
      "[0.9583333333333334, 0.9508333333333333, 0.9570833333333333, 0.95, 0.9554166666666667]\n",
      "accuracy:  0.954333333333\n"
     ]
    }
   ],
   "source": [
    "## poly\n",
    "for g in [1.0/1000, 1.0/500,1.0/250, 1.0/100, 1.0/50, 1.0, 10.0]:\n",
    "    for c in [0.01, 0.1, 1.0, 10.0, 100.0, 1000.0]:\n",
    "        print 'gamma = ', g, 'C = ', c\n",
    "        poly = []\n",
    "        for n in range(0,num_folds):\n",
    "            temp= [x for x in range(0,num_folds) if x != n]\n",
    "            X_train_dat=np.concatenate(X_train_folds[temp])\n",
    "            y_train_dat=np.concatenate(y_train_folds[temp])\n",
    "            poly_clf = svm.SVC(kernel='poly', C=c, gamma = g)\n",
    "            poly_clf = poly_clf.fit(X_train_dat, y_train_dat)\n",
    "            y_validation_pred=poly_clf.predict(X_train_folds[n])   \n",
    "            num_correct = np.sum(y_validation_pred == y_train_folds[n])\n",
    "            accuracy = float(num_correct) / num_test_sample\n",
    "            poly.append(accuracy)\n",
    "        print poly\n",
    "        print \"accuracy: \", np.mean(poly)"
   ]
  },
  {
   "cell_type": "markdown",
   "metadata": {},
   "source": [
    "#### Gaussian Kernel"
   ]
  },
  {
   "cell_type": "code",
   "execution_count": 16,
   "metadata": {
    "collapsed": true
   },
   "outputs": [],
   "source": [
    "from sklearn.grid_search import GridSearchCV\n",
    "from sklearn.metrics import classification_report\n",
    "import scipy"
   ]
  },
  {
   "cell_type": "code",
   "execution_count": 14,
   "metadata": {
    "collapsed": false
   },
   "outputs": [
    {
     "name": "stdout",
     "output_type": "stream",
     "text": [
      "gamma =  0.001 C =  1.0\n"
     ]
    },
    {
     "ename": "KeyboardInterrupt",
     "evalue": "",
     "output_type": "error",
     "traceback": [
      "\u001b[0;31m---------------------------------------------------------------------------\u001b[0m",
      "\u001b[0;31mKeyboardInterrupt\u001b[0m                         Traceback (most recent call last)",
      "\u001b[0;32m<ipython-input-14-b35c5cb831fb>\u001b[0m in \u001b[0;36m<module>\u001b[0;34m()\u001b[0m\n\u001b[1;32m      9\u001b[0m             \u001b[0my_train_dat\u001b[0m\u001b[0;34m=\u001b[0m\u001b[0mnp\u001b[0m\u001b[0;34m.\u001b[0m\u001b[0mconcatenate\u001b[0m\u001b[0;34m(\u001b[0m\u001b[0my_train_folds\u001b[0m\u001b[0;34m[\u001b[0m\u001b[0mtemp\u001b[0m\u001b[0;34m]\u001b[0m\u001b[0;34m)\u001b[0m\u001b[0;34m\u001b[0m\u001b[0m\n\u001b[1;32m     10\u001b[0m             \u001b[0mrbf_clf\u001b[0m \u001b[0;34m=\u001b[0m \u001b[0msvm\u001b[0m\u001b[0;34m.\u001b[0m\u001b[0mSVC\u001b[0m\u001b[0;34m(\u001b[0m\u001b[0mkernel\u001b[0m\u001b[0;34m=\u001b[0m\u001b[0;34m'rbf'\u001b[0m\u001b[0;34m,\u001b[0m \u001b[0mC\u001b[0m\u001b[0;34m=\u001b[0m\u001b[0mc\u001b[0m\u001b[0;34m,\u001b[0m \u001b[0mgamma\u001b[0m \u001b[0;34m=\u001b[0m \u001b[0mg\u001b[0m\u001b[0;34m)\u001b[0m\u001b[0;34m\u001b[0m\u001b[0m\n\u001b[0;32m---> 11\u001b[0;31m             \u001b[0mrbf_clf\u001b[0m \u001b[0;34m=\u001b[0m \u001b[0mrbf_clf\u001b[0m\u001b[0;34m.\u001b[0m\u001b[0mfit\u001b[0m\u001b[0;34m(\u001b[0m\u001b[0mX_train_dat\u001b[0m\u001b[0;34m,\u001b[0m \u001b[0my_train_dat\u001b[0m\u001b[0;34m)\u001b[0m\u001b[0;34m\u001b[0m\u001b[0m\n\u001b[0m\u001b[1;32m     12\u001b[0m             \u001b[0my_validation_pred\u001b[0m\u001b[0;34m=\u001b[0m\u001b[0mrbf_clf\u001b[0m\u001b[0;34m.\u001b[0m\u001b[0mpredict\u001b[0m\u001b[0;34m(\u001b[0m\u001b[0mX_train_folds\u001b[0m\u001b[0;34m[\u001b[0m\u001b[0mn\u001b[0m\u001b[0;34m]\u001b[0m\u001b[0;34m)\u001b[0m\u001b[0;34m\u001b[0m\u001b[0m\n\u001b[1;32m     13\u001b[0m             \u001b[0mnum_correct\u001b[0m \u001b[0;34m=\u001b[0m \u001b[0mnp\u001b[0m\u001b[0;34m.\u001b[0m\u001b[0msum\u001b[0m\u001b[0;34m(\u001b[0m\u001b[0my_validation_pred\u001b[0m \u001b[0;34m==\u001b[0m \u001b[0my_train_folds\u001b[0m\u001b[0;34m[\u001b[0m\u001b[0mn\u001b[0m\u001b[0;34m]\u001b[0m\u001b[0;34m)\u001b[0m\u001b[0;34m\u001b[0m\u001b[0m\n",
      "\u001b[0;32m/home/wen/anaconda2/lib/python2.7/site-packages/sklearn/svm/base.pyc\u001b[0m in \u001b[0;36mfit\u001b[0;34m(self, X, y, sample_weight)\u001b[0m\n\u001b[1;32m    187\u001b[0m \u001b[0;34m\u001b[0m\u001b[0m\n\u001b[1;32m    188\u001b[0m         \u001b[0mseed\u001b[0m \u001b[0;34m=\u001b[0m \u001b[0mrnd\u001b[0m\u001b[0;34m.\u001b[0m\u001b[0mrandint\u001b[0m\u001b[0;34m(\u001b[0m\u001b[0mnp\u001b[0m\u001b[0;34m.\u001b[0m\u001b[0miinfo\u001b[0m\u001b[0;34m(\u001b[0m\u001b[0;34m'i'\u001b[0m\u001b[0;34m)\u001b[0m\u001b[0;34m.\u001b[0m\u001b[0mmax\u001b[0m\u001b[0;34m)\u001b[0m\u001b[0;34m\u001b[0m\u001b[0m\n\u001b[0;32m--> 189\u001b[0;31m         \u001b[0mfit\u001b[0m\u001b[0;34m(\u001b[0m\u001b[0mX\u001b[0m\u001b[0;34m,\u001b[0m \u001b[0my\u001b[0m\u001b[0;34m,\u001b[0m \u001b[0msample_weight\u001b[0m\u001b[0;34m,\u001b[0m \u001b[0msolver_type\u001b[0m\u001b[0;34m,\u001b[0m \u001b[0mkernel\u001b[0m\u001b[0;34m,\u001b[0m \u001b[0mrandom_seed\u001b[0m\u001b[0;34m=\u001b[0m\u001b[0mseed\u001b[0m\u001b[0;34m)\u001b[0m\u001b[0;34m\u001b[0m\u001b[0m\n\u001b[0m\u001b[1;32m    190\u001b[0m         \u001b[0;31m# see comment on the other call to np.iinfo in this file\u001b[0m\u001b[0;34m\u001b[0m\u001b[0;34m\u001b[0m\u001b[0m\n\u001b[1;32m    191\u001b[0m \u001b[0;34m\u001b[0m\u001b[0m\n",
      "\u001b[0;32m/home/wen/anaconda2/lib/python2.7/site-packages/sklearn/svm/base.pyc\u001b[0m in \u001b[0;36m_dense_fit\u001b[0;34m(self, X, y, sample_weight, solver_type, kernel, random_seed)\u001b[0m\n\u001b[1;32m    254\u001b[0m                 \u001b[0mcache_size\u001b[0m\u001b[0;34m=\u001b[0m\u001b[0mself\u001b[0m\u001b[0;34m.\u001b[0m\u001b[0mcache_size\u001b[0m\u001b[0;34m,\u001b[0m \u001b[0mcoef0\u001b[0m\u001b[0;34m=\u001b[0m\u001b[0mself\u001b[0m\u001b[0;34m.\u001b[0m\u001b[0mcoef0\u001b[0m\u001b[0;34m,\u001b[0m\u001b[0;34m\u001b[0m\u001b[0m\n\u001b[1;32m    255\u001b[0m                 \u001b[0mgamma\u001b[0m\u001b[0;34m=\u001b[0m\u001b[0mself\u001b[0m\u001b[0;34m.\u001b[0m\u001b[0m_gamma\u001b[0m\u001b[0;34m,\u001b[0m \u001b[0mepsilon\u001b[0m\u001b[0;34m=\u001b[0m\u001b[0mself\u001b[0m\u001b[0;34m.\u001b[0m\u001b[0mepsilon\u001b[0m\u001b[0;34m,\u001b[0m\u001b[0;34m\u001b[0m\u001b[0m\n\u001b[0;32m--> 256\u001b[0;31m                 max_iter=self.max_iter, random_seed=random_seed)\n\u001b[0m\u001b[1;32m    257\u001b[0m \u001b[0;34m\u001b[0m\u001b[0m\n\u001b[1;32m    258\u001b[0m         \u001b[0mself\u001b[0m\u001b[0;34m.\u001b[0m\u001b[0m_warn_from_fit_status\u001b[0m\u001b[0;34m(\u001b[0m\u001b[0;34m)\u001b[0m\u001b[0;34m\u001b[0m\u001b[0m\n",
      "\u001b[0;31mKeyboardInterrupt\u001b[0m: "
     ]
    }
   ],
   "source": [
    "## gaussian\n",
    "for g in [1.0/1000, 1.0/500,1.0/250, 1.0/100]:\n",
    "    for c in [1.0, 10, 100]:\n",
    "        print 'gamma = ', g, 'C = ', c\n",
    "        rbf = []\n",
    "        for n in range(0,num_folds):\n",
    "            temp= [x for x in range(0,num_folds) if x != n]\n",
    "            X_train_dat=np.concatenate(X_train_folds[temp])\n",
    "            y_train_dat=np.concatenate(y_train_folds[temp])\n",
    "            rbf_clf = svm.SVC(kernel='rbf', C=c, gamma = g)\n",
    "            rbf_clf = rbf_clf.fit(X_train_dat, y_train_dat)\n",
    "            y_validation_pred=rbf_clf.predict(X_train_folds[n])   \n",
    "            num_correct = np.sum(y_validation_pred == y_train_folds[n])\n",
    "            accuracy = float(num_correct) / num_test_sample\n",
    "            rbf.append(accuracy)\n",
    "        print rbf\n",
    "        print \"accuracy: \", np.mean(rbf)"
   ]
  },
  {
   "cell_type": "code",
   "execution_count": 21,
   "metadata": {
    "collapsed": false
   },
   "outputs": [],
   "source": [
    "from sklearn.decomposition import PCA\n",
    "pca = PCA(n_components = 20).fit(X_train2)\n",
    "X_train3 = pca.transform(X_train2)"
   ]
  },
  {
   "cell_type": "code",
   "execution_count": 22,
   "metadata": {
    "collapsed": true
   },
   "outputs": [],
   "source": [
    "num_folds = 5\n",
    "X_train_foldspca = []\n",
    "y_train_foldspca = []\n",
    "X_train_foldspca = np.array(np.array_split(X_train3, num_folds))  #X_train\n",
    "y_train_foldspca = np.array(np.array_split(y_train2, num_folds))  #y_train\n",
    "num_test_sample=len(X_train3)/num_folds"
   ]
  },
  {
   "cell_type": "code",
   "execution_count": 23,
   "metadata": {
    "collapsed": false
   },
   "outputs": [
    {
     "name": "stdout",
     "output_type": "stream",
     "text": [
      "gamma =  1e-08 C =  0.001\n",
      "[0.11125, 0.11125, 0.1175, 0.11333333333333333, 0.11458333333333333]\n",
      "accuracy:  0.113583333333\n",
      "gamma =  1e-08 C =  0.01\n",
      "[0.11125, 0.11125, 0.1175, 0.11333333333333333, 0.11458333333333333]\n",
      "accuracy:  0.113583333333\n",
      "gamma =  1e-08 C =  1.0\n",
      "[0.865, 0.8745833333333334, 0.8725, 0.87125, 0.87375]\n",
      "accuracy:  0.871416666667\n",
      "gamma =  1e-08 C =  10\n",
      "[0.88875, 0.8945833333333333, 0.8966666666666666, 0.8941666666666667, 0.8970833333333333]\n",
      "accuracy:  0.89425\n",
      "gamma =  1e-08 C =  100\n",
      "[0.9091666666666667, 0.9116666666666666, 0.91875, 0.9075, 0.9145833333333333]\n",
      "accuracy:  0.912333333333\n",
      "gamma =  1e-08 C =  1000\n",
      "[0.94, 0.94125, 0.9479166666666666, 0.9420833333333334, 0.94625]\n",
      "accuracy:  0.9435\n",
      "gamma =  1e-07 C =  0.001\n",
      "[0.11125, 0.11125, 0.1175, 0.11333333333333333, 0.11458333333333333]\n",
      "accuracy:  0.113583333333\n",
      "gamma =  1e-07 C =  0.01\n",
      "[0.6954166666666667, 0.695, 0.7095833333333333, 0.705, 0.6995833333333333]\n",
      "accuracy:  0.700916666667\n",
      "gamma =  1e-07 C =  1.0\n",
      "[0.9145833333333333, 0.92625, 0.9225, 0.9154166666666667, 0.9216666666666666]\n",
      "accuracy:  0.920083333333\n",
      "gamma =  1e-07 C =  10\n",
      "[0.9466666666666667, 0.9433333333333334, 0.9483333333333334, 0.9458333333333333, 0.9504166666666667]\n",
      "accuracy:  0.946916666667\n",
      "gamma =  1e-07 C =  100\n",
      "[0.9595833333333333, 0.9466666666666667, 0.9625, 0.9529166666666666, 0.96]\n",
      "accuracy:  0.956333333333\n",
      "gamma =  1e-07 C =  1000\n",
      "[0.95125, 0.9416666666666667, 0.9554166666666667, 0.9479166666666666, 0.9554166666666667]\n",
      "accuracy:  0.950333333333\n",
      "gamma =  1e-06 C =  0.001\n",
      "[0.11125, 0.11125, 0.1175, 0.11333333333333333, 0.11458333333333333]\n",
      "accuracy:  0.113583333333\n",
      "gamma =  1e-06 C =  0.01\n",
      "[0.8245833333333333, 0.8179166666666666, 0.8383333333333334, 0.8229166666666666, 0.8345833333333333]\n",
      "accuracy:  0.827666666667\n",
      "gamma =  1e-06 C =  1.0\n",
      "[0.9608333333333333, 0.96125, 0.9658333333333333, 0.9554166666666667, 0.9620833333333333]\n",
      "accuracy:  0.961083333333\n",
      "gamma =  1e-06 C =  10\n",
      "[0.9625, 0.9616666666666667, 0.965, 0.9629166666666666, 0.9629166666666666]\n",
      "accuracy:  0.963\n",
      "gamma =  1e-06 C =  100\n",
      "[0.9629166666666666, 0.96125, 0.9645833333333333, 0.9625, 0.9616666666666667]\n",
      "accuracy:  0.962583333333\n",
      "gamma =  1e-06 C =  1000\n",
      "[0.9629166666666666, 0.96125, 0.9645833333333333, 0.9625, 0.9616666666666667]\n",
      "accuracy:  0.962583333333\n",
      "gamma =  1e-05 C =  0.001\n",
      "[0.11125, 0.11125, 0.1175, 0.11333333333333333, 0.11458333333333333]\n",
      "accuracy:  0.113583333333\n",
      "gamma =  1e-05 C =  0.01\n"
     ]
    },
    {
     "ename": "KeyboardInterrupt",
     "evalue": "",
     "output_type": "error",
     "traceback": [
      "\u001b[0;31m---------------------------------------------------------------------------\u001b[0m",
      "\u001b[0;31mKeyboardInterrupt\u001b[0m                         Traceback (most recent call last)",
      "\u001b[0;32m<ipython-input-23-08479a129836>\u001b[0m in \u001b[0;36m<module>\u001b[0;34m()\u001b[0m\n\u001b[1;32m      9\u001b[0m             \u001b[0my_train_dat\u001b[0m\u001b[0;34m=\u001b[0m\u001b[0mnp\u001b[0m\u001b[0;34m.\u001b[0m\u001b[0mconcatenate\u001b[0m\u001b[0;34m(\u001b[0m\u001b[0my_train_foldspca\u001b[0m\u001b[0;34m[\u001b[0m\u001b[0mtemp\u001b[0m\u001b[0;34m]\u001b[0m\u001b[0;34m)\u001b[0m\u001b[0;34m\u001b[0m\u001b[0m\n\u001b[1;32m     10\u001b[0m             \u001b[0mrbf_clf\u001b[0m \u001b[0;34m=\u001b[0m \u001b[0msvm\u001b[0m\u001b[0;34m.\u001b[0m\u001b[0mSVC\u001b[0m\u001b[0;34m(\u001b[0m\u001b[0mkernel\u001b[0m\u001b[0;34m=\u001b[0m\u001b[0;34m'rbf'\u001b[0m\u001b[0;34m,\u001b[0m \u001b[0mC\u001b[0m\u001b[0;34m=\u001b[0m\u001b[0mc\u001b[0m\u001b[0;34m,\u001b[0m \u001b[0mgamma\u001b[0m \u001b[0;34m=\u001b[0m \u001b[0mg\u001b[0m\u001b[0;34m)\u001b[0m\u001b[0;34m\u001b[0m\u001b[0m\n\u001b[0;32m---> 11\u001b[0;31m             \u001b[0mrbf_clf\u001b[0m \u001b[0;34m=\u001b[0m \u001b[0mrbf_clf\u001b[0m\u001b[0;34m.\u001b[0m\u001b[0mfit\u001b[0m\u001b[0;34m(\u001b[0m\u001b[0mX_train_dat\u001b[0m\u001b[0;34m,\u001b[0m \u001b[0my_train_dat\u001b[0m\u001b[0;34m)\u001b[0m\u001b[0;34m\u001b[0m\u001b[0m\n\u001b[0m\u001b[1;32m     12\u001b[0m             \u001b[0my_validation_pred\u001b[0m\u001b[0;34m=\u001b[0m\u001b[0mrbf_clf\u001b[0m\u001b[0;34m.\u001b[0m\u001b[0mpredict\u001b[0m\u001b[0;34m(\u001b[0m\u001b[0mX_train_foldspca\u001b[0m\u001b[0;34m[\u001b[0m\u001b[0mn\u001b[0m\u001b[0;34m]\u001b[0m\u001b[0;34m)\u001b[0m\u001b[0;34m\u001b[0m\u001b[0m\n\u001b[1;32m     13\u001b[0m             \u001b[0mnum_correct\u001b[0m \u001b[0;34m=\u001b[0m \u001b[0mnp\u001b[0m\u001b[0;34m.\u001b[0m\u001b[0msum\u001b[0m\u001b[0;34m(\u001b[0m\u001b[0my_validation_pred\u001b[0m \u001b[0;34m==\u001b[0m \u001b[0my_train_foldspca\u001b[0m\u001b[0;34m[\u001b[0m\u001b[0mn\u001b[0m\u001b[0;34m]\u001b[0m\u001b[0;34m)\u001b[0m\u001b[0;34m\u001b[0m\u001b[0m\n",
      "\u001b[0;32m/home/wen/anaconda2/lib/python2.7/site-packages/sklearn/svm/base.pyc\u001b[0m in \u001b[0;36mfit\u001b[0;34m(self, X, y, sample_weight)\u001b[0m\n\u001b[1;32m    187\u001b[0m \u001b[0;34m\u001b[0m\u001b[0m\n\u001b[1;32m    188\u001b[0m         \u001b[0mseed\u001b[0m \u001b[0;34m=\u001b[0m \u001b[0mrnd\u001b[0m\u001b[0;34m.\u001b[0m\u001b[0mrandint\u001b[0m\u001b[0;34m(\u001b[0m\u001b[0mnp\u001b[0m\u001b[0;34m.\u001b[0m\u001b[0miinfo\u001b[0m\u001b[0;34m(\u001b[0m\u001b[0;34m'i'\u001b[0m\u001b[0;34m)\u001b[0m\u001b[0;34m.\u001b[0m\u001b[0mmax\u001b[0m\u001b[0;34m)\u001b[0m\u001b[0;34m\u001b[0m\u001b[0m\n\u001b[0;32m--> 189\u001b[0;31m         \u001b[0mfit\u001b[0m\u001b[0;34m(\u001b[0m\u001b[0mX\u001b[0m\u001b[0;34m,\u001b[0m \u001b[0my\u001b[0m\u001b[0;34m,\u001b[0m \u001b[0msample_weight\u001b[0m\u001b[0;34m,\u001b[0m \u001b[0msolver_type\u001b[0m\u001b[0;34m,\u001b[0m \u001b[0mkernel\u001b[0m\u001b[0;34m,\u001b[0m \u001b[0mrandom_seed\u001b[0m\u001b[0;34m=\u001b[0m\u001b[0mseed\u001b[0m\u001b[0;34m)\u001b[0m\u001b[0;34m\u001b[0m\u001b[0m\n\u001b[0m\u001b[1;32m    190\u001b[0m         \u001b[0;31m# see comment on the other call to np.iinfo in this file\u001b[0m\u001b[0;34m\u001b[0m\u001b[0;34m\u001b[0m\u001b[0m\n\u001b[1;32m    191\u001b[0m \u001b[0;34m\u001b[0m\u001b[0m\n",
      "\u001b[0;32m/home/wen/anaconda2/lib/python2.7/site-packages/sklearn/svm/base.pyc\u001b[0m in \u001b[0;36m_dense_fit\u001b[0;34m(self, X, y, sample_weight, solver_type, kernel, random_seed)\u001b[0m\n\u001b[1;32m    254\u001b[0m                 \u001b[0mcache_size\u001b[0m\u001b[0;34m=\u001b[0m\u001b[0mself\u001b[0m\u001b[0;34m.\u001b[0m\u001b[0mcache_size\u001b[0m\u001b[0;34m,\u001b[0m \u001b[0mcoef0\u001b[0m\u001b[0;34m=\u001b[0m\u001b[0mself\u001b[0m\u001b[0;34m.\u001b[0m\u001b[0mcoef0\u001b[0m\u001b[0;34m,\u001b[0m\u001b[0;34m\u001b[0m\u001b[0m\n\u001b[1;32m    255\u001b[0m                 \u001b[0mgamma\u001b[0m\u001b[0;34m=\u001b[0m\u001b[0mself\u001b[0m\u001b[0;34m.\u001b[0m\u001b[0m_gamma\u001b[0m\u001b[0;34m,\u001b[0m \u001b[0mepsilon\u001b[0m\u001b[0;34m=\u001b[0m\u001b[0mself\u001b[0m\u001b[0;34m.\u001b[0m\u001b[0mepsilon\u001b[0m\u001b[0;34m,\u001b[0m\u001b[0;34m\u001b[0m\u001b[0m\n\u001b[0;32m--> 256\u001b[0;31m                 max_iter=self.max_iter, random_seed=random_seed)\n\u001b[0m\u001b[1;32m    257\u001b[0m \u001b[0;34m\u001b[0m\u001b[0m\n\u001b[1;32m    258\u001b[0m         \u001b[0mself\u001b[0m\u001b[0;34m.\u001b[0m\u001b[0m_warn_from_fit_status\u001b[0m\u001b[0;34m(\u001b[0m\u001b[0;34m)\u001b[0m\u001b[0;34m\u001b[0m\u001b[0m\n",
      "\u001b[0;31mKeyboardInterrupt\u001b[0m: "
     ]
    }
   ],
   "source": [
    "## gaussian with PCA\n",
    "for g in [1e-8, 1e-7, 1e-6, 1e-5]:\n",
    "    for c in [0.001, 0.01, 1.0, 10, 100, 1000]:\n",
    "        print 'gamma = ', g, 'C = ', c\n",
    "        rbf = []\n",
    "        for n in range(0,num_folds):\n",
    "            temp= [x for x in range(0,num_folds) if x != n]\n",
    "            X_train_dat=np.concatenate(X_train_foldspca[temp])\n",
    "            y_train_dat=np.concatenate(y_train_foldspca[temp])\n",
    "            rbf_clf = svm.SVC(kernel='rbf', C=c, gamma = g)\n",
    "            rbf_clf = rbf_clf.fit(X_train_dat, y_train_dat)\n",
    "            y_validation_pred=rbf_clf.predict(X_train_foldspca[n])   \n",
    "            num_correct = np.sum(y_validation_pred == y_train_foldspca[n])\n",
    "            accuracy = float(num_correct) / num_test_sample\n",
    "            rbf.append(accuracy)\n",
    "        print rbf\n",
    "        print \"accuracy: \", np.mean(rbf)"
   ]
  },
  {
   "cell_type": "markdown",
   "metadata": {},
   "source": [
    "#### Sigmoid Kernel"
   ]
  },
  {
   "cell_type": "code",
   "execution_count": 26,
   "metadata": {
    "collapsed": false
   },
   "outputs": [
    {
     "name": "stdout",
     "output_type": "stream",
     "text": [
      "gamma =  1e-09 C =  0.01\n",
      "[0.11125, 0.11125, 0.1175, 0.11333333333333333, 0.11458333333333333]\n",
      "accuracy:  0.113583333333\n",
      "gamma =  1e-09 C =  1.0\n",
      "[0.6195833333333334, 0.6108333333333333, 0.61625, 0.6258333333333334, 0.6204166666666666]\n",
      "accuracy:  0.618583333333\n",
      "gamma =  1e-09 C =  10\n",
      "[0.8541666666666666, 0.8583333333333333, 0.8558333333333333, 0.86, 0.85875]\n",
      "accuracy:  0.857416666667\n",
      "gamma =  1e-09 C =  100\n",
      "[0.8816666666666667, 0.8858333333333334, 0.88875, 0.8845833333333334, 0.88625]\n",
      "accuracy:  0.885416666667\n",
      "gamma =  1e-09 C =  1000\n",
      "[0.8908333333333334, 0.88625, 0.8925, 0.8925, 0.8954166666666666]\n",
      "accuracy:  0.8915\n",
      "gamma =  1e-08 C =  0.01\n",
      "[0.11125, 0.11125, 0.1175, 0.11333333333333333, 0.11458333333333333]\n",
      "accuracy:  0.113583333333\n",
      "gamma =  1e-08 C =  1.0\n",
      "[0.8541666666666666, 0.8583333333333333, 0.8554166666666667, 0.86, 0.85875]\n",
      "accuracy:  0.857333333333\n",
      "gamma =  1e-08 C =  10\n",
      "[0.8816666666666667, 0.8858333333333334, 0.88875, 0.8845833333333334, 0.88625]\n",
      "accuracy:  0.885416666667\n",
      "gamma =  1e-08 C =  100\n",
      "[0.89125, 0.88625, 0.8925, 0.8925, 0.8954166666666666]\n",
      "accuracy:  0.891583333333\n",
      "gamma =  1e-08 C =  1000\n",
      "[0.8891666666666667, 0.885, 0.8945833333333333, 0.88875, 0.895]\n",
      "accuracy:  0.8905\n",
      "gamma =  1e-07 C =  0.01\n",
      "[0.6175, 0.6091666666666666, 0.615, 0.6233333333333333, 0.6154166666666666]\n",
      "accuracy:  0.616083333333\n",
      "gamma =  1e-07 C =  1.0\n",
      "[0.8804166666666666, 0.8845833333333334, 0.8858333333333334, 0.8829166666666667, 0.8870833333333333]\n",
      "accuracy:  0.884166666667\n",
      "gamma =  1e-07 C =  10\n",
      "[0.8770833333333333, 0.8829166666666667, 0.8845833333333334, 0.885, 0.8841666666666667]\n",
      "accuracy:  0.88275\n",
      "gamma =  1e-07 C =  100\n",
      "[0.8554166666666667, 0.8470833333333333, 0.8575, 0.84875, 0.8604166666666667]\n",
      "accuracy:  0.853833333333\n",
      "gamma =  1e-07 C =  1000\n",
      "[0.8245833333333333, 0.8183333333333334, 0.8291666666666667, 0.8204166666666667, 0.82625]\n",
      "accuracy:  0.82375\n",
      "gamma =  1e-06 C =  0.01\n",
      "[0.7554166666666666, 0.77875, 0.7704166666666666, 0.7683333333333333, 0.7758333333333334]\n",
      "accuracy:  0.76975\n",
      "gamma =  1e-06 C =  1.0\n",
      "[0.57625, 0.5941666666666666, 0.5775, 0.5904166666666667, 0.5654166666666667]\n",
      "accuracy:  0.58075\n",
      "gamma =  1e-06 C =  10\n",
      "[0.5683333333333334, 0.5795833333333333, 0.5683333333333334, 0.5908333333333333, 0.5579166666666666]\n",
      "accuracy:  0.573\n",
      "gamma =  1e-06 C =  100\n",
      "[0.555, 0.5795833333333333, 0.5604166666666667, 0.5816666666666667, 0.5558333333333333]\n",
      "accuracy:  0.5665\n",
      "gamma =  1e-06 C =  1000\n",
      "[0.5641666666666667, 0.5804166666666667, 0.5591666666666667, 0.5795833333333333, 0.55375]\n",
      "accuracy:  0.567416666667\n"
     ]
    }
   ],
   "source": [
    "## sigmoid\n",
    "for g in [1e-9, 1e-8, 1e-7, 1e-6]:\n",
    "    for c in [0.01, 1.0, 10, 100, 1000]:\n",
    "        print 'gamma = ', g, 'C = ', c\n",
    "        sig = []\n",
    "        for n in range(0,num_folds):\n",
    "            temp= [x for x in range(0,num_folds) if x != n]\n",
    "            X_train_dat=np.concatenate(X_train_foldspca[temp])\n",
    "            y_train_dat=np.concatenate(y_train_foldspca[temp])\n",
    "            sig_clf = svm.SVC(kernel='sigmoid', C=c, gamma = g)\n",
    "            sig_clf = sig_clf.fit(X_train_dat, y_train_dat)\n",
    "            y_validation_pred=sig_clf.predict(X_train_foldspca[n])   \n",
    "            num_correct = np.sum(y_validation_pred == y_train_foldspca[n])\n",
    "            accuracy = float(num_correct) / num_test_sample\n",
    "            sig.append(accuracy)\n",
    "        print sig\n",
    "        print \"accuracy: \", np.mean(sig)"
   ]
  }
 ],
 "metadata": {
  "kernelspec": {
   "display_name": "Python 2",
   "language": "python",
   "name": "python2"
  },
  "language_info": {
   "codemirror_mode": {
    "name": "ipython",
    "version": 2
   },
   "file_extension": ".py",
   "mimetype": "text/x-python",
   "name": "python",
   "nbconvert_exporter": "python",
   "pygments_lexer": "ipython2",
   "version": "2.7.13"
  }
 },
 "nbformat": 4,
 "nbformat_minor": 2
}
