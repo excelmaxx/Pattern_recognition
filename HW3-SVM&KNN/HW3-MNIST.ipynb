{
 "cells": [
  {
   "cell_type": "markdown",
   "metadata": {},
   "source": [
    "# CSE 291 Homework3 - KNN  \n",
    "\n",
    "#### Chao Yu \n",
    "#### Wen Liang"
   ]
  },
  {
   "cell_type": "markdown",
   "metadata": {},
   "source": [
    "## K Nearest Neighbor\n",
    "---\n",
    "### MNIST\n",
    "#### Part 1. Read the data and split to training and test sets"
   ]
  },
  {
   "cell_type": "code",
   "execution_count": 1,
   "metadata": {
    "collapsed": false
   },
   "outputs": [],
   "source": [
    "import pandas as pd\n",
    "import numpy as np\n",
    "import matplotlib.pyplot as plt\n",
    "\n",
    "from sklearn.model_selection import train_test_split, cross_val_score, KFold\n",
    "from sklearn.metrics import confusion_matrix, accuracy_score, zero_one_loss\n",
    "\n",
    "import warnings\n",
    "\n",
    "warnings.filterwarnings('ignore')\n",
    "\n",
    "mnist_train_path = './MNIST/train.csv'\n",
    "mnist_train_df = pd.read_csv(mnist_train_path, header=None).T\n",
    "last_column = mnist_train_df.columns[-1]\n",
    "mnist_train_df.rename(columns={last_column:'Class'}, inplace=True)"
   ]
  },
  {
   "cell_type": "code",
   "execution_count": 2,
   "metadata": {
    "collapsed": true
   },
   "outputs": [],
   "source": [
    "mnist_train_df = mnist_train_df.convert_objects(convert_numeric = True)"
   ]
  },
  {
   "cell_type": "code",
   "execution_count": 3,
   "metadata": {
    "collapsed": false
   },
   "outputs": [],
   "source": [
    "X = mnist_train_df.drop(0, axis = 0).drop(0, axis = 1)\n",
    "y = mnist_train_df.drop(0, axis = 1).as_matrix().T[:, 0]\n",
    "\n",
    "X_train, X_test, y_train, y_test = train_test_split(X.T, y, test_size=0.25, random_state=42)"
   ]
  },
  {
   "cell_type": "markdown",
   "metadata": {},
   "source": [
    "#### feature selection"
   ]
  },
  {
   "cell_type": "code",
   "execution_count": 4,
   "metadata": {
    "collapsed": true
   },
   "outputs": [],
   "source": [
    "from sklearn.feature_selection import SelectFromModel\n",
    "from sklearn.ensemble import ExtraTreesClassifier"
   ]
  },
  {
   "cell_type": "code",
   "execution_count": 5,
   "metadata": {
    "collapsed": true
   },
   "outputs": [],
   "source": [
    "X_train2 = X_train[0:5000]"
   ]
  },
  {
   "cell_type": "code",
   "execution_count": 6,
   "metadata": {
    "collapsed": false
   },
   "outputs": [],
   "source": [
    "y_train2 = y_train[0:5000]"
   ]
  },
  {
   "cell_type": "code",
   "execution_count": 7,
   "metadata": {
    "collapsed": false
   },
   "outputs": [],
   "source": [
    "clf = ExtraTreesClassifier()\n",
    "clf = clf.fit(X_train2, y_train2)\n",
    "clf.feature_importances_  \n",
    "model = SelectFromModel(clf, prefit=True)\n",
    "X_train2 = model.transform(X_train2)"
   ]
  },
  {
   "cell_type": "code",
   "execution_count": 8,
   "metadata": {
    "collapsed": false
   },
   "outputs": [],
   "source": [
    "X_test2 = model.transform(X_test)"
   ]
  },
  {
   "cell_type": "code",
   "execution_count": 9,
   "metadata": {
    "collapsed": false
   },
   "outputs": [
    {
     "data": {
      "text/plain": [
       "(5000, 257)"
      ]
     },
     "execution_count": 9,
     "metadata": {},
     "output_type": "execute_result"
    }
   ],
   "source": [
    "X_train2.shape"
   ]
  },
  {
   "cell_type": "code",
   "execution_count": 10,
   "metadata": {
    "collapsed": false
   },
   "outputs": [
    {
     "data": {
      "text/plain": [
       "(10500, 257)"
      ]
     },
     "execution_count": 10,
     "metadata": {},
     "output_type": "execute_result"
    }
   ],
   "source": [
    "X_test2.shape"
   ]
  },
  {
   "cell_type": "code",
   "execution_count": 11,
   "metadata": {
    "collapsed": false
   },
   "outputs": [
    {
     "data": {
      "text/plain": [
       "(10500,)"
      ]
     },
     "execution_count": 11,
     "metadata": {},
     "output_type": "execute_result"
    }
   ],
   "source": [
    "y_test.shape"
   ]
  },
  {
   "cell_type": "markdown",
   "metadata": {},
   "source": [
    "KNN"
   ]
  },
  {
   "cell_type": "code",
   "execution_count": 12,
   "metadata": {
    "collapsed": true
   },
   "outputs": [],
   "source": [
    "def compute_distances_no_loops(X_train,X_test):\n",
    "    \"\"\"\n",
    "    Compute the distance between each test point in X and each training point\n",
    "    in self.X_train using no explicit loops.\n",
    "    Input / Output: Same as compute_distances_two_loops\n",
    "    \"\"\"\n",
    "    num_train=len(X_train)\n",
    "    num_test=len(X_test)\n",
    "    dists = np.zeros((num_test, num_train)) \n",
    "    \n",
    "    # split (p-q)^2 to p^2 + q^2 - 2pq\n",
    "    dists = np.sqrt((X_test**2).sum(axis=1, keepdims=True) + (X_train**2).sum(axis=1) - 2 * X_test.dot(X_train.T))\n",
    "    \n",
    "    #########################################################################\n",
    "    #                         END OF YOUR CODE                              #\n",
    "    #########################################################################\n",
    "    return dists\n"
   ]
  },
  {
   "cell_type": "code",
   "execution_count": 13,
   "metadata": {
    "collapsed": true
   },
   "outputs": [],
   "source": [
    " def predict_labels(dists, k,y_train):\n",
    "    \"\"\"\n",
    "    Given a matrix of distances between test points and training points,\n",
    "    predict a label for each test point.\n",
    "    Inputs:\n",
    "    - dists: A numpy array of shape (num_test, num_train) where dists[i, j]\n",
    "      gives the distance betwen the ith test point and the jth training point.\n",
    "    Returns:\n",
    "    - y: A numpy array of shape (num_test,) containing predicted labels for the\n",
    "      test data, where y[i] is the predicted label for the test point X[i].  \n",
    "    \"\"\"\n",
    "    num_test = dists.shape[0]\n",
    "    y_pred = np.zeros(num_test)\n",
    "    for i in xrange(num_test):\n",
    "      \n",
    "      closest_y = []\n",
    "      \n",
    "      closest_y = y_train[np.argsort(dists[i])][:k]\n",
    "      \n",
    "      y_pred[i] = np.argmax(np.bincount(closest_y))\n",
    "     \n",
    "\n",
    "    return y_pred"
   ]
  },
  {
   "cell_type": "code",
   "execution_count": 16,
   "metadata": {
    "collapsed": false
   },
   "outputs": [
    {
     "ename": "KeyboardInterrupt",
     "evalue": "",
     "output_type": "error",
     "traceback": [
      "\u001b[0;31m---------------------------------------------------------------------------\u001b[0m",
      "\u001b[0;31mKeyboardInterrupt\u001b[0m                         Traceback (most recent call last)",
      "\u001b[0;32m<ipython-input-16-bce2cb73539e>\u001b[0m in \u001b[0;36m<module>\u001b[0;34m()\u001b[0m\n\u001b[1;32m     14\u001b[0m         \u001b[0mX_train_dat\u001b[0m\u001b[0;34m=\u001b[0m\u001b[0mnp\u001b[0m\u001b[0;34m.\u001b[0m\u001b[0mconcatenate\u001b[0m\u001b[0;34m(\u001b[0m\u001b[0mX_train_folds\u001b[0m\u001b[0;34m[\u001b[0m\u001b[0mtemp\u001b[0m\u001b[0;34m]\u001b[0m\u001b[0;34m)\u001b[0m\u001b[0;34m\u001b[0m\u001b[0m\n\u001b[1;32m     15\u001b[0m         \u001b[0my_train_dat\u001b[0m\u001b[0;34m=\u001b[0m\u001b[0mnp\u001b[0m\u001b[0;34m.\u001b[0m\u001b[0mconcatenate\u001b[0m\u001b[0;34m(\u001b[0m\u001b[0my_train_folds\u001b[0m\u001b[0;34m[\u001b[0m\u001b[0mtemp\u001b[0m\u001b[0;34m]\u001b[0m\u001b[0;34m)\u001b[0m\u001b[0;34m\u001b[0m\u001b[0m\n\u001b[0;32m---> 16\u001b[0;31m         \u001b[0mdists\u001b[0m\u001b[0;34m=\u001b[0m\u001b[0mcompute_distances_no_loops\u001b[0m\u001b[0;34m(\u001b[0m\u001b[0mX_train_dat\u001b[0m\u001b[0;34m,\u001b[0m\u001b[0mX_train_folds\u001b[0m\u001b[0;34m[\u001b[0m\u001b[0mn\u001b[0m\u001b[0;34m]\u001b[0m\u001b[0;34m)\u001b[0m\u001b[0;34m\u001b[0m\u001b[0m\n\u001b[0m\u001b[1;32m     17\u001b[0m         \u001b[0my_validation_pred\u001b[0m \u001b[0;34m=\u001b[0m \u001b[0mpredict_labels\u001b[0m\u001b[0;34m(\u001b[0m\u001b[0mdists\u001b[0m\u001b[0;34m,\u001b[0m\u001b[0mk\u001b[0m\u001b[0;34m,\u001b[0m\u001b[0my_train_dat\u001b[0m\u001b[0;34m)\u001b[0m\u001b[0;34m\u001b[0m\u001b[0m\n\u001b[1;32m     18\u001b[0m         \u001b[0;31m# Compute and print the fraction of correctly predicted examples\u001b[0m\u001b[0;34m\u001b[0m\u001b[0;34m\u001b[0m\u001b[0m\n",
      "\u001b[0;32m<ipython-input-12-e94493cdcc41>\u001b[0m in \u001b[0;36mcompute_distances_no_loops\u001b[0;34m(X_train, X_test)\u001b[0m\n\u001b[1;32m     10\u001b[0m \u001b[0;34m\u001b[0m\u001b[0m\n\u001b[1;32m     11\u001b[0m     \u001b[0;31m# split (p-q)^2 to p^2 + q^2 - 2pq\u001b[0m\u001b[0;34m\u001b[0m\u001b[0;34m\u001b[0m\u001b[0m\n\u001b[0;32m---> 12\u001b[0;31m     \u001b[0mdists\u001b[0m \u001b[0;34m=\u001b[0m \u001b[0mnp\u001b[0m\u001b[0;34m.\u001b[0m\u001b[0msqrt\u001b[0m\u001b[0;34m(\u001b[0m\u001b[0;34m(\u001b[0m\u001b[0mX_test\u001b[0m\u001b[0;34m**\u001b[0m\u001b[0;36m2\u001b[0m\u001b[0;34m)\u001b[0m\u001b[0;34m.\u001b[0m\u001b[0msum\u001b[0m\u001b[0;34m(\u001b[0m\u001b[0maxis\u001b[0m\u001b[0;34m=\u001b[0m\u001b[0;36m1\u001b[0m\u001b[0;34m,\u001b[0m \u001b[0mkeepdims\u001b[0m\u001b[0;34m=\u001b[0m\u001b[0mTrue\u001b[0m\u001b[0;34m)\u001b[0m \u001b[0;34m+\u001b[0m \u001b[0;34m(\u001b[0m\u001b[0mX_train\u001b[0m\u001b[0;34m**\u001b[0m\u001b[0;36m2\u001b[0m\u001b[0;34m)\u001b[0m\u001b[0;34m.\u001b[0m\u001b[0msum\u001b[0m\u001b[0;34m(\u001b[0m\u001b[0maxis\u001b[0m\u001b[0;34m=\u001b[0m\u001b[0;36m1\u001b[0m\u001b[0;34m)\u001b[0m \u001b[0;34m-\u001b[0m \u001b[0;36m2\u001b[0m \u001b[0;34m*\u001b[0m \u001b[0mX_test\u001b[0m\u001b[0;34m.\u001b[0m\u001b[0mdot\u001b[0m\u001b[0;34m(\u001b[0m\u001b[0mX_train\u001b[0m\u001b[0;34m.\u001b[0m\u001b[0mT\u001b[0m\u001b[0;34m)\u001b[0m\u001b[0;34m)\u001b[0m\u001b[0;34m\u001b[0m\u001b[0m\n\u001b[0m\u001b[1;32m     13\u001b[0m \u001b[0;34m\u001b[0m\u001b[0m\n\u001b[1;32m     14\u001b[0m     \u001b[0;31m#########################################################################\u001b[0m\u001b[0;34m\u001b[0m\u001b[0;34m\u001b[0m\u001b[0m\n",
      "\u001b[0;31mKeyboardInterrupt\u001b[0m: "
     ]
    }
   ],
   "source": [
    "# KNN without using sklearn\n",
    "num_folds = 5\n",
    "k_choices = [1, 3, 5, 8, 10, 12, 15, 20, 50, 100]\n",
    "\n",
    "X_train_folds = []\n",
    "y_train_folds = []\n",
    "X_train_folds = np.array(np.array_split(X_train2, num_folds))  #X_train\n",
    "y_train_folds = np.array(np.array_split(y_train2, num_folds))  #y_train\n",
    "k_to_accuracies = {}\n",
    "num_test_sample=len(X_train2)/5\n",
    "for k in k_choices:\n",
    "    for n in range(0,num_folds):\n",
    "        temp= [x for x in range(0,num_folds) if x != n]\n",
    "        X_train_dat=np.concatenate(X_train_folds[temp])\n",
    "        y_train_dat=np.concatenate(y_train_folds[temp])\n",
    "        dists=compute_distances_no_loops(X_train_dat,X_train_folds[n])\n",
    "        y_validation_pred = predict_labels(dists,k,y_train_dat)\n",
    "        # Compute and print the fraction of correctly predicted examples\n",
    "        num_correct = np.sum(y_validation_pred == y_train_folds[n])\n",
    "        accuracy = float(num_correct) / num_test_sample\n",
    "        k_to_accuracies.setdefault(k, []).append(accuracy)\n",
    "for k in sorted(k_to_accuracies):\n",
    "    for accuracy in k_to_accuracies[k]:\n",
    "        print 'k = %d, accuracy = %f' % (k, accuracy)\n",
    "    print 'mean of k=%d,accuracy=%f' %(k,np.mean(k_to_accuracies[k]))"
   ]
  },
  {
   "cell_type": "markdown",
   "metadata": {},
   "source": [
    "### Use scikit-learn KNN  \n",
    "\n",
    "#### default - minkowski distance"
   ]
  },
  {
   "cell_type": "code",
   "execution_count": 51,
   "metadata": {
    "collapsed": true
   },
   "outputs": [],
   "source": [
    "from sklearn.neighbors import KNeighborsClassifier"
   ]
  },
  {
   "cell_type": "code",
   "execution_count": 120,
   "metadata": {
    "collapsed": false
   },
   "outputs": [
    {
     "data": {
      "text/plain": [
       "(5000, 259)"
      ]
     },
     "execution_count": 120,
     "metadata": {},
     "output_type": "execute_result"
    }
   ],
   "source": [
    "X_train2.shape"
   ]
  },
  {
   "cell_type": "code",
   "execution_count": 121,
   "metadata": {
    "collapsed": false
   },
   "outputs": [
    {
     "data": {
      "text/plain": [
       "(5000,)"
      ]
     },
     "execution_count": 121,
     "metadata": {},
     "output_type": "execute_result"
    }
   ],
   "source": [
    "y_train2.shape"
   ]
  },
  {
   "cell_type": "code",
   "execution_count": 68,
   "metadata": {
    "collapsed": true
   },
   "outputs": [],
   "source": [
    "Xsample_train=X_train2\n",
    "ysample_train=y_train2"
   ]
  },
  {
   "cell_type": "code",
   "execution_count": 55,
   "metadata": {
    "collapsed": false
   },
   "outputs": [
    {
     "name": "stdout",
     "output_type": "stream",
     "text": [
      "K =  1  is processing\n",
      "K =  3  is processing\n",
      "K =  5  is processing\n",
      "K =  8  is processing\n",
      "K =  10  is processing\n",
      "k = 1, accuracy = 0.929000\n",
      "k = 1, accuracy = 0.921000\n",
      "k = 1, accuracy = 0.932000\n",
      "k = 1, accuracy = 0.932000\n",
      "k = 1, accuracy = 0.930000\n",
      "mean of k=1,accuracy=0.928800\n",
      "k = 3, accuracy = 0.932000\n",
      "k = 3, accuracy = 0.919000\n",
      "k = 3, accuracy = 0.927000\n",
      "k = 3, accuracy = 0.939000\n",
      "k = 3, accuracy = 0.920000\n",
      "mean of k=3,accuracy=0.927400\n",
      "k = 5, accuracy = 0.937000\n",
      "k = 5, accuracy = 0.915000\n",
      "k = 5, accuracy = 0.932000\n",
      "k = 5, accuracy = 0.944000\n",
      "k = 5, accuracy = 0.917000\n",
      "mean of k=5,accuracy=0.929000\n",
      "k = 8, accuracy = 0.927000\n",
      "k = 8, accuracy = 0.912000\n",
      "k = 8, accuracy = 0.926000\n",
      "k = 8, accuracy = 0.933000\n",
      "k = 8, accuracy = 0.918000\n",
      "mean of k=8,accuracy=0.923200\n",
      "k = 10, accuracy = 0.923000\n",
      "k = 10, accuracy = 0.915000\n",
      "k = 10, accuracy = 0.926000\n",
      "k = 10, accuracy = 0.925000\n",
      "k = 10, accuracy = 0.913000\n",
      "mean of k=10,accuracy=0.920400\n"
     ]
    }
   ],
   "source": [
    "#### full data, 5 folds\n",
    "num_folds = 5\n",
    "k_choices = [1, 3, 5, 8, 10]\n",
    "\n",
    "X_train_folds = []\n",
    "y_train_folds = []\n",
    "X_train_folds = np.array(np.array_split(Xsample_train, num_folds))  #X_train\n",
    "y_train_folds = np.array(np.array_split(ysample_train, num_folds))  #y_train\n",
    "k_to_accuracies = {}\n",
    "num_test_sample=len(Xsample_train)/num_folds\n",
    "for k in k_choices:\n",
    "    print 'K = ', k, ' is processing' \n",
    "    for n in range(0,num_folds):\n",
    "        temp= [x for x in range(0,num_folds) if x != n]\n",
    "        X_train_dat=np.concatenate(X_train_folds[temp])\n",
    "        y_train_dat=np.concatenate(y_train_folds[temp])\n",
    "        neigh = KNeighborsClassifier(n_neighbors=k)\n",
    "        neigh.fit(X_train_dat, y_train_dat) \n",
    "        y_validation_pred = neigh.predict(X_train_folds[n])\n",
    "        # Compute and print the fraction of correctly predicted examples\n",
    "        num_correct = np.sum(y_validation_pred == y_train_folds[n])\n",
    "        accuracy = float(num_correct) / num_test_sample\n",
    "        k_to_accuracies.setdefault(k, []).append(accuracy)\n",
    "for k in sorted(k_to_accuracies):\n",
    "    for accuracy in k_to_accuracies[k]:\n",
    "        print 'k = %d, accuracy = %f' % (k, accuracy)\n",
    "    print 'mean of k=%d,accuracy=%f' %(k,np.mean(k_to_accuracies[k]))"
   ]
  },
  {
   "cell_type": "code",
   "execution_count": 56,
   "metadata": {
    "collapsed": false
   },
   "outputs": [
    {
     "name": "stdout",
     "output_type": "stream",
     "text": [
      "K =  1  is processing\n",
      "K =  3  is processing\n",
      "K =  5  is processing\n",
      "K =  8  is processing\n",
      "K =  10  is processing\n",
      "k = 1, accuracy = 0.910800\n",
      "k = 1, accuracy = 0.915200\n",
      "mean of k=1,accuracy=0.913000\n",
      "k = 3, accuracy = 0.909600\n",
      "k = 3, accuracy = 0.913600\n",
      "mean of k=3,accuracy=0.911600\n",
      "k = 5, accuracy = 0.914400\n",
      "k = 5, accuracy = 0.912800\n",
      "mean of k=5,accuracy=0.913600\n",
      "k = 8, accuracy = 0.908000\n",
      "k = 8, accuracy = 0.906400\n",
      "mean of k=8,accuracy=0.907200\n",
      "k = 10, accuracy = 0.903600\n",
      "k = 10, accuracy = 0.904000\n",
      "mean of k=10,accuracy=0.903800\n"
     ]
    }
   ],
   "source": [
    "#### full data, 2 folds\n",
    "num_folds = 2\n",
    "k_choices = [1, 3, 5, 8, 10]\n",
    "\n",
    "X_train_folds = []\n",
    "y_train_folds = []\n",
    "X_train_folds = np.array(np.array_split(Xsample_train, num_folds))  #X_train\n",
    "y_train_folds = np.array(np.array_split(ysample_train, num_folds))  #y_train\n",
    "k_to_accuracies = {}\n",
    "num_test_sample=len(Xsample_train)/num_folds\n",
    "for k in k_choices:\n",
    "    print 'K = ', k, ' is processing'\n",
    "    for n in range(0,num_folds):\n",
    "        temp= [x for x in range(0,num_folds) if x != n]\n",
    "        X_train_dat=np.concatenate(X_train_folds[temp])\n",
    "        y_train_dat=np.concatenate(y_train_folds[temp])\n",
    "        neigh = KNeighborsClassifier(n_neighbors=k)\n",
    "        neigh.fit(X_train_dat, y_train_dat) \n",
    "        y_validation_pred = neigh.predict(X_train_folds[n])\n",
    "        # Compute and print the fraction of correctly predicted examples\n",
    "        num_correct = np.sum(y_validation_pred == y_train_folds[n])\n",
    "        accuracy = float(num_correct) / num_test_sample\n",
    "        k_to_accuracies.setdefault(k, []).append(accuracy)\n",
    "for k in sorted(k_to_accuracies):\n",
    "    for accuracy in k_to_accuracies[k]:\n",
    "        print 'k = %d, accuracy = %f' % (k, accuracy)\n",
    "    print 'mean of k=%d,accuracy=%f' %(k,np.mean(k_to_accuracies[k]))"
   ]
  },
  {
   "cell_type": "code",
   "execution_count": 69,
   "metadata": {
    "collapsed": false
   },
   "outputs": [
    {
     "name": "stdout",
     "output_type": "stream",
     "text": [
      "K =  1  is processing\n",
      "K =  3  is processing\n",
      "K =  5  is processing\n",
      "K =  8  is processing\n",
      "K =  10  is processing\n",
      "mean of k=1,accuracy=0.933000\n",
      "mean of k=3,accuracy=0.935000\n",
      "mean of k=5,accuracy=0.931400\n",
      "mean of k=8,accuracy=0.928400\n",
      "mean of k=10,accuracy=0.927800\n"
     ]
    }
   ],
   "source": [
    "#### full data, leave one out\n",
    "num_folds = len(X_train2)\n",
    "k_choices = [1, 3, 5, 8, 10]\n",
    "\n",
    "X_train_folds = []\n",
    "y_train_folds = []\n",
    "X_train_folds = np.array(np.array_split(Xsample_train, num_folds))  #X_train\n",
    "y_train_folds = np.array(np.array_split(ysample_train, num_folds))  #y_train\n",
    "k_to_accuracies = {}\n",
    "num_test_sample=len(Xsample_train)/num_folds\n",
    "for k in k_choices:\n",
    "    print 'K = ', k, ' is processing'\n",
    "    for n in range(0,num_folds):\n",
    "        temp= [x for x in range(0,num_folds) if x != n]\n",
    "        X_train_dat=np.concatenate(X_train_folds[temp])\n",
    "        y_train_dat=np.concatenate(y_train_folds[temp])\n",
    "        neigh = KNeighborsClassifier(n_neighbors=k)\n",
    "        neigh.fit(X_train_dat, y_train_dat) \n",
    "        y_validation_pred = neigh.predict(X_train_folds[n])\n",
    "        # Compute and print the fraction of correctly predicted examples\n",
    "        num_correct = np.sum(y_validation_pred == y_train_folds[n])\n",
    "        accuracy = float(num_correct) / num_test_sample\n",
    "        k_to_accuracies.setdefault(k, []).append(accuracy)\n",
    "for k in sorted(k_to_accuracies):\n",
    "    #for accuracy in k_to_accuracies[k]:\n",
    "    #    print 'k = %d, accuracy = %f' % (k, accuracy)\n",
    "    print 'mean of k=%d,accuracy=%f' %(k,np.mean(k_to_accuracies[k]))"
   ]
  },
  {
   "cell_type": "markdown",
   "metadata": {},
   "source": [
    "50% training data TD"
   ]
  },
  {
   "cell_type": "code",
   "execution_count": 76,
   "metadata": {
    "collapsed": true
   },
   "outputs": [],
   "source": [
    "Xsample_train=X_train2[0:5000/2]\n",
    "ysample_train=y_train2[0:5000/2]"
   ]
  },
  {
   "cell_type": "code",
   "execution_count": 59,
   "metadata": {
    "collapsed": false
   },
   "outputs": [
    {
     "name": "stdout",
     "output_type": "stream",
     "text": [
      "K =  1  is processing\n",
      "K =  3  is processing\n",
      "K =  5  is processing\n",
      "K =  8  is processing\n",
      "K =  10  is processing\n",
      "k = 1, accuracy = 0.910000\n",
      "k = 1, accuracy = 0.896000\n",
      "k = 1, accuracy = 0.904000\n",
      "k = 1, accuracy = 0.916000\n",
      "k = 1, accuracy = 0.918000\n",
      "mean of k=1,accuracy=0.908800\n",
      "k = 3, accuracy = 0.920000\n",
      "k = 3, accuracy = 0.906000\n",
      "k = 3, accuracy = 0.902000\n",
      "k = 3, accuracy = 0.898000\n",
      "k = 3, accuracy = 0.906000\n",
      "mean of k=3,accuracy=0.906400\n",
      "k = 5, accuracy = 0.924000\n",
      "k = 5, accuracy = 0.910000\n",
      "k = 5, accuracy = 0.908000\n",
      "k = 5, accuracy = 0.910000\n",
      "k = 5, accuracy = 0.900000\n",
      "mean of k=5,accuracy=0.910400\n",
      "k = 8, accuracy = 0.914000\n",
      "k = 8, accuracy = 0.908000\n",
      "k = 8, accuracy = 0.906000\n",
      "k = 8, accuracy = 0.896000\n",
      "k = 8, accuracy = 0.894000\n",
      "mean of k=8,accuracy=0.903600\n",
      "k = 10, accuracy = 0.924000\n",
      "k = 10, accuracy = 0.900000\n",
      "k = 10, accuracy = 0.904000\n",
      "k = 10, accuracy = 0.896000\n",
      "k = 10, accuracy = 0.882000\n",
      "mean of k=10,accuracy=0.901200\n"
     ]
    }
   ],
   "source": [
    "#### 50 percent data, 5 folds\n",
    "num_folds = 5\n",
    "k_choices = [1, 3, 5, 8, 10]\n",
    "\n",
    "X_train_folds = []\n",
    "y_train_folds = []\n",
    "X_train_folds = np.array(np.array_split(Xsample_train, num_folds))  #X_train\n",
    "y_train_folds = np.array(np.array_split(ysample_train, num_folds))  #y_train\n",
    "k_to_accuracies = {}\n",
    "num_test_sample=len(Xsample_train)/5\n",
    "for k in k_choices:\n",
    "    print 'K = ', k, ' is processing' \n",
    "    for n in range(0,num_folds):\n",
    "        temp= [x for x in range(0,num_folds) if x != n]\n",
    "        X_train_dat=np.concatenate(X_train_folds[temp])\n",
    "        y_train_dat=np.concatenate(y_train_folds[temp])\n",
    "        neigh = KNeighborsClassifier(n_neighbors=k)\n",
    "        neigh.fit(X_train_dat, y_train_dat) \n",
    "        y_validation_pred = neigh.predict(X_train_folds[n])\n",
    "        # Compute and print the fraction of correctly predicted examples\n",
    "        num_correct = np.sum(y_validation_pred == y_train_folds[n])\n",
    "        accuracy = float(num_correct) / num_test_sample\n",
    "        k_to_accuracies.setdefault(k, []).append(accuracy)\n",
    "for k in sorted(k_to_accuracies):\n",
    "    print 'mean of k=%d,accuracy=%f' %(k,np.mean(k_to_accuracies[k]))"
   ]
  },
  {
   "cell_type": "code",
   "execution_count": 60,
   "metadata": {
    "collapsed": false
   },
   "outputs": [
    {
     "name": "stdout",
     "output_type": "stream",
     "text": [
      "K =  1  is processing\n",
      "K =  3  is processing\n",
      "K =  5  is processing\n",
      "K =  8  is processing\n",
      "K =  10  is processing\n",
      "k = 1, accuracy = 0.900800\n",
      "k = 1, accuracy = 0.892800\n",
      "mean of k=1,accuracy=0.896800\n",
      "k = 3, accuracy = 0.901600\n",
      "k = 3, accuracy = 0.876000\n",
      "mean of k=3,accuracy=0.888800\n",
      "k = 5, accuracy = 0.898400\n",
      "k = 5, accuracy = 0.872000\n",
      "mean of k=5,accuracy=0.885200\n",
      "k = 8, accuracy = 0.889600\n",
      "k = 8, accuracy = 0.865600\n",
      "mean of k=8,accuracy=0.877600\n",
      "k = 10, accuracy = 0.888000\n",
      "k = 10, accuracy = 0.863200\n",
      "mean of k=10,accuracy=0.875600\n"
     ]
    }
   ],
   "source": [
    "#### 50 percent data, 2 folds\n",
    "num_folds = 2\n",
    "k_choices = [1, 3, 5, 8, 10]\n",
    "\n",
    "X_train_folds = []\n",
    "y_train_folds = []\n",
    "X_train_folds = np.array(np.array_split(Xsample_train, num_folds))  #X_train\n",
    "y_train_folds = np.array(np.array_split(ysample_train, num_folds))  #y_train\n",
    "k_to_accuracies = {}\n",
    "num_test_sample=len(Xsample_train)/2\n",
    "for k in k_choices:\n",
    "    print 'K = ', k, ' is processing' \n",
    "    for n in range(0,num_folds):\n",
    "        temp= [x for x in range(0,num_folds) if x != n]\n",
    "        X_train_dat=np.concatenate(X_train_folds[temp])\n",
    "        y_train_dat=np.concatenate(y_train_folds[temp])\n",
    "        neigh = KNeighborsClassifier(n_neighbors=k)\n",
    "        neigh.fit(X_train_dat, y_train_dat) \n",
    "        y_validation_pred = neigh.predict(X_train_folds[n])\n",
    "        # Compute and print the fraction of correctly predicted examples\n",
    "        num_correct = np.sum(y_validation_pred == y_train_folds[n])\n",
    "        accuracy = float(num_correct) / num_test_sample\n",
    "        k_to_accuracies.setdefault(k, []).append(accuracy)\n",
    "for k in sorted(k_to_accuracies):\n",
    "    print 'mean of k=%d,accuracy=%f' %(k,np.mean(k_to_accuracies[k]))"
   ]
  },
  {
   "cell_type": "code",
   "execution_count": 77,
   "metadata": {
    "collapsed": false
   },
   "outputs": [
    {
     "name": "stdout",
     "output_type": "stream",
     "text": [
      "K =  1  is processing\n",
      "K =  3  is processing\n",
      "K =  5  is processing\n",
      "K =  8  is processing\n",
      "K =  10  is processing\n",
      "mean of k=1,accuracy=0.917600\n",
      "mean of k=3,accuracy=0.918000\n",
      "mean of k=5,accuracy=0.920800\n",
      "mean of k=8,accuracy=0.911600\n",
      "mean of k=10,accuracy=0.908800\n"
     ]
    }
   ],
   "source": [
    "#### 50 percent data, leave one out\n",
    "num_folds = len(Xsample_train)\n",
    "k_choices = [1, 3, 5, 8, 10]\n",
    "\n",
    "X_train_folds = []\n",
    "y_train_folds = []\n",
    "X_train_folds = np.array(np.array_split(Xsample_train, num_folds))  #X_train\n",
    "y_train_folds = np.array(np.array_split(ysample_train, num_folds))  #y_train\n",
    "k_to_accuracies = {}\n",
    "num_test_sample=len(Xsample_train)/num_folds\n",
    "for k in k_choices:\n",
    "    print 'K = ', k, ' is processing' \n",
    "    for n in range(0,num_folds):\n",
    "        temp= [x for x in range(0,num_folds) if x != n]\n",
    "        X_train_dat=np.concatenate(X_train_folds[temp])\n",
    "        y_train_dat=np.concatenate(y_train_folds[temp])\n",
    "        neigh = KNeighborsClassifier(n_neighbors=k)\n",
    "        neigh.fit(X_train_dat, y_train_dat) \n",
    "        y_validation_pred = neigh.predict(X_train_folds[n])\n",
    "        # Compute and print the fraction of correctly predicted examples\n",
    "        num_correct = np.sum(y_validation_pred == y_train_folds[n])\n",
    "        accuracy = float(num_correct) / num_test_sample\n",
    "        k_to_accuracies.setdefault(k, []).append(accuracy)\n",
    "for k in sorted(k_to_accuracies):\n",
    "    print 'mean of k=%d,accuracy=%f' %(k,np.mean(k_to_accuracies[k]))"
   ]
  },
  {
   "cell_type": "markdown",
   "metadata": {},
   "source": [
    "75% of TD"
   ]
  },
  {
   "cell_type": "code",
   "execution_count": 78,
   "metadata": {
    "collapsed": true
   },
   "outputs": [],
   "source": [
    "Xsample_train=X_train2[0:5000*3/4]\n",
    "ysample_train=y_train2[0:5000*3/4]"
   ]
  },
  {
   "cell_type": "code",
   "execution_count": 79,
   "metadata": {
    "collapsed": false
   },
   "outputs": [
    {
     "name": "stdout",
     "output_type": "stream",
     "text": [
      "mean of k=1,accuracy=0.921333\n",
      "mean of k=3,accuracy=0.921067\n",
      "mean of k=5,accuracy=0.920000\n",
      "mean of k=8,accuracy=0.919467\n",
      "mean of k=10,accuracy=0.917333\n"
     ]
    }
   ],
   "source": [
    "#### 75 percent data, 5 folds\n",
    "num_folds = 5\n",
    "k_choices = [1, 3, 5, 8, 10]\n",
    "\n",
    "X_train_folds = []\n",
    "y_train_folds = []\n",
    "X_train_folds = np.array(np.array_split(Xsample_train, num_folds))  #X_train\n",
    "y_train_folds = np.array(np.array_split(ysample_train, num_folds))  #y_train\n",
    "k_to_accuracies = {}\n",
    "num_test_sample=len(Xsample_train)/5\n",
    "for k in k_choices:\n",
    "    for n in range(0,num_folds):\n",
    "        temp= [x for x in range(0,num_folds) if x != n]\n",
    "        X_train_dat=np.concatenate(X_train_folds[temp])\n",
    "        y_train_dat=np.concatenate(y_train_folds[temp])\n",
    "        neigh = KNeighborsClassifier(n_neighbors=k)\n",
    "        neigh.fit(X_train_dat, y_train_dat) \n",
    "        y_validation_pred = neigh.predict(X_train_folds[n])\n",
    "        # Compute and print the fraction of correctly predicted examples\n",
    "        num_correct = np.sum(y_validation_pred == y_train_folds[n])\n",
    "        accuracy = float(num_correct) / num_test_sample\n",
    "        k_to_accuracies.setdefault(k, []).append(accuracy)\n",
    "for k in sorted(k_to_accuracies):\n",
    "    print 'mean of k=%d,accuracy=%f' %(k,np.mean(k_to_accuracies[k]))"
   ]
  },
  {
   "cell_type": "code",
   "execution_count": 80,
   "metadata": {
    "collapsed": false
   },
   "outputs": [
    {
     "name": "stdout",
     "output_type": "stream",
     "text": [
      "K =  1  is processing\n",
      "K =  3  is processing\n",
      "K =  5  is processing\n",
      "K =  8  is processing\n",
      "K =  10  is processing\n",
      "mean of k=1,accuracy=0.909067\n",
      "mean of k=3,accuracy=0.903467\n",
      "mean of k=5,accuracy=0.906933\n",
      "mean of k=8,accuracy=0.900800\n",
      "mean of k=10,accuracy=0.894933\n"
     ]
    }
   ],
   "source": [
    "#### 75 percent data, 2 folds\n",
    "num_folds = 2\n",
    "k_choices = [1, 3, 5, 8, 10]\n",
    "\n",
    "X_train_folds = []\n",
    "y_train_folds = []\n",
    "X_train_folds = np.array(np.array_split(Xsample_train, num_folds))  #X_train\n",
    "y_train_folds = np.array(np.array_split(ysample_train, num_folds))  #y_train\n",
    "k_to_accuracies = {}\n",
    "num_test_sample=len(Xsample_train)/2\n",
    "for k in k_choices:\n",
    "    print 'K = ', k, ' is processing' \n",
    "    for n in range(0,num_folds):\n",
    "        temp= [x for x in range(0,num_folds) if x != n]\n",
    "        X_train_dat=np.concatenate(X_train_folds[temp])\n",
    "        y_train_dat=np.concatenate(y_train_folds[temp])\n",
    "        neigh = KNeighborsClassifier(n_neighbors=k)\n",
    "        neigh.fit(X_train_dat, y_train_dat) \n",
    "        y_validation_pred = neigh.predict(X_train_folds[n])\n",
    "        # Compute and print the fraction of correctly predicted examples\n",
    "        num_correct = np.sum(y_validation_pred == y_train_folds[n])\n",
    "        accuracy = float(num_correct) / num_test_sample\n",
    "        k_to_accuracies.setdefault(k, []).append(accuracy)\n",
    "for k in sorted(k_to_accuracies):\n",
    "    print 'mean of k=%d,accuracy=%f' %(k,np.mean(k_to_accuracies[k]))"
   ]
  },
  {
   "cell_type": "code",
   "execution_count": 82,
   "metadata": {
    "collapsed": false
   },
   "outputs": [
    {
     "name": "stdout",
     "output_type": "stream",
     "text": [
      "K =  1  is processing\n",
      "K =  3  is processing\n",
      "K =  5  is processing\n",
      "K =  8  is processing\n",
      "K =  10  is processing\n",
      "mean of k=1,accuracy=0.925867\n",
      "mean of k=3,accuracy=0.928533\n",
      "mean of k=5,accuracy=0.926933\n",
      "mean of k=8,accuracy=0.926400\n",
      "mean of k=10,accuracy=0.922667\n"
     ]
    }
   ],
   "source": [
    "#### 75 percent data, leave one out\n",
    "num_folds = len(Xsample_train)\n",
    "k_choices = [1, 3, 5, 8, 10]\n",
    "\n",
    "X_train_folds = []\n",
    "y_train_folds = []\n",
    "X_train_folds = np.array(np.array_split(Xsample_train, num_folds))  #X_train\n",
    "y_train_folds = np.array(np.array_split(ysample_train, num_folds))  #y_train\n",
    "k_to_accuracies = {}\n",
    "num_test_sample=len(Xsample_train)/num_folds\n",
    "for k in k_choices:\n",
    "    print 'K = ', k, ' is processing'\n",
    "    for n in range(0,num_folds):\n",
    "        temp= [x for x in range(0,num_folds) if x != n]\n",
    "        X_train_dat=np.concatenate(X_train_folds[temp])\n",
    "        y_train_dat=np.concatenate(y_train_folds[temp])\n",
    "        neigh = KNeighborsClassifier(n_neighbors=k)\n",
    "        neigh.fit(X_train_dat, y_train_dat) \n",
    "        y_validation_pred = neigh.predict(X_train_folds[n])\n",
    "        # Compute and print the fraction of correctly predicted examples\n",
    "        num_correct = np.sum(y_validation_pred == y_train_folds[n])\n",
    "        accuracy = float(num_correct) / num_test_sample\n",
    "        k_to_accuracies.setdefault(k, []).append(accuracy)\n",
    "for k in sorted(k_to_accuracies):\n",
    "    print 'mean of k=%d,accuracy=%f' %(k,np.mean(k_to_accuracies[k]))"
   ]
  },
  {
   "cell_type": "markdown",
   "metadata": {},
   "source": [
    "#### euclidean distance"
   ]
  },
  {
   "cell_type": "code",
   "execution_count": 115,
   "metadata": {
    "collapsed": true
   },
   "outputs": [],
   "source": [
    "Xsample_train=X_train2[0:5000]\n",
    "ysample_train=y_train2[0:5000]"
   ]
  },
  {
   "cell_type": "code",
   "execution_count": 116,
   "metadata": {
    "collapsed": false
   },
   "outputs": [
    {
     "name": "stdout",
     "output_type": "stream",
     "text": [
      "K =  1  is processing\n",
      "K =  3  is processing\n",
      "K =  5  is processing\n",
      "K =  8  is processing\n",
      "K =  10  is processing\n",
      "k = 1, accuracy = 0.928000\n",
      "k = 1, accuracy = 0.918000\n",
      "k = 1, accuracy = 0.931000\n",
      "k = 1, accuracy = 0.933000\n",
      "k = 1, accuracy = 0.932000\n",
      "mean of k=1,accuracy=0.928400\n",
      "k = 3, accuracy = 0.934000\n",
      "k = 3, accuracy = 0.917000\n",
      "k = 3, accuracy = 0.923000\n",
      "k = 3, accuracy = 0.935000\n",
      "k = 3, accuracy = 0.921000\n",
      "mean of k=3,accuracy=0.926000\n",
      "k = 5, accuracy = 0.935000\n",
      "k = 5, accuracy = 0.923000\n",
      "k = 5, accuracy = 0.926000\n",
      "k = 5, accuracy = 0.937000\n",
      "k = 5, accuracy = 0.919000\n",
      "mean of k=5,accuracy=0.928000\n",
      "k = 8, accuracy = 0.923000\n",
      "k = 8, accuracy = 0.909000\n",
      "k = 8, accuracy = 0.924000\n",
      "k = 8, accuracy = 0.930000\n",
      "k = 8, accuracy = 0.915000\n",
      "mean of k=8,accuracy=0.920200\n",
      "k = 10, accuracy = 0.921000\n",
      "k = 10, accuracy = 0.907000\n",
      "k = 10, accuracy = 0.918000\n",
      "k = 10, accuracy = 0.925000\n",
      "k = 10, accuracy = 0.914000\n",
      "mean of k=10,accuracy=0.917000\n"
     ]
    }
   ],
   "source": [
    "#### full data, 5 folds\n",
    "num_folds = 5\n",
    "k_choices = [1, 3, 5, 8, 10]\n",
    "\n",
    "X_train_folds = []\n",
    "y_train_folds = []\n",
    "X_train_folds = np.array(np.array_split(Xsample_train, num_folds))  #X_train\n",
    "y_train_folds = np.array(np.array_split(ysample_train, num_folds))  #y_train\n",
    "k_to_accuracies = {}\n",
    "num_test_sample=len(Xsample_train)/num_folds\n",
    "for k in k_choices:\n",
    "    print 'K = ', k, ' is processing' \n",
    "    for n in range(0,num_folds):\n",
    "        temp= [x for x in range(0,num_folds) if x != n]\n",
    "        X_train_dat=np.concatenate(X_train_folds[temp])\n",
    "        y_train_dat=np.concatenate(y_train_folds[temp])\n",
    "        neigh = KNeighborsClassifier(n_neighbors=k, metric = 'euclidean')\n",
    "        neigh.fit(X_train_dat, y_train_dat) \n",
    "        y_validation_pred = neigh.predict(X_train_folds[n])\n",
    "        # Compute and print the fraction of correctly predicted examples\n",
    "        num_correct = np.sum(y_validation_pred == y_train_folds[n])\n",
    "        accuracy = float(num_correct) / num_test_sample\n",
    "        k_to_accuracies.setdefault(k, []).append(accuracy)\n",
    "for k in sorted(k_to_accuracies):\n",
    "    for accuracy in k_to_accuracies[k]:\n",
    "        print 'k = %d, accuracy = %f' % (k, accuracy)\n",
    "    print 'mean of k=%d,accuracy=%f' %(k,np.mean(k_to_accuracies[k]))"
   ]
  },
  {
   "cell_type": "markdown",
   "metadata": {},
   "source": [
    "#### Mahalanobis Distance"
   ]
  },
  {
   "cell_type": "code",
   "execution_count": 117,
   "metadata": {
    "collapsed": false
   },
   "outputs": [
    {
     "name": "stdout",
     "output_type": "stream",
     "text": [
      "K =  1  is processing\n",
      "K =  3  is processing\n",
      "K =  5  is processing\n",
      "K =  8  is processing\n",
      "K =  10  is processing\n"
     ]
    },
    {
     "ename": "KeyboardInterrupt",
     "evalue": "",
     "output_type": "error",
     "traceback": [
      "\u001b[0;31m---------------------------------------------------------------------------\u001b[0m",
      "\u001b[0;31mKeyboardInterrupt\u001b[0m                         Traceback (most recent call last)",
      "\u001b[0;32m<ipython-input-117-77995852f453>\u001b[0m in \u001b[0;36m<module>\u001b[0;34m()\u001b[0m\n\u001b[1;32m     17\u001b[0m         \u001b[0mneigh\u001b[0m \u001b[0;34m=\u001b[0m \u001b[0mKNeighborsClassifier\u001b[0m\u001b[0;34m(\u001b[0m\u001b[0mn_neighbors\u001b[0m\u001b[0;34m=\u001b[0m\u001b[0mk\u001b[0m\u001b[0;34m,\u001b[0m \u001b[0mmetric\u001b[0m \u001b[0;34m=\u001b[0m \u001b[0;34m'mahalanobis'\u001b[0m\u001b[0;34m,\u001b[0m \u001b[0mmetric_params\u001b[0m\u001b[0;34m=\u001b[0m\u001b[0;34m{\u001b[0m\u001b[0;34m'V'\u001b[0m\u001b[0;34m:\u001b[0m \u001b[0mnp\u001b[0m\u001b[0;34m.\u001b[0m\u001b[0mcov\u001b[0m\u001b[0;34m(\u001b[0m\u001b[0mX_train_dat\u001b[0m\u001b[0;34m.\u001b[0m\u001b[0mT\u001b[0m\u001b[0;34m)\u001b[0m\u001b[0;34m}\u001b[0m\u001b[0;34m)\u001b[0m\u001b[0;34m\u001b[0m\u001b[0m\n\u001b[1;32m     18\u001b[0m         \u001b[0mneigh\u001b[0m\u001b[0;34m.\u001b[0m\u001b[0mfit\u001b[0m\u001b[0;34m(\u001b[0m\u001b[0mX_train_dat\u001b[0m\u001b[0;34m,\u001b[0m \u001b[0my_train_dat\u001b[0m\u001b[0;34m)\u001b[0m\u001b[0;34m\u001b[0m\u001b[0m\n\u001b[0;32m---> 19\u001b[0;31m         \u001b[0my_validation_pred\u001b[0m \u001b[0;34m=\u001b[0m \u001b[0mneigh\u001b[0m\u001b[0;34m.\u001b[0m\u001b[0mpredict\u001b[0m\u001b[0;34m(\u001b[0m\u001b[0mX_train_folds\u001b[0m\u001b[0;34m[\u001b[0m\u001b[0mn\u001b[0m\u001b[0;34m]\u001b[0m\u001b[0;34m)\u001b[0m\u001b[0;34m\u001b[0m\u001b[0m\n\u001b[0m\u001b[1;32m     20\u001b[0m         \u001b[0;31m# Compute and print the fraction of correctly predicted examples\u001b[0m\u001b[0;34m\u001b[0m\u001b[0;34m\u001b[0m\u001b[0m\n\u001b[1;32m     21\u001b[0m         \u001b[0mnum_correct\u001b[0m \u001b[0;34m=\u001b[0m \u001b[0mnp\u001b[0m\u001b[0;34m.\u001b[0m\u001b[0msum\u001b[0m\u001b[0;34m(\u001b[0m\u001b[0my_validation_pred\u001b[0m \u001b[0;34m==\u001b[0m \u001b[0my_train_folds\u001b[0m\u001b[0;34m[\u001b[0m\u001b[0mn\u001b[0m\u001b[0;34m]\u001b[0m\u001b[0;34m)\u001b[0m\u001b[0;34m\u001b[0m\u001b[0m\n",
      "\u001b[0;32m/home/wen/anaconda2/lib/python2.7/site-packages/sklearn/neighbors/classification.pyc\u001b[0m in \u001b[0;36mpredict\u001b[0;34m(self, X)\u001b[0m\n\u001b[1;32m    143\u001b[0m         \u001b[0mX\u001b[0m \u001b[0;34m=\u001b[0m \u001b[0mcheck_array\u001b[0m\u001b[0;34m(\u001b[0m\u001b[0mX\u001b[0m\u001b[0;34m,\u001b[0m \u001b[0maccept_sparse\u001b[0m\u001b[0;34m=\u001b[0m\u001b[0;34m'csr'\u001b[0m\u001b[0;34m)\u001b[0m\u001b[0;34m\u001b[0m\u001b[0m\n\u001b[1;32m    144\u001b[0m \u001b[0;34m\u001b[0m\u001b[0m\n\u001b[0;32m--> 145\u001b[0;31m         \u001b[0mneigh_dist\u001b[0m\u001b[0;34m,\u001b[0m \u001b[0mneigh_ind\u001b[0m \u001b[0;34m=\u001b[0m \u001b[0mself\u001b[0m\u001b[0;34m.\u001b[0m\u001b[0mkneighbors\u001b[0m\u001b[0;34m(\u001b[0m\u001b[0mX\u001b[0m\u001b[0;34m)\u001b[0m\u001b[0;34m\u001b[0m\u001b[0m\n\u001b[0m\u001b[1;32m    146\u001b[0m \u001b[0;34m\u001b[0m\u001b[0m\n\u001b[1;32m    147\u001b[0m         \u001b[0mclasses_\u001b[0m \u001b[0;34m=\u001b[0m \u001b[0mself\u001b[0m\u001b[0;34m.\u001b[0m\u001b[0mclasses_\u001b[0m\u001b[0;34m\u001b[0m\u001b[0m\n",
      "\u001b[0;32m/home/wen/anaconda2/lib/python2.7/site-packages/sklearn/neighbors/base.pyc\u001b[0m in \u001b[0;36mkneighbors\u001b[0;34m(self, X, n_neighbors, return_distance)\u001b[0m\n\u001b[1;32m    379\u001b[0m                 delayed(self._tree.query, check_pickle=False)(\n\u001b[1;32m    380\u001b[0m                     X[s], n_neighbors, return_distance)\n\u001b[0;32m--> 381\u001b[0;31m                 \u001b[0;32mfor\u001b[0m \u001b[0ms\u001b[0m \u001b[0;32min\u001b[0m \u001b[0mgen_even_slices\u001b[0m\u001b[0;34m(\u001b[0m\u001b[0mX\u001b[0m\u001b[0;34m.\u001b[0m\u001b[0mshape\u001b[0m\u001b[0;34m[\u001b[0m\u001b[0;36m0\u001b[0m\u001b[0;34m]\u001b[0m\u001b[0;34m,\u001b[0m \u001b[0mn_jobs\u001b[0m\u001b[0;34m)\u001b[0m\u001b[0;34m\u001b[0m\u001b[0m\n\u001b[0m\u001b[1;32m    382\u001b[0m             )\n\u001b[1;32m    383\u001b[0m             \u001b[0;32mif\u001b[0m \u001b[0mreturn_distance\u001b[0m\u001b[0;34m:\u001b[0m\u001b[0;34m\u001b[0m\u001b[0m\n",
      "\u001b[0;32m/home/wen/anaconda2/lib/python2.7/site-packages/sklearn/externals/joblib/parallel.pyc\u001b[0m in \u001b[0;36m__call__\u001b[0;34m(self, iterable)\u001b[0m\n\u001b[1;32m    756\u001b[0m             \u001b[0;31m# was dispatched. In particular this covers the edge\u001b[0m\u001b[0;34m\u001b[0m\u001b[0;34m\u001b[0m\u001b[0m\n\u001b[1;32m    757\u001b[0m             \u001b[0;31m# case of Parallel used with an exhausted iterator.\u001b[0m\u001b[0;34m\u001b[0m\u001b[0;34m\u001b[0m\u001b[0m\n\u001b[0;32m--> 758\u001b[0;31m             \u001b[0;32mwhile\u001b[0m \u001b[0mself\u001b[0m\u001b[0;34m.\u001b[0m\u001b[0mdispatch_one_batch\u001b[0m\u001b[0;34m(\u001b[0m\u001b[0miterator\u001b[0m\u001b[0;34m)\u001b[0m\u001b[0;34m:\u001b[0m\u001b[0;34m\u001b[0m\u001b[0m\n\u001b[0m\u001b[1;32m    759\u001b[0m                 \u001b[0mself\u001b[0m\u001b[0;34m.\u001b[0m\u001b[0m_iterating\u001b[0m \u001b[0;34m=\u001b[0m \u001b[0mTrue\u001b[0m\u001b[0;34m\u001b[0m\u001b[0m\n\u001b[1;32m    760\u001b[0m             \u001b[0;32melse\u001b[0m\u001b[0;34m:\u001b[0m\u001b[0;34m\u001b[0m\u001b[0m\n",
      "\u001b[0;32m/home/wen/anaconda2/lib/python2.7/site-packages/sklearn/externals/joblib/parallel.pyc\u001b[0m in \u001b[0;36mdispatch_one_batch\u001b[0;34m(self, iterator)\u001b[0m\n\u001b[1;32m    606\u001b[0m                 \u001b[0;32mreturn\u001b[0m \u001b[0mFalse\u001b[0m\u001b[0;34m\u001b[0m\u001b[0m\n\u001b[1;32m    607\u001b[0m             \u001b[0;32melse\u001b[0m\u001b[0;34m:\u001b[0m\u001b[0;34m\u001b[0m\u001b[0m\n\u001b[0;32m--> 608\u001b[0;31m                 \u001b[0mself\u001b[0m\u001b[0;34m.\u001b[0m\u001b[0m_dispatch\u001b[0m\u001b[0;34m(\u001b[0m\u001b[0mtasks\u001b[0m\u001b[0;34m)\u001b[0m\u001b[0;34m\u001b[0m\u001b[0m\n\u001b[0m\u001b[1;32m    609\u001b[0m                 \u001b[0;32mreturn\u001b[0m \u001b[0mTrue\u001b[0m\u001b[0;34m\u001b[0m\u001b[0m\n\u001b[1;32m    610\u001b[0m \u001b[0;34m\u001b[0m\u001b[0m\n",
      "\u001b[0;32m/home/wen/anaconda2/lib/python2.7/site-packages/sklearn/externals/joblib/parallel.pyc\u001b[0m in \u001b[0;36m_dispatch\u001b[0;34m(self, batch)\u001b[0m\n\u001b[1;32m    569\u001b[0m         \u001b[0mdispatch_timestamp\u001b[0m \u001b[0;34m=\u001b[0m \u001b[0mtime\u001b[0m\u001b[0;34m.\u001b[0m\u001b[0mtime\u001b[0m\u001b[0;34m(\u001b[0m\u001b[0;34m)\u001b[0m\u001b[0;34m\u001b[0m\u001b[0m\n\u001b[1;32m    570\u001b[0m         \u001b[0mcb\u001b[0m \u001b[0;34m=\u001b[0m \u001b[0mBatchCompletionCallBack\u001b[0m\u001b[0;34m(\u001b[0m\u001b[0mdispatch_timestamp\u001b[0m\u001b[0;34m,\u001b[0m \u001b[0mlen\u001b[0m\u001b[0;34m(\u001b[0m\u001b[0mbatch\u001b[0m\u001b[0;34m)\u001b[0m\u001b[0;34m,\u001b[0m \u001b[0mself\u001b[0m\u001b[0;34m)\u001b[0m\u001b[0;34m\u001b[0m\u001b[0m\n\u001b[0;32m--> 571\u001b[0;31m         \u001b[0mjob\u001b[0m \u001b[0;34m=\u001b[0m \u001b[0mself\u001b[0m\u001b[0;34m.\u001b[0m\u001b[0m_backend\u001b[0m\u001b[0;34m.\u001b[0m\u001b[0mapply_async\u001b[0m\u001b[0;34m(\u001b[0m\u001b[0mbatch\u001b[0m\u001b[0;34m,\u001b[0m \u001b[0mcallback\u001b[0m\u001b[0;34m=\u001b[0m\u001b[0mcb\u001b[0m\u001b[0;34m)\u001b[0m\u001b[0;34m\u001b[0m\u001b[0m\n\u001b[0m\u001b[1;32m    572\u001b[0m         \u001b[0mself\u001b[0m\u001b[0;34m.\u001b[0m\u001b[0m_jobs\u001b[0m\u001b[0;34m.\u001b[0m\u001b[0mappend\u001b[0m\u001b[0;34m(\u001b[0m\u001b[0mjob\u001b[0m\u001b[0;34m)\u001b[0m\u001b[0;34m\u001b[0m\u001b[0m\n\u001b[1;32m    573\u001b[0m \u001b[0;34m\u001b[0m\u001b[0m\n",
      "\u001b[0;32m/home/wen/anaconda2/lib/python2.7/site-packages/sklearn/externals/joblib/_parallel_backends.pyc\u001b[0m in \u001b[0;36mapply_async\u001b[0;34m(self, func, callback)\u001b[0m\n\u001b[1;32m    107\u001b[0m     \u001b[0;32mdef\u001b[0m \u001b[0mapply_async\u001b[0m\u001b[0;34m(\u001b[0m\u001b[0mself\u001b[0m\u001b[0;34m,\u001b[0m \u001b[0mfunc\u001b[0m\u001b[0;34m,\u001b[0m \u001b[0mcallback\u001b[0m\u001b[0;34m=\u001b[0m\u001b[0mNone\u001b[0m\u001b[0;34m)\u001b[0m\u001b[0;34m:\u001b[0m\u001b[0;34m\u001b[0m\u001b[0m\n\u001b[1;32m    108\u001b[0m         \u001b[0;34m\"\"\"Schedule a func to be run\"\"\"\u001b[0m\u001b[0;34m\u001b[0m\u001b[0m\n\u001b[0;32m--> 109\u001b[0;31m         \u001b[0mresult\u001b[0m \u001b[0;34m=\u001b[0m \u001b[0mImmediateResult\u001b[0m\u001b[0;34m(\u001b[0m\u001b[0mfunc\u001b[0m\u001b[0;34m)\u001b[0m\u001b[0;34m\u001b[0m\u001b[0m\n\u001b[0m\u001b[1;32m    110\u001b[0m         \u001b[0;32mif\u001b[0m \u001b[0mcallback\u001b[0m\u001b[0;34m:\u001b[0m\u001b[0;34m\u001b[0m\u001b[0m\n\u001b[1;32m    111\u001b[0m             \u001b[0mcallback\u001b[0m\u001b[0;34m(\u001b[0m\u001b[0mresult\u001b[0m\u001b[0;34m)\u001b[0m\u001b[0;34m\u001b[0m\u001b[0m\n",
      "\u001b[0;32m/home/wen/anaconda2/lib/python2.7/site-packages/sklearn/externals/joblib/_parallel_backends.pyc\u001b[0m in \u001b[0;36m__init__\u001b[0;34m(self, batch)\u001b[0m\n\u001b[1;32m    324\u001b[0m         \u001b[0;31m# Don't delay the application, to avoid keeping the input\u001b[0m\u001b[0;34m\u001b[0m\u001b[0;34m\u001b[0m\u001b[0m\n\u001b[1;32m    325\u001b[0m         \u001b[0;31m# arguments in memory\u001b[0m\u001b[0;34m\u001b[0m\u001b[0;34m\u001b[0m\u001b[0m\n\u001b[0;32m--> 326\u001b[0;31m         \u001b[0mself\u001b[0m\u001b[0;34m.\u001b[0m\u001b[0mresults\u001b[0m \u001b[0;34m=\u001b[0m \u001b[0mbatch\u001b[0m\u001b[0;34m(\u001b[0m\u001b[0;34m)\u001b[0m\u001b[0;34m\u001b[0m\u001b[0m\n\u001b[0m\u001b[1;32m    327\u001b[0m \u001b[0;34m\u001b[0m\u001b[0m\n\u001b[1;32m    328\u001b[0m     \u001b[0;32mdef\u001b[0m \u001b[0mget\u001b[0m\u001b[0;34m(\u001b[0m\u001b[0mself\u001b[0m\u001b[0;34m)\u001b[0m\u001b[0;34m:\u001b[0m\u001b[0;34m\u001b[0m\u001b[0m\n",
      "\u001b[0;32m/home/wen/anaconda2/lib/python2.7/site-packages/sklearn/externals/joblib/parallel.pyc\u001b[0m in \u001b[0;36m__call__\u001b[0;34m(self)\u001b[0m\n\u001b[1;32m    129\u001b[0m \u001b[0;34m\u001b[0m\u001b[0m\n\u001b[1;32m    130\u001b[0m     \u001b[0;32mdef\u001b[0m \u001b[0m__call__\u001b[0m\u001b[0;34m(\u001b[0m\u001b[0mself\u001b[0m\u001b[0;34m)\u001b[0m\u001b[0;34m:\u001b[0m\u001b[0;34m\u001b[0m\u001b[0m\n\u001b[0;32m--> 131\u001b[0;31m         \u001b[0;32mreturn\u001b[0m \u001b[0;34m[\u001b[0m\u001b[0mfunc\u001b[0m\u001b[0;34m(\u001b[0m\u001b[0;34m*\u001b[0m\u001b[0margs\u001b[0m\u001b[0;34m,\u001b[0m \u001b[0;34m**\u001b[0m\u001b[0mkwargs\u001b[0m\u001b[0;34m)\u001b[0m \u001b[0;32mfor\u001b[0m \u001b[0mfunc\u001b[0m\u001b[0;34m,\u001b[0m \u001b[0margs\u001b[0m\u001b[0;34m,\u001b[0m \u001b[0mkwargs\u001b[0m \u001b[0;32min\u001b[0m \u001b[0mself\u001b[0m\u001b[0;34m.\u001b[0m\u001b[0mitems\u001b[0m\u001b[0;34m]\u001b[0m\u001b[0;34m\u001b[0m\u001b[0m\n\u001b[0m\u001b[1;32m    132\u001b[0m \u001b[0;34m\u001b[0m\u001b[0m\n\u001b[1;32m    133\u001b[0m     \u001b[0;32mdef\u001b[0m \u001b[0m__len__\u001b[0m\u001b[0;34m(\u001b[0m\u001b[0mself\u001b[0m\u001b[0;34m)\u001b[0m\u001b[0;34m:\u001b[0m\u001b[0;34m\u001b[0m\u001b[0m\n",
      "\u001b[0;31mKeyboardInterrupt\u001b[0m: "
     ]
    }
   ],
   "source": [
    "#### full data, 5 folds\n",
    "num_folds = 5\n",
    "k_choices = [1, 3, 5, 8, 10]\n",
    "\n",
    "X_train_folds = []\n",
    "y_train_folds = []\n",
    "X_train_folds = np.array(np.array_split(Xsample_train, num_folds))  #X_train\n",
    "y_train_folds = np.array(np.array_split(ysample_train, num_folds))  #y_train\n",
    "k_to_accuracies = {}\n",
    "num_test_sample=len(Xsample_train)/num_folds\n",
    "for k in k_choices:\n",
    "    print 'K = ', k, ' is processing' \n",
    "    for n in range(0,num_folds):\n",
    "        temp= [x for x in range(0,num_folds) if x != n]\n",
    "        X_train_dat=np.concatenate(X_train_folds[temp])\n",
    "        y_train_dat=np.concatenate(y_train_folds[temp])\n",
    "        neigh = KNeighborsClassifier(n_neighbors=k, metric = 'mahalanobis', metric_params={'V': np.cov(X_train_dat.T)})\n",
    "        neigh.fit(X_train_dat, y_train_dat) \n",
    "        y_validation_pred = neigh.predict(X_train_folds[n])\n",
    "        # Compute and print the fraction of correctly predicted examples\n",
    "        num_correct = np.sum(y_validation_pred == y_train_folds[n])\n",
    "        accuracy = float(num_correct) / num_test_sample\n",
    "        k_to_accuracies.setdefault(k, []).append(accuracy)\n",
    "for k in sorted(k_to_accuracies):\n",
    "    for accuracy in k_to_accuracies[k]:\n",
    "        print 'k = %d, accuracy = %f' % (k, accuracy)\n",
    "    print 'mean of k=%d,accuracy=%f' %(k,np.mean(k_to_accuracies[k]))"
   ]
  },
  {
   "cell_type": "markdown",
   "metadata": {},
   "source": [
    "test set on best model"
   ]
  },
  {
   "cell_type": "code",
   "execution_count": 147,
   "metadata": {
    "collapsed": false
   },
   "outputs": [
    {
     "name": "stdout",
     "output_type": "stream",
     "text": [
      "0.935\n"
     ]
    }
   ],
   "source": [
    "neigh = KNeighborsClassifier(n_neighbors=5)\n",
    "neigh.fit(X_train2, y_train2) \n",
    "y_validation_pred = neigh.predict(X_test2[0:200])\n",
    "# Compute and print the fraction of correctly predicted examples\n",
    "num_correct = np.sum(y_validation_pred == y_test[0:200])\n",
    "print float(num_correct) / 200"
   ]
  },
  {
   "cell_type": "code",
   "execution_count": null,
   "metadata": {
    "collapsed": true
   },
   "outputs": [],
   "source": []
  }
 ],
 "metadata": {
  "kernelspec": {
   "display_name": "Python 2",
   "language": "python",
   "name": "python2"
  },
  "language_info": {
   "codemirror_mode": {
    "name": "ipython",
    "version": 2
   },
   "file_extension": ".py",
   "mimetype": "text/x-python",
   "name": "python",
   "nbconvert_exporter": "python",
   "pygments_lexer": "ipython2",
   "version": "2.7.13"
  }
 },
 "nbformat": 4,
 "nbformat_minor": 2
}
